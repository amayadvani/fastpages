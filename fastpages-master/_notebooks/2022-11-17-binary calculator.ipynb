{
 "cells": [
  {
   "cell_type": "markdown",
   "metadata": {},
   "source": [
    "# Python Binary Calculator\n",
    "\n",
    "- title: Binary Calculator\n",
    "- toc: true\n",
    "- author: Amay Advani"
   ]
  },
  {
   "cell_type": "code",
   "execution_count": 3,
   "metadata": {},
   "outputs": [
    {
     "name": "stdout",
     "output_type": "stream",
     "text": [
      "The decimal value of the number is 4\n"
     ]
    }
   ],
   "source": [
    "num = list(input(\"Input a binary number: \"))\n",
    "x = 0\n",
    "\n",
    "for i in range(len(num)):\n",
    "\tdigit = num.pop()\n",
    "\tif digit == '1':\n",
    "\t\tx = x + pow(2, i)\n",
    "print(\"The decimal value of the number is\", x)"
   ]
  }
 ],
 "metadata": {
  "kernelspec": {
   "display_name": "Python 3.8.10 64-bit",
   "language": "python",
   "name": "python3"
  },
  "language_info": {
   "codemirror_mode": {
    "name": "ipython",
    "version": 3
   },
   "file_extension": ".py",
   "mimetype": "text/x-python",
   "name": "python",
   "nbconvert_exporter": "python",
   "pygments_lexer": "ipython3",
   "version": "3.8.10"
  },
  "orig_nbformat": 4,
  "vscode": {
   "interpreter": {
    "hash": "916dbcbb3f70747c44a77c7bcd40155683ae19c65e1c03b4aa3499c5328201f1"
   }
  }
 },
 "nbformat": 4,
 "nbformat_minor": 2
}
