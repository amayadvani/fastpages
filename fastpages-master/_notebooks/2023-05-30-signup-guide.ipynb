{
 "cells": [
  {
   "attachments": {},
   "cell_type": "markdown",
   "metadata": {},
   "source": [
    "# Sign Up Guide!\n",
    "> Step by step proccess explaining how to make a Sign Up page for any given site. \n",
    "- toc: true\n",
    "- author: Amay Advani"
   ]
  },
  {
   "attachments": {},
   "cell_type": "markdown",
   "metadata": {},
   "source": [
    "## Frontend Code\n",
    "\n",
    "1. The code starts with the basic HTML structure, including the necessary CSS styles for the sign-up page.\n",
    "\n",
    "2. Inside the div class=\"container\" element, there is an h1 heading and a <form> with an id attribute set to \"signupForm\".\n",
    "\n",
    "3. The form includes three input fields: name, username, and password. Each input field has an id attribute assigned to it.\n",
    "\n",
    "4. There is a \"Sign Up\" button with an id attribute set to \"signupBtn\". The button has an onclick event handler that calls the create_user() function.\n",
    "\n",
    "5. Below the form, there is a \"Login\" button with an id attribute set to \"LoginBtn\". The button has an onclick event handler that calls the redirect() function."
   ]
  },
  {
   "cell_type": "code",
   "execution_count": null,
   "metadata": {
    "vscode": {
     "languageId": "html"
    }
   },
   "outputs": [],
   "source": [
    "<head>\n",
    "   <title>ALAAT Sign Up Page</title>\n",
    "   <style>\n",
    "     /* CSS styles for the login page */\n",
    "     .container {\n",
    "       display: flex;\n",
    "       flex-direction: column;\n",
    "       align-items: center;\n",
    "       justify-content: center;\n",
    "       height: 100vh;\n",
    "     }\n",
    "     h1 {\n",
    "       color: #333;\n",
    "     }\n",
    "     input[type=\"text\"],\n",
    "     input[type=\"password\"] {\n",
    "       width: 300px;\n",
    "       padding: 10px;\n",
    "       margin: 10px;\n",
    "       border: 1px solid #ccc;\n",
    "       border-radius: 4px;\n",
    "     }\n",
    "     button {\n",
    "       padding: 10px 20px;\n",
    "       background-color: #333;\n",
    "       color: #fff;\n",
    "       border: none;\n",
    "       border-radius: 4px;\n",
    "       cursor: pointer;\n",
    "     }\n",
    "   </style>\n",
    " </head>\n",
    " <body>\n",
    "   <div class=\"container\">\n",
    "     <h1>Sign Up</h1>\n",
    "     <form id=\"signupForm\">\n",
    "       <input type=\"text\" id=\"nameInput\" placeholder=\"Name\">\n",
    "       <input type=\"text\" id=\"uidInput\" placeholder=\"Username\">\n",
    "       <input type=\"password\" id=\"passwordInput\" placeholder=\"Password\">\n",
    "       <button id=\"signupBtn\" onclick=\"create_user()\">Sign Up</button>\n",
    "    </form>\n",
    "       <button onclick=\"redirect()\" id=\"LoginBtn\">Login</button>\n",
    "   </div>"
   ]
  },
  {
   "attachments": {},
   "cell_type": "markdown",
   "metadata": {},
   "source": [
    "6. The JavaScript code begins with the redirect() function, which redirects the user to the login page when the \"Login\" button is clicked. It uses window.location.href to change the page URL.\n",
    "\n",
    "7. The code defines a base URL for the API requests, which is \"https://alaat.duckdns.org/api/users\". This URL is used to construct different API endpoints for CRUD operations.\n",
    "\n",
    "8. The create_user() function is defined. It is called when the \"Sign Up\" button is clicked. Inside this function, the user's input values for name, username, and password are retrieved."
   ]
  },
  {
   "cell_type": "code",
   "execution_count": null,
   "metadata": {
    "vscode": {
     "languageId": "html"
    }
   },
   "outputs": [],
   "source": [
    "<script>\n",
    "   function redirect(){\n",
    "   window.location.href = '{{ site.baseurl }}/login.html';\n",
    "   }\n",
    "   //const resultContainer = document.getElementById(\"result\");\n",
    "     // set up base URL to make it easier to use and implement\n",
    "     const url = \"https://alaat.duckdns.org/api/users\"\n",
    "   \n",
    "     const create_fetch = url + '/';\n",
    "     const read_fetch = url + '/';\n",
    "     const delete_fetch = url + '/delete';\n",
    "     const patch_fetch = url + '/update';\n",
    "    // const read_button = document.getElementById(\"read_button\");\n",
    "     // const criteria = document.getElementById(\"criteria\")\n",
    "     // Display a fact pair\n",
    "   \n",
    "   function create_user(){\n",
    "       const body = {\n",
    "           name: document.getElementById(\"nameInput\").value,\n",
    "           uid: document.getElementById(\"uidInput\").value,\n",
    "           password: document.getElementById(\"passwordInput\").value,\n",
    "       };\n",
    "       const requestOptions = {\n",
    "           method: 'POST',\n",
    "           body: JSON.stringify(body),\n",
    "           mode: 'cors', // headers for cors policy\n",
    "           cache: 'default', // cahe header\n",
    "           credentials: 'omit', // header for credentials\n",
    "           headers: {\n",
    "               \"content-type\": \"application/json\",\n",
    "               'Authorization': 'Bearer my-token',\n",
    "           },\n",
    "       };\n",
    "       fetch(create_fetch, requestOptions)\n",
    "         .then(response => {\n",
    "           // check if errors\n",
    "           if (response.status !== 200) {\n",
    "             const errorMsg = 'Database create error: ' + response.status;\n",
    "             console.log(errorMsg);\n",
    "             const tr = document.createElement(\"tr\");\n",
    "             const td = document.createElement(\"td\");\n",
    "             td.innerHTML = errorMsg;\n",
    "             tr.appendChild(td);\n",
    "             resultContainer.appendChild(tr);\n",
    "             return;\n",
    "           }\n",
    "       })\n",
    "     }\n",
    "   </script>\n",
    "   </html>"
   ]
  },
  {
   "attachments": {},
   "cell_type": "markdown",
   "metadata": {},
   "source": [
    "## Backend \n",
    "\n",
    "9. The user data is stored in the body object. Then, the fetch() function is used to make a POST request to the API endpoint for creating a user. The request includes the necessary headers, request options, and the user data in the request body.\n",
    "\n",
    "10. The response from the API is checked to see if any errors occurred. If the response status is not 200 (OK), an error message is logged to the console. Otherwise, if the response is successful, the user is created."
   ]
  },
  {
   "attachments": {},
   "cell_type": "markdown",
   "metadata": {},
   "source": [
    "### API\n",
    "\n",
    "It should be known that to be able to sent this to an API you must have a backend that hosts a dictionary of these users, otherwise this type of sign up wouldnt be possible. "
   ]
  }
 ],
 "metadata": {
  "language_info": {
   "name": "python"
  },
  "orig_nbformat": 4
 },
 "nbformat": 4,
 "nbformat_minor": 2
}
