{
 "cells": [
  {
   "cell_type": "markdown",
   "metadata": {},
   "source": [
    "# Fibbonacci Sequence Hacks\n",
    "- toc: true\n",
    "- badges: true\n",
    "- comments: true"
   ]
  },
  {
   "cell_type": "markdown",
   "metadata": {},
   "source": [
    "## Fibonacci Sequence Python Algorithm  "
   ]
  },
  {
   "cell_type": "code",
   "execution_count": 4,
   "metadata": {},
   "outputs": [
    {
     "name": "stdout",
     "output_type": "stream",
     "text": [
      "0\n",
      "1\n",
      "1\n",
      "2\n",
      "3\n",
      "5\n",
      "8\n",
      "13\n",
      "21\n",
      "34\n",
      "55\n",
      "89\n",
      "144\n",
      "233\n",
      "377\n",
      "610\n",
      "987\n",
      "1597\n",
      "2584\n",
      "4181\n"
     ]
    }
   ],
   "source": [
    "\n",
    "def fib(num): # define function parameter = num\n",
    "   if num == 0 or num == 1: # if num is equal to 1 or 0, then just return them\n",
    "      return num\n",
    "   return fib(num - 1) + fib(num - 2)  # else add the numbers 1 and 2 before the original one\n",
    "\n",
    "for i in range(20): #loop 20 times \n",
    "   print(fib(i))"
   ]
  },
  {
   "cell_type": "markdown",
   "metadata": {},
   "source": [
    "<html>\n",
    "<script>\n",
    "   const = num // define parameter\n",
    "   function(fib){ // define function\n",
    "      if(num === 0 || num === 1){\n",
    "         return num\n",
    "       return fib(num - 1) + fib(num - 2)\n",
    "      }\n",
    "   }\n",
    "   for(i=0; i,<num; i++){\n",
    "      print(fib(i))\n",
    "   }\n",
    "\n",
    "</script>\n",
    "</html>"
   ]
  },
  {
   "cell_type": "code",
   "execution_count": 1,
   "metadata": {},
   "outputs": [
    {
     "name": "stdout",
     "output_type": "stream",
     "text": [
      "0\n",
      "1\n",
      "1\n",
      "2\n",
      "3\n",
      "5\n",
      "8\n",
      "13\n",
      "21\n",
      "34\n",
      "55\n",
      "89\n",
      "144\n",
      "233\n",
      "377\n",
      "610\n",
      "987\n",
      "1597\n",
      "2584\n",
      "4181\n"
     ]
    }
   ],
   "source": [
    "function fib(num){\n",
    "   if(num === 0 || num === 1){\n",
    "      return num\n",
    "   }\n",
    "   return fib(num - 1) + fib(num - 2)\n",
    "}\n",
    "for(i=0; i<20; i++){\n",
    "   console.log(fib(i))\n",
    "}"
   ]
  }
 ],
 "metadata": {
  "kernelspec": {
   "display_name": "JavaScript (Node.js)",
   "language": "javascript",
   "name": "javascript"
  },
  "language_info": {
   "file_extension": ".js",
   "mimetype": "application/javascript",
   "name": "javascript",
   "version": "6.11.2"
  },
  "orig_nbformat": 4,
  "vscode": {
   "interpreter": {
    "hash": "916dbcbb3f70747c44a77c7bcd40155683ae19c65e1c03b4aa3499c5328201f1"
   }
  }
 },
 "nbformat": 4,
 "nbformat_minor": 2
}
