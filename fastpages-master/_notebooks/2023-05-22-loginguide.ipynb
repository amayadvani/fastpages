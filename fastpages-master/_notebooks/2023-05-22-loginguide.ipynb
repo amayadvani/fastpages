{
 "cells": [
  {
   "attachments": {},
   "cell_type": "markdown",
   "metadata": {},
   "source": [
    "# Login Guide!\n",
    "> Step by step proccess explaining how to make a login page for any given site. \n",
    "- toc: true\n",
    "- author: Amay Advani"
   ]
  },
  {
   "attachments": {},
   "cell_type": "markdown",
   "metadata": {},
   "source": [
    "### 1. HTML Structure: 30 mins\n",
    "\n",
    "The code begins with <!DOCTYPE html>, which declares the document type as HTML.\n",
    "The html tags enclose the entire HTML content.\n",
    "Inside the html tags, we have the head and body sections.\n",
    "\n",
    "### 2. head Section:\n",
    "\n",
    "The head section contains metadata and external resources.\n",
    "The title element sets the title of the web page, which will be displayed on the browser's title bar.\n",
    "\n",
    "### 3. CSS Styling: 1 hour with trial and error\n",
    "\n",
    "The code includes a style block to define CSS styles for the login page.\n",
    "The .container class sets up a container div with flexbox properties to center the content both vertically and horizontally.\n",
    "The h1 tag styles the login heading with a color of 333.\n",
    "The CSS rules for input[type=\"text\"] and input[type=\"password\"] specify the width, padding, margin, border, and border-radius for the input fields.\n",
    "The button selector defines styles for the login button.\n",
    "\n",
    "### 4. body Section:\n",
    "\n",
    "The body section contains the visible content of the web page.\n",
    "The login page is wrapped within a div element with a class of \"container\".\n",
    "Inside the container, there is an h1 element displaying the heading \"Login\".\n",
    "A form element with an id of \"loginForm\" wraps the login inputs and the submit button."
   ]
  },
  {
   "cell_type": "code",
   "execution_count": null,
   "metadata": {
    "vscode": {
     "languageId": "html"
    }
   },
   "outputs": [],
   "source": [
    "<html>\n",
    "<head>\n",
    "  <title>ALAAT Login Page</title>\n",
    "  <style>\n",
    "    /* CSS styles for the login page */\n",
    "    .container {\n",
    "      display: flex;\n",
    "      flex-direction: column;\n",
    "      align-items: center;\n",
    "      justify-content: center;\n",
    "      height: 100vh;\n",
    "    }\n",
    "    h1 {\n",
    "      color: #333;\n",
    "    }\n",
    "    input[type=\"text\"],\n",
    "    input[type=\"password\"] {\n",
    "      width: 300px;\n",
    "      padding: 10px;\n",
    "      margin: 10px;\n",
    "      border: 1px solid #ccc;\n",
    "      border-radius: 4px;\n",
    "    }\n",
    "    button {\n",
    "      padding: 10px 20px;\n",
    "      background-color: #333;\n",
    "      color: #fff;\n",
    "      border: none;\n",
    "      border-radius: 4px;\n",
    "      cursor: pointer;\n",
    "    }\n",
    "  </style>\n",
    "  </head>"
   ]
  },
  {
   "attachments": {},
   "cell_type": "markdown",
   "metadata": {},
   "source": [
    "**HTML and CSS Example**"
   ]
  },
  {
   "attachments": {},
   "cell_type": "markdown",
   "metadata": {},
   "source": [
    "### 5.Form Inputs: 30 mins\n",
    "\n",
    "Inside the form, there are two input fields:\n",
    "The first input field has type=\"text\" and an id of \"usernameInput\". It is used for entering the username.\n",
    "The second input field has type=\"password\" and an id of \"passwordInput\". It is used for entering the password.\n",
    "Both input fields have a placeholder attribute that provides a hint to the user about what to enter.\n",
    "\n",
    "### 6. Login Button:\n",
    "\n",
    "The code includes a button element with an id of \"loginBtn\". It represents the login button.\n"
   ]
  },
  {
   "cell_type": "code",
   "execution_count": null,
   "metadata": {
    "vscode": {
     "languageId": "html"
    }
   },
   "outputs": [],
   "source": [
    "<body>\n",
    "   <div class=\"container\">\n",
    "     <h1>Login</h1>\n",
    "     <form id=\"loginForm\">\n",
    "       <input type=\"text\" id=\"usernameInput\" placeholder=\"Username\">\n",
    "       <input type=\"password\" id=\"passwordInput\" placeholder=\"Password\">\n",
    "       <button id=\"loginBtn\">Login</button>\n",
    "     </form>\n",
    "   </div> "
   ]
  },
  {
   "attachments": {},
   "cell_type": "markdown",
   "metadata": {},
   "source": [
    "### 7. JavaScript Section: 1 hour\n",
    "\n",
    "The script block contains JavaScript code that adds interactivity to the login page.\n",
    "The JavaScript code is executed when the DOMContentLoaded event is fired, which ensures that the page has finished loading before the script runs.\n",
    "\n",
    "### 8. User Dictionary:\n",
    "\n",
    "The code declares a JavaScript variable named users which is a dictionary object.\n",
    "The users object stores username-password pairs as key-value pairs.\n",
    "In this example, the usernames and passwords are defined as group members first and last names. \n",
    "\n",
    "### 9. Event Listeners and Handling:\n",
    "\n",
    "The code attaches an event listener to the login form using the addEventListener method.\n",
    "When the form is submitted, the event listener callback function is executed.\n",
    "The callback function prevents the default form submission behavior using event.preventDefault().\n",
    "It retrieves the values of the username and password input fields.\n",
    "It checks if the entered username exists in the users dictionary and if the associated password matches.\n",
    "If the credentials are valid, the page is redirected to YouTube (https://www.youtube.com) using window.location.href.\n",
    "If the credentials are invalid, an alert is displayed to the user."
   ]
  },
  {
   "cell_type": "code",
   "execution_count": null,
   "metadata": {
    "vscode": {
     "languageId": "html"
    }
   },
   "outputs": [],
   "source": [
    "<script>\n",
    "   // Dictionary to store username-password pairs\n",
    "   var users = {\n",
    "     \"amay\": \"advani\",\n",
    "     \"arnav\": \"kanekar\",\n",
    "     \"taiyo\": \"iwazaki\",\n",
    "     \"adi\": \"nawandhar\",\n",
    "     \"liav\": \"bar\"\n",
    "   };\n",
    "   document.addEventListener('DOMContentLoaded', function() {\n",
    "     var loginForm = document.getElementById('loginForm');\n",
    "     var usernameInput = document.getElementById('usernameInput');\n",
    "     var passwordInput = document.getElementById('passwordInput');\n",
    "\n",
    "     loginForm.addEventListener('submit', function(event) {\n",
    "       event.preventDefault(); // Prevent form submission\n",
    "\n",
    "       var username = usernameInput.value;\n",
    "       var password = passwordInput.value;\n",
    "\n",
    "       // Check if the username and password match\n",
    "       if (users.hasOwnProperty(username) && users[username] === password) {\n",
    "         window.location.href = 'https://www.youtube.com'; // Redirect to YouTube\n",
    "       } else {\n",
    "         alert(\"Your username or password is wrong. Do better next time!\");\n",
    "       }\n",
    "     });\n",
    "   });\n",
    " </script>"
   ]
  },
  {
   "attachments": {},
   "cell_type": "markdown",
   "metadata": {},
   "source": [
    "### Login Backend!!\n",
    "\n",
    "1. The code is enclosed within the DOMContentLoaded event listener, which ensures that the JavaScript code runs after the HTML document has finished loading.\n",
    "\n",
    "2. It starts by getting references to the login form and input fields for username, password, and name using their respective id attributes.\n",
    "\n",
    "3. An event listener is added to the login form's submit event using the addEventListener method. This event listener will execute the provided callback function when the form is submitted.\n",
    "\n",
    "4. Within the callback function, event.preventDefault() is called to prevent the default form submission behavior, which would cause the page to reload.\n",
    "\n",
    "5. The values entered by the user in the username, password, and name input fields are retrieved and stored in the respective variables.\n",
    "\n",
    "6. A GET request is made using the fetch function to retrieve user data from the specified API endpoint, \"https://alaat.duckdns.org/api/users\".\n",
    "\n",
    "7. The response from the API is converted to JSON format using the response.json() method.\n",
    "\n",
    "8. In the following then block, a variable userFound is initialized as false to track whether a matching user is found.\n",
    "\n",
    "9. A loop is used to iterate over each user object in the data array obtained from the API response.\n",
    "\n",
    "10. Within the loop, the name property of each user object is compared to the name variable entered by the user.\n",
    "\n",
    "11. If a matching user is found (the name values match), the userFound variable is set to true, and the loop is terminated using the break statement.\n",
    "\n",
    "12. After the loop, an if-else statement checks the value of userFound.\n",
    "\n",
    "13. If userFound is true, it means a matching user was found, and the page is redirected to the desired page (in this case, imagedrop.html) using window.location.href.\n",
    "\n",
    "14. If userFound is false, an alert is displayed indicating that the username, password, or name is incorrect.\n",
    "\n",
    "15. The code also includes a catch block to handle any errors that may occur during the fetch request or response handling. If an error occurs, it is logged to the console, and an alert is displayed to the user indicating that an error occurred while logging in."
   ]
  },
  {
   "cell_type": "code",
   "execution_count": null,
   "metadata": {
    "vscode": {
     "languageId": "html"
    }
   },
   "outputs": [],
   "source": [
    "<script>\n",
    "   document.addEventListener('DOMContentLoaded', function() {\n",
    "     var loginForm = document.getElementById('loginForm');\n",
    "     var usernameInput = document.getElementById('usernameInput');\n",
    "     var passwordInput = document.getElementById('passwordInput');\n",
    "     var nameInput = document.getElementById('nameInput');\n",
    "\n",
    "     loginForm.addEventListener('submit', function(event) {\n",
    "       event.preventDefault(); // Prevent form submission\n",
    "\n",
    "       var username = usernameInput.value;\n",
    "       var password = passwordInput.value;\n",
    "       var name = nameInput.value;\n",
    "\n",
    "       // Make the GET request to retrieve user data\n",
    "       fetch(\"https://alaat.duckdns.org/api/users\")\n",
    "         .then(response => response.json())\n",
    "         .then(data => {\n",
    "           var userFound = false;\n",
    "\n",
    "           // Iterate over the array of users\n",
    "           for (var i = 0; i < data.length; i++) {\n",
    "             var user = data[i];\n",
    "\n",
    "             // Check if the username, password, and name match for the current user\n",
    "             if (user.username === username && user.password === password && user.name === name) {\n",
    "               userFound = true;\n",
    "               break;\n",
    "             }\n",
    "           }\n",
    "\n",
    "           if (userFound) {\n",
    "             window.location.href = '{{ site.baseurl }}/imagedrop.html'; // Redirect to the desired page\n",
    "           } else {\n",
    "             alert(\"Your username, password, or name is incorrect. Please try again.\");\n",
    "           }\n",
    "         })\n",
    "         .catch(error => {\n",
    "           console.error(error);\n",
    "           alert(\"An error occurred while logging in. Please try again later.\");\n",
    "         });\n",
    "     });\n",
    "   });\n",
    " </script>"
   ]
  },
  {
   "attachments": {},
   "cell_type": "markdown",
   "metadata": {},
   "source": [
    "### Challenges + Changes 1 hour\n",
    "\n",
    "Intially, when I started to code this feature, I was planning on encorperating a backend function to let different users create their owne accounts and login using an API. But as our group thought through this, we realized that only admin logins were needed for the photo upload and tagging. \n",
    "\n",
    "A solution I came up with is to replace the use of an API with regular dictionary that used usernames as keys, and passwords as values. This soulution also decreased complexity and helps with the effiency of our program as a whole. "
   ]
  },
  {
   "attachments": {},
   "cell_type": "markdown",
   "metadata": {},
   "source": [
    "### API\n",
    "\n",
    "It should be known that to be able to get this from an API you must have a backend that hosts a dictionary of these users, otherwise this type of sign up wouldnt be possible. "
   ]
  }
 ],
 "metadata": {
  "language_info": {
   "name": "python"
  },
  "orig_nbformat": 4
 },
 "nbformat": 4,
 "nbformat_minor": 2
}
