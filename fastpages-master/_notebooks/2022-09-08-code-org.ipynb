{
 "cells": [
  {
   "cell_type": "markdown",
   "metadata": {},
   "source": [
    "# Program Design with code.org lab\n",
    "> Blogging my experience\n",
    "\n",
    "- toc: true\n",
    "- comments: true\n",
    "- categories: [jupyter, week3]\n",
    "- author: Amay Advani"
   ]
  },
  {
   "cell_type": "markdown",
   "metadata": {},
   "source": [
    "## Code.org Link\n",
    "\n",
    "[Link for App Lab Quiz](https://studio.code.org/projects/applab/lGXN5M6PCQyTsxnK5Eoh9smKzj_h86vf0KLN5Pw3aWY)\n",
    "\n",
    "<iframe width=\"392\" height=\"620\" style=\"border: 0px;\" src=\"https://studio.code.org/projects/applab/lGXN5M6PCQyTsxnK5Eoh9smKzj_h86vf0KLN5Pw3aWY/embed\"></iframe>"
   ]
  },
  {
   "cell_type": "markdown",
   "metadata": {},
   "source": [
    "## Intial Thoughts\n",
    "\n",
    "At first when I heard about this assignment I wanted to start with the code right away, although, I soon realized that I would have to make my design first to define all my needed variables"
   ]
  },
  {
   "cell_type": "markdown",
   "metadata": {},
   "source": [
    "## Design\n",
    "\n",
    "I choose the preset theme, *glow in the dark*, because I wanted to make my quiz unique. \n",
    "\n",
    "Although when I started dragging buttons and text-boxes i ran into issues defining buttons because I would define the same button to do two different things at different places in the code. I had to rethink my design and how I would generally go about the creation of the quiz.\n",
    "\n",
    "Before, whether the user would see another screen when clicking the right or wrong answer, then switch to the next question. But, there would be the same button would be defined multiple times.\n",
    "\n",
    "To fix this problem, instead of making the code switch to another screen to indicate whether the right or wrong answer was given, I added a label and made the label display correct or incorrect."
   ]
  },
  {
   "cell_type": "markdown",
   "metadata": {},
   "source": [
    "## Code\n",
    "\n",
    "For the code of this website was originally on block code, but I changed mine to regular javascript, because it is easier to work with and define variables and run code. In addition, I added a percentage checker so that after you take the test, it will show how many u got right. Everything the user picks the correct answer, the a variable is had one added onto it.\n",
    "\n",
    "1) First I defined the variables a and q to define the # of answers correct and # of questions in total. "
   ]
  },
  {
   "cell_type": "code",
   "execution_count": null,
   "metadata": {
    "vscode": {
     "languageId": "javascript"
    }
   },
   "outputs": [],
   "source": [
    "var q = 3;\n",
    "var a = 0;"
   ]
  },
  {
   "cell_type": "markdown",
   "metadata": {},
   "source": [
    "2) Second I added a function that asks the user if they are ready to take the quiz or not. If they clicked yes, the screen would change to the first questions. But if the user clicked no, then they would be taken to separate screen just to say, \"Seems like you aren't ready for the python quiz\". "
   ]
  },
  {
   "cell_type": "code",
   "execution_count": null,
   "metadata": {
    "vscode": {
     "languageId": "javascript"
    }
   },
   "outputs": [],
   "source": [
    "onEvent(\"button1\", \"click\", function( ) {\n",
    "   setScreen(\"screen2\");\n",
    " });\n",
    " onEvent(\"button2\", \"click\", function( ) {\n",
    "   setScreen(\"screen7\");\n",
    " });"
   ]
  },
  {
   "cell_type": "markdown",
   "metadata": {},
   "source": [
    "3) After these two steps, the rest of the code is mostly the same due to repetitive button clicking and screen switching. Whenever the user would click the wrong answer, a textbox would display words saying, \"Incorrect\", but when they clicked the right one, it would display, \"Correct\". THe user has the choice to skip and go to the next question at anytime via radio button. "
   ]
  },
  {
   "cell_type": "code",
   "execution_count": null,
   "metadata": {
    "vscode": {
     "languageId": "javascript"
    }
   },
   "outputs": [],
   "source": [
    "\n",
    "onEvent(\"button16\", \"click\", function( ) {\n",
    "   setText(\"label3\", \"INCORRECT\");\n",
    " });\n",
    " \n",
    " onEvent(\"button14\", \"click\", function( ) {\n",
    "   setText(\"label3\", \"INCORRECT\");\n",
    " });\n",
    " onEvent(\"button15\", \"click\", function( ) {\n",
    "   a = a+1 ;\n",
    "   setText(\"label3\", \"CORRECT!\");\n",
    " });\n",
    " onEvent(\"button17\", \"click\", function( ) {\n",
    "   setText(\"label3\", \"INCORRECT\");\n",
    " });\n",
    " \n",
    " onEvent(\"radio_button3\", \"click\", function( ) {\n",
    "   setScreen(\"screen4\");\n",
    " });"
   ]
  },
  {
   "cell_type": "markdown",
   "metadata": {},
   "source": [
    "4) After the end of the quiz, I switched the screen to the final screen and calculated the percentage just by dividing the a and q variables defined in the first steps. "
   ]
  },
  {
   "cell_type": "code",
   "execution_count": null,
   "metadata": {
    "vscode": {
     "languageId": "javascript"
    }
   },
   "outputs": [],
   "source": [
    "onEvent(\"radio_button4\", \"click\", function( ) {\n",
    "   setScreen(\"screen8\");\n",
    " });\n",
    " \n",
    " var x = a/q ;\n",
    " \n",
    " setText(\"label5\", \"Good job you scored a\"+ x +\"3!\");"
   ]
  },
  {
   "cell_type": "markdown",
   "metadata": {},
   "source": [
    "## Extra Python quiz\n",
    "\n",
    "To show my interest and expertise in this topic, I creates another quiz off python in my notebook. \n",
    "\n",
    "Here is the [link](https://amayadvani.github.io/fastpages/jupyter/week3/2022/09/11/python-extra-quiz.html)"
   ]
  }
 ],
 "metadata": {
  "kernelspec": {
   "display_name": "Python 3.8.10 64-bit",
   "language": "python",
   "name": "python3"
  },
  "language_info": {
   "name": "python",
   "version": "3.8.10"
  },
  "orig_nbformat": 4,
  "vscode": {
   "interpreter": {
    "hash": "916dbcbb3f70747c44a77c7bcd40155683ae19c65e1c03b4aa3499c5328201f1"
   }
  }
 },
 "nbformat": 4,
 "nbformat_minor": 2
}
