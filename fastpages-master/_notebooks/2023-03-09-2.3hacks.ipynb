{
 "cells": [
  {
   "attachments": {},
   "cell_type": "markdown",
   "metadata": {},
   "source": [
    "# 2.3 Hacks\n",
    "> week 25 hacks\n",
    "- toc:true \n",
    "- badges: true \n",
    "- comments: true\n",
    "- author: Amay Advani"
   ]
  },
  {
   "attachments": {},
   "cell_type": "markdown",
   "metadata": {},
   "source": [
    "## AP Prep/Notes\n",
    "\n",
    "College Board talks about ideas like\n",
    "- Tools. \n",
    "      \"the ability to process data depends on users capabilities and their tools\"\n",
    "- Combining Data. \n",
    "      \"combine county data sets\"\n",
    "- Status on Data\n",
    "      \"determining the artist with the greatest attendance during a particular month\"\n",
    "- Data poses challenge.\n",
    "      \"the need to clean data\", \"incomplete data\"\n",
    "\n",
    "## Pandas and Data Frame"
   ]
  },
  {
   "cell_type": "code",
   "execution_count": 2,
   "metadata": {},
   "outputs": [
    {
     "name": "stdout",
     "output_type": "stream",
     "text": [
      "     RANK                     NAME TEAM  POS   AGE  GP   MPG  USG%    TO%  \\\n",
      "0       1              Joel Embiid  Phi  C-F  29.0  54  35.0  37.3   14.4   \n",
      "1       2              Luka Doncic  Dal  F-G  24.0  57  36.3  38.2   14.3   \n",
      "2       3           Damian Lillard  Por    G  32.7  54  36.3  33.8   13.5   \n",
      "3       4    Giannis Antetokounmpo  Mil    F  28.3  52  32.5  38.9   16.2   \n",
      "4       5  Shai Gilgeous-Alexander  Okc  G-F  24.7  57  35.6  32.7   12.4   \n",
      "..    ...                      ...  ...  ...   ...  ..   ...   ...    ...   \n",
      "578   579          Marko Simonovic  Chi    C  23.4   3   1.5   9.6    0.0   \n",
      "579   580         Alondes Williams  Bro    G  23.7   1   5.3  16.8  100.0   \n",
      "580   581        Lindell Wigginton  Mil    G  25.0   1   0.7   0.0    NaN   \n",
      "581   582           Omer Yurtseven  Mia    C  24.7   1   7.2   6.1    0.0   \n",
      "582   583           Jamaree Bouyea  Was    G  23.7   1   5.5   7.9    0.0   \n",
      "\n",
      "     FTA  ...  APG  SPG  BPG  TPG   P+R   P+A  P+R+A    VI   ORtg   DRtg  \n",
      "0    644  ...  4.1  1.1  1.6  3.4  43.4  37.5   47.5  12.7  123.4  103.8  \n",
      "1    629  ...  8.0  1.5  0.5  3.7  41.6  41.0   49.6  14.5  120.6  108.4  \n",
      "2    508  ...  7.3  0.9  0.3  3.2  36.8  39.4   44.1  11.4  127.7  116.2  \n",
      "3    659  ...  5.5  0.7  0.8  4.0  43.1  36.7   48.6  15.6  115.8   99.2  \n",
      "4    610  ...  5.6  1.7  1.1  2.9  36.0  36.8   41.6  10.6  124.7  109.5  \n",
      "..   ...  ...  ...  ...  ...  ...   ...   ...    ...   ...    ...    ...  \n",
      "578    0  ...  0.0  0.0  0.0  0.0   0.0   0.0    0.0   0.0    NaN    NaN  \n",
      "579    0  ...  0.0  0.0  0.0  2.0   1.0   0.0    1.0   0.0    NaN   97.8  \n",
      "580    0  ...  0.0  0.0  0.0  0.0   0.0   0.0    0.0   0.0    NaN    NaN  \n",
      "581    0  ...  0.0  0.0  0.0  0.0   1.0   0.0    1.0   0.0   69.3  105.6  \n",
      "582    0  ...  0.0  0.0  0.0  0.0   1.0   0.0    1.0   0.0    0.0   99.1  \n",
      "\n",
      "[583 rows x 29 columns]\n"
     ]
    }
   ],
   "source": [
    "import pandas as pd\n",
    "\n",
    "df = pd.read_csv('nba.csv')\n",
    "\n",
    "print(df)"
   ]
  },
  {
   "cell_type": "code",
   "execution_count": 13,
   "metadata": {},
   "outputs": [
    {
     "name": "stdout",
     "output_type": "stream",
     "text": [
      "     RANK                     NAME TEAM  POS   AGE  GP   MPG  USG%    TO%  FTA\n",
      "0       1              Joel Embiid  Phi  C-F  29.0  54  35.0  37.3   14.4  644\n",
      "1       2              Luka Doncic  Dal  F-G  24.0  57  36.3  38.2   14.3  629\n",
      "2       3           Damian Lillard  Por    G  32.7  54  36.3  33.8   13.5  508\n",
      "3       4    Giannis Antetokounmpo  Mil    F  28.3  52  32.5  38.9   16.2  659\n",
      "4       5  Shai Gilgeous-Alexander  Okc  G-F  24.7  57  35.6  32.7   12.4  610\n",
      "..    ...                      ...  ...  ...   ...  ..   ...   ...    ...  ...\n",
      "578   579          Marko Simonovic  Chi    C  23.4   3   1.5   9.6    0.0    0\n",
      "579   580         Alondes Williams  Bro    G  23.7   1   5.3  16.8  100.0    0\n",
      "580   581        Lindell Wigginton  Mil    G  25.0   1   0.7   0.0    NaN    0\n",
      "581   582           Omer Yurtseven  Mia    C  24.7   1   7.2   6.1    0.0    0\n",
      "582   583           Jamaree Bouyea  Was    G  23.7   1   5.5   7.9    0.0    0\n",
      "\n",
      "[583 rows x 10 columns]\n"
     ]
    }
   ],
   "source": [
    "import pandas as pd\n",
    "\n",
    "df = pd.read_csv('nba.csv')\n",
    "\n",
    "df2 = df.drop(['FT%', '2PA', '2P%', '3PA', '3P%', 'eFG%', 'TS%', 'PPG', 'RPG', 'APG', 'SPG', 'BPG', 'TPG', 'P+R', 'P+A', 'P+R+A', 'VI', 'ORtg', 'DRtg'], axis=1)\n",
    "\n",
    "print(df2)"
   ]
  },
  {
   "cell_type": "code",
   "execution_count": 22,
   "metadata": {},
   "outputs": [
    {
     "name": "stdout",
     "output_type": "stream",
     "text": [
      "\n",
      "--Oldest Top 10---------\n",
      "\n",
      "     RANK            NAME TEAM  POS   AGE  GP   MPG  USG%   TO%  FTA\n",
      "568   569   Udonis Haslem  Mia    F  42.8   6   7.6  12.5   0.0    2\n",
      "528   529  Andre Iguodala  Gol  G-F  39.1   7  13.8   9.1  42.9    0\n",
      "8       9    LeBron James  Lal    F  38.2  47  36.1  33.2  12.2  295\n",
      "447   448     P.J. Tucker  Phi    F  37.9  64  25.7   6.3  17.0   22\n",
      "117   118      Chris Paul  Pho    G  37.9  46  32.1  19.2  15.6  137\n",
      "450   451      Taj Gibson  Was    F  37.7  41   9.9  15.3  16.5   36\n",
      "145   146      Kyle Lowry  Mia    G  37.0  45  33.3  17.0  17.1  119\n",
      "437   438     George Hill  Ind    G  36.9   3  14.1  10.9  27.3    0\n",
      "375   376     George Hill  Mil    G  36.9  35  19.1  11.3  16.9   46\n",
      "307   308    Goran Dragic  Chi    G  36.9  50  15.6  20.9  15.6   41\n",
      "\n",
      "--Youngest Bottom 10------\n",
      "\n",
      "     RANK              NAME TEAM POS   AGE  GP   MPG  USG%   TO%  FTA\n",
      "171   172     Jeremy Sochan  San   F  19.8  53  26.3  19.5  15.1  108\n",
      "259   260    Shaedon Sharpe  Por   G  19.8  67  20.5  16.7  10.6   60\n",
      "346   347     Ousmane Dieng  Okc   F  19.8  25  16.4  15.4  10.5   17\n",
      "211   212    Malaki Branham  San   F  19.8  52  22.3  18.1  12.1   50\n",
      "138   139  Jabari Smith Jr.  Hou   F  19.8  64  30.3  18.4  11.4  163\n",
      "461   462   Dominick Barlow  San   F  19.8  14  11.0  12.6  19.4   13\n",
      "532   533     Kendall Brown  Ind   G  19.8   6   6.7  10.3  21.7    2\n",
      "535   536      Trevor Keels  Nyk   G  19.5   2   2.0  33.0   0.0    0\n",
      "225   226        AJ Griffin  Atl   F  19.5  60  19.7  17.7   7.1   34\n",
      "232   233       Jalen Duren  Det   C  19.3  54  24.9  13.4  17.9  123\n"
     ]
    }
   ],
   "source": [
    "import pandas as pd\n",
    "\n",
    "\n",
    "#read csv and sort 'Duration' largest to smallest\n",
    "df3 = df2.sort_values(by=['AGE'], ascending=False)\n",
    "\n",
    "print(\"\\n\"+\"--Oldest Top 10---------\" + \"\\n\") \n",
    "\n",
    "print(df3.head(10))\n",
    "\n",
    "print(\"\\n\"+ \"--Youngest Bottom 10------\" + \"\\n\")\n",
    "\n",
    "print(df3.tail(10))"
   ]
  },
  {
   "cell_type": "code",
   "execution_count": 26,
   "metadata": {},
   "outputs": [
    {
     "name": "stdout",
     "output_type": "stream",
     "text": [
      "<class 'pandas.core.frame.DataFrame'>\n",
      "RangeIndex: 583 entries, 0 to 582\n",
      "Data columns (total 10 columns):\n",
      " #   Column  Non-Null Count  Dtype  \n",
      "---  ------  --------------  -----  \n",
      " 0   RANK    583 non-null    int64  \n",
      " 1   NAME    583 non-null    object \n",
      " 2   TEAM    583 non-null    object \n",
      " 3   POS     583 non-null    object \n",
      " 4   AGE     583 non-null    float64\n",
      " 5   GP      583 non-null    int64  \n",
      " 6   MPG     583 non-null    float64\n",
      " 7   USG%    583 non-null    float64\n",
      " 8   TO%     581 non-null    float64\n",
      " 9   FTA     583 non-null    int64  \n",
      "dtypes: float64(4), int64(3), object(3)\n",
      "memory usage: 45.7+ KB\n",
      "None\n"
     ]
    }
   ],
   "source": [
    "print(df2.info())"
   ]
  },
  {
   "cell_type": "code",
   "execution_count": 24,
   "metadata": {},
   "outputs": [
    {
     "name": "stdout",
     "output_type": "stream",
     "text": [
      "-------------Dict_to_DF------------------\n",
      "     Safin   Johnny\n",
      "0       16       16\n",
      "1  7132006  6222006\n",
      "2        1        1\n",
      "----------Dict_to_DF_labels--------------\n",
      "            Safin   Johnny\n",
      "age            16       16\n",
      "bday      7132006  6222006\n",
      "siblings        1        1\n"
     ]
    }
   ],
   "source": [
    "import pandas as pd\n",
    "\n",
    "#the data can be stored as a python dictionary\n",
    "dict = {\n",
    "  \"Safin\": [16, 7132006, 1],\n",
    "  \"Johnny\": [16, 6222006, 1]\n",
    "}\n",
    "#stores the data in a data frame\n",
    "print(\"-------------Dict_to_DF------------------\")\n",
    "df = pd.DataFrame(dict)\n",
    "print(df)\n",
    "\n",
    "print(\"----------Dict_to_DF_labels--------------\")\n",
    "\n",
    "#or with the index argument, you can label rows.\n",
    "df = pd.DataFrame(dict, index = [\"age\", \"bday\", \"siblings\"])\n",
    "print(df)"
   ]
  },
  {
   "cell_type": "code",
   "execution_count": 25,
   "metadata": {},
   "outputs": [
    {
     "name": "stdout",
     "output_type": "stream",
     "text": [
      "<class 'pandas.core.frame.DataFrame'>\n",
      "Index: 3 entries, age to siblings\n",
      "Data columns (total 2 columns):\n",
      " #   Column  Non-Null Count  Dtype\n",
      "---  ------  --------------  -----\n",
      " 0   Safin   3 non-null      int64\n",
      " 1   Johnny  3 non-null      int64\n",
      "dtypes: int64(2)\n",
      "memory usage: 72.0+ bytes\n",
      "None\n"
     ]
    }
   ],
   "source": [
    "print(df.info())"
   ]
  }
 ],
 "metadata": {
  "kernelspec": {
   "display_name": "base",
   "language": "python",
   "name": "python3"
  },
  "language_info": {
   "codemirror_mode": {
    "name": "ipython",
    "version": 3
   },
   "file_extension": ".py",
   "mimetype": "text/x-python",
   "name": "python",
   "nbconvert_exporter": "python",
   "pygments_lexer": "ipython3",
   "version": "3.9.12"
  },
  "orig_nbformat": 4
 },
 "nbformat": 4,
 "nbformat_minor": 2
}
