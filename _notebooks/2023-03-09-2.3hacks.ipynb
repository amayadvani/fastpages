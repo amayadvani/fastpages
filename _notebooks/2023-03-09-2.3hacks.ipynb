{
 "cells": [
  {
   "attachments": {},
   "cell_type": "markdown",
   "metadata": {},
   "source": [
    "# 2.3 Hacks\n",
    "> week 25 hacks\n",
    "- toc:true \n",
    "- badges: true \n",
    "- comments: true\n",
    "- author: Amay Advani"
   ]
  },
  {
   "attachments": {},
   "cell_type": "markdown",
   "metadata": {},
   "source": [
    "## AP Prep/Notes\n",
    "\n",
    "College Board talks about ideas like\n",
    "- Tools. \n",
    "      \"the ability to process data depends on users capabilities and their tools\"\n",
    "- Combining Data. \n",
    "      \"combine county data sets\"\n",
    "- Status on Data\n",
    "      \"determining the artist with the greatest attendance during a particular month\"\n",
    "- Data poses challenge.\n",
    "      \"the need to clean data\", \"incomplete data\"\n",
    "\n",
    "## Pandas and Data Frame"
   ]
  },
  {
   "cell_type": "code",
   "execution_count": 1,
   "metadata": {},
   "outputs": [
    {
     "name": "stdout",
     "output_type": "stream",
     "text": [
      "{\"message\":\"You are not subscribed to this API.\"}\n"
     ]
    }
   ],
   "source": [
    "import requests\n",
    "\n",
    "url = \"https://api-nba-v1.p.rapidapi.com/seasons\"\n",
    "\n",
    "headers = {\n",
    "\t\"X-RapidAPI-Key\": \"c1c04d301amshae9837f1f9f2f96p16c078jsn674cc5d8a3f9\",\n",
    "\t\"X-RapidAPI-Host\": \"api-nba-v1.p.rapidapi.com\"\n",
    "}\n",
    "\n",
    "response = requests.request(\"GET\", url, headers=headers)\n",
    "\n",
    "print(response.text)"
   ]
  },
  {
   "cell_type": "code",
   "execution_count": null,
   "metadata": {},
   "outputs": [],
   "source": []
  }
 ],
 "metadata": {
  "kernelspec": {
   "display_name": "base",
   "language": "python",
   "name": "python3"
  },
  "language_info": {
   "codemirror_mode": {
    "name": "ipython",
    "version": 3
   },
   "file_extension": ".py",
   "mimetype": "text/x-python",
   "name": "python",
   "nbconvert_exporter": "python",
   "pygments_lexer": "ipython3",
   "version": "3.9.12"
  },
  "orig_nbformat": 4
 },
 "nbformat": 4,
 "nbformat_minor": 2
}
