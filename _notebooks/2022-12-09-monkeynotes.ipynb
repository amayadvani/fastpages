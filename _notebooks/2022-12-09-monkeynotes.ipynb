{
 "cells": [
  {
   "attachments": {},
   "cell_type": "markdown",
   "metadata": {},
   "source": [
    "# Notes with coded examples\n",
    "> monkey notes\n",
    "- tags: [python, notes]\n",
    "- toc:true \n",
    "- badges: true \n",
    "- comments: true\n",
    "- author: Amay Advani\n",
    "- catagories: [jupyter, week1]"
   ]
  },
  {
   "attachments": {},
   "cell_type": "markdown",
   "metadata": {},
   "source": [
    "# Variable"
   ]
  },
  {
   "cell_type": "code",
   "execution_count": null,
   "metadata": {},
   "outputs": [],
   "source": [
    "name = \"amay\"\n",
    "\n",
    "age = \"16\"\n",
    "\n",
    "print(name + \" is \" + age)"
   ]
  },
  {
   "attachments": {},
   "cell_type": "markdown",
   "metadata": {},
   "source": [
    "# Assign Values and input"
   ]
  },
  {
   "cell_type": "code",
   "execution_count": null,
   "metadata": {},
   "outputs": [],
   "source": [
    "num1=input(\"Input a number. \")\n",
    "num2=input(\"Input a number. \")\n",
    "num3=input(\"Input a number. \")\n",
    "add=input(\"How much would you like to add? \")\n",
    "\n",
    "# Add code in the space below\n",
    "\n",
    "numlist = [int(num1), int(num2), int(num3)]\n",
    "\n",
    "# The following is the code that adds the inputted addend to the other numbers. It is hidden from the user.\n",
    "\n",
    "for i in range(len(numlist)):\n",
    "    numlist[i-1] += int(add)\n",
    "\n",
    "print(numlist)"
   ]
  },
  {
   "attachments": {},
   "cell_type": "markdown",
   "metadata": {},
   "source": [
    "# Appending and editing into a list "
   ]
  },
  {
   "cell_type": "code",
   "execution_count": null,
   "metadata": {},
   "outputs": [],
   "source": [
    "food1 = \"pizza\" \n",
    "food2 = \"hot dog\" \n",
    "food3 = \"sushi\"\n",
    "food4 = \"strawberry\"\n",
    "food5 = \"sandwich\"\n",
    "print(food1, food2, food3, food4, food5)\n",
    "\n",
    "foods = [\"pizza\", \"hot dog\", \"sushi\", 'strawberry', 'sandwich']\n",
    "print(foods)"
   ]
  },
  {
   "attachments": {},
   "cell_type": "markdown",
   "metadata": {},
   "source": [
    "# Sequencing"
   ]
  },
  {
   "cell_type": "code",
   "execution_count": null,
   "metadata": {},
   "outputs": [],
   "source": [
    "for i in range(10, 0, -1):\n",
    "   print(i)"
   ]
  },
  {
   "attachments": {},
   "cell_type": "markdown",
   "metadata": {},
   "source": [
    "# iteration"
   ]
  },
  {
   "cell_type": "code",
   "execution_count": null,
   "metadata": {},
   "outputs": [],
   "source": [
    "text = \"Hi my name is Amay\"\n",
    "for char in text:\n",
    "   if char == \"a\" or char == \"e\" or char == \"i\" or char == \"o\" or char == \"u\" or char == \"A\":\n",
    "      print(char)"
   ]
  },
  {
   "attachments": {},
   "cell_type": "markdown",
   "metadata": {},
   "source": [
    "# selection"
   ]
  },
  {
   "cell_type": "code",
   "execution_count": null,
   "metadata": {},
   "outputs": [],
   "source": [
    "for i in range(10, 0, -1):\n",
    "   print(i)"
   ]
  },
  {
   "attachments": {},
   "cell_type": "markdown",
   "metadata": {},
   "source": [
    "# Array selection and iteration"
   ]
  },
  {
   "cell_type": "code",
   "execution_count": null,
   "metadata": {},
   "outputs": [],
   "source": [
    "array = [3,16,29,42,55,68,81]\n",
    "x = 0\n",
    "a = 0\n",
    "while x < len(array):\n",
    "   print(array[a])\n",
    "   a+=1\n",
    "   x+=1"
   ]
  },
  {
   "attachments": {},
   "cell_type": "markdown",
   "metadata": {},
   "source": [
    "# All combined"
   ]
  },
  {
   "cell_type": "code",
   "execution_count": null,
   "metadata": {},
   "outputs": [],
   "source": [
    "nums = [10, 15, 20, 25, 30, 35]\n",
    "\n",
    "num1 = nums[0]\n",
    "for x in nums :\n",
    "   if x < num1:\n",
    "      num1 = x\n",
    "      \n",
    "print(\"The minimum number in the array is \" + str(num1))"
   ]
  },
  {
   "attachments": {},
   "cell_type": "markdown",
   "metadata": {},
   "source": [
    "# Booleans"
   ]
  },
  {
   "cell_type": "code",
   "execution_count": null,
   "metadata": {},
   "outputs": [],
   "source": [
    "isRunning = False\n",
    "result = not isRunning\n",
    "print(result)"
   ]
  },
  {
   "attachments": {},
   "cell_type": "markdown",
   "metadata": {},
   "source": [
    "# Logical operators"
   ]
  },
  {
   "cell_type": "code",
   "execution_count": null,
   "metadata": {},
   "outputs": [],
   "source": [
    "age = 16\n",
    "if age > 12 and age < 20:\n",
    "   print(\"You are a Teenager\")"
   ]
  },
  {
   "attachments": {},
   "cell_type": "markdown",
   "metadata": {},
   "source": [
    "# Evaluating"
   ]
  },
  {
   "cell_type": "code",
   "execution_count": null,
   "metadata": {},
   "outputs": [],
   "source": [
    "teams = 1\n",
    "score = 2\n",
    "if teams < 2 or score > 4:\n",
    "   print(\"Your team won!\")"
   ]
  },
  {
   "attachments": {},
   "cell_type": "markdown",
   "metadata": {},
   "source": [
    "# Condtionals "
   ]
  },
  {
   "cell_type": "code",
   "execution_count": null,
   "metadata": {},
   "outputs": [],
   "source": [
    "num = list(input(\"Input a binary number: \"))\n",
    "x = 0\n",
    "\n",
    "for i in range(len(num)):\n",
    "\tdigit = num.pop()\n",
    "\tif digit == '1':\n",
    "\t\tx = x + pow(2, i)\n",
    "print(\"The decimal value of the number is\", x)"
   ]
  },
  {
   "attachments": {},
   "cell_type": "markdown",
   "metadata": {},
   "source": [
    "# Level one challenge"
   ]
  },
  {
   "cell_type": "code",
   "execution_count": null,
   "metadata": {},
   "outputs": [],
   "source": [
    "text = \"Hi my name is Amay\"\n",
    "for char in text:\n",
    "   if char == \"a\" or char == \"e\" or char == \"i\" or char == \"o\" or char == \"u\" or char == \"A\":\n",
    "      print(char)\n",
    "#if text == a or text == e or text == i or text == o or text == u\n"
   ]
  },
  {
   "attachments": {},
   "cell_type": "markdown",
   "metadata": {},
   "source": [
    "# level 2 challenge"
   ]
  },
  {
   "cell_type": "code",
   "execution_count": null,
   "metadata": {},
   "outputs": [],
   "source": [
    "array = []\n",
    "array.append(\"Amay\")\n",
    "array.append(\"Safin\")\n",
    "if len(array) == 0:\n",
    "   print(\"No one likes it\")\n",
    "else:\n",
    "   print(\" and \".join(array) + \" liked it\")"
   ]
  },
  {
   "attachments": {},
   "cell_type": "markdown",
   "metadata": {},
   "source": [
    "# Nested Statement"
   ]
  },
  {
   "cell_type": "code",
   "execution_count": null,
   "metadata": {},
   "outputs": [],
   "source": [
    "isRaining = True\n",
    "temp = 40\n",
    "if (isRaining):\n",
    "   if temp <  45 :\n",
    "      print(\"Wear multiple layers.\")\n",
    "   else:\n",
    "      print(\"Wear whatever you want bruh\")\n",
    "else:\n",
    "   print(\"What is the weather like?\")"
   ]
  },
  {
   "attachments": {},
   "cell_type": "markdown",
   "metadata": {},
   "source": [
    "# flow chart code"
   ]
  },
  {
   "cell_type": "code",
   "execution_count": null,
   "metadata": {},
   "outputs": [],
   "source": [
    "isRaining = True\n",
    "temp = 70\n",
    "if (isRaining):\n",
    "   if temp <  45:\n",
    "      print(\"Wear multiple layers.\")\n",
    "   else:\n",
    "      print(\"Wear whatever you want bruh\")\n",
    "else:\n",
    "   if isRaining == False:\n",
    "      print(\"is it sunny or snowing?\")\n",
    "   else: \n",
    "      print(\"what is the weather like?\")"
   ]
  },
  {
   "attachments": {},
   "cell_type": "markdown",
   "metadata": {},
   "source": [
    "# evaluate"
   ]
  },
  {
   "cell_type": "code",
   "execution_count": null,
   "metadata": {},
   "outputs": [],
   "source": [
    "bruh = input(\"Do you like stem?\")\n",
    "bruhh = input(\"Do you like science?\")\n",
    "if bruh == \"Yes\":\n",
    "   if bruhh == \"Yes\":\n",
    "      print(\"You would like classes like AP Bio and AP Chem.\")\n",
    "   else:\n",
    "      print(\"You could take english for better results.\")\n",
    "else :\n",
    "   print(\"You might be better off taking classes like \")\n"
   ]
  }
 ],
 "metadata": {
  "kernelspec": {
   "display_name": "Python 3",
   "language": "python",
   "name": "python3"
  },
  "language_info": {
   "name": "python",
   "version": "3.8.10 (default, Jun 22 2022, 20:18:18) \n[GCC 9.4.0]"
  },
  "orig_nbformat": 4,
  "vscode": {
   "interpreter": {
    "hash": "916dbcbb3f70747c44a77c7bcd40155683ae19c65e1c03b4aa3499c5328201f1"
   }
  }
 },
 "nbformat": 4,
 "nbformat_minor": 2
}
