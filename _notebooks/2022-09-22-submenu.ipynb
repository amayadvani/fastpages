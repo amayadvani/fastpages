{
 "cells": [
  {
   "cell_type": "markdown",
   "metadata": {},
   "source": [
    "# JavaScript Kernel\n",
    ">  HTML Fragments to build a table\n",
    "\n",
    "- toc: true\n",
    "- comments: true\n",
    "- categories: [jupyter, week5]\n",
    "- author: Amay Advani"
   ]
  },
  {
   "cell_type": "code",
   "execution_count": 1,
   "metadata": {},
   "outputs": [],
   "source": [
    "function logItType(output) {\n",
    "   console.log(typeof output, \";\", output);\n",
    "}"
   ]
  },
  {
   "cell_type": "code",
   "execution_count": 3,
   "metadata": {},
   "outputs": [
    {
     "name": "stdout",
     "output_type": "stream",
     "text": [
      "object ; Person {\n",
      "  name: 'Mr M',\n",
      "  ghID: 'jm1021',\n",
      "  classOf: 1977,\n",
      "  gender: 'Male',\n",
      "  role: '' }\n",
      "string ; {\"name\":\"Mr M\",\"ghID\":\"jm1021\",\"classOf\":1977,\"role\":\"\",\"gender\":\"Male\"}\n",
      "object ; Person {\n",
      "  name: 'Mr M',\n",
      "  ghID: 'jm1021',\n",
      "  classOf: 1977,\n",
      "  gender: 'Male',\n",
      "  role: 'Teacher' }\n",
      "string ; {\"name\":\"Mr M\",\"ghID\":\"jm1021\",\"classOf\":1977,\"role\":\"Teacher\",\"gender\":\"Male\"}\n"
     ]
    }
   ],
   "source": [
    "function Person(name, ghID, classOf, gender) {\n",
    "   this.name = name;\n",
    "   this.ghID = ghID;\n",
    "   this.classOf = classOf;\n",
    "   this.gender = gender;\n",
    "   this.role = \"\";\n",
    "}\n",
    "\n",
    "// define a setter for role in Person data\n",
    "Person.prototype.setRole = function(role) {\n",
    "   this.role = role;\n",
    "}\n",
    "\n",
    "// define a JSON conversion \"method\" associated with Person\n",
    "Person.prototype.toJSON = function() {\n",
    "   const obj = {name: this.name, ghID: this.ghID, classOf: this.classOf, role: this.role, gender: this.gender};\n",
    "   const json = JSON.stringify(obj);\n",
    "   return json;\n",
    "}\n",
    "\n",
    "// make a new Person and assign to variable teacher\n",
    "var teacher = new Person(\"Mr M\", \"jm1021\", 1977, \"Male\");  // object type is easy to work with in JavaScript\n",
    "logItType(teacher);  // before role\n",
    "logItType(teacher.toJSON());  // ok to do this even though role is not yet defined\n",
    "\n",
    "// output of Object and JSON/string associated with Teacher\n",
    "teacher.setRole(\"Teacher\");   // set the role\n",
    "logItType(teacher); \n",
    "logItType(teacher.toJSON());"
   ]
  },
  {
   "cell_type": "code",
   "execution_count": 4,
   "metadata": {},
   "outputs": [
    {
     "name": "stdout",
     "output_type": "stream",
     "text": [
      "object ; [ Person {\n",
      "    name: 'Mr M',\n",
      "    ghID: 'jm1021',\n",
      "    classOf: 1977,\n",
      "    gender: 'Male',\n",
      "    role: 'Teacher' },\n",
      "  Person {\n",
      "    name: 'Amay Advani',\n",
      "    ghID: 'amayadvani',\n",
      "    classOf: 2024,\n",
      "    gender: 'Male',\n",
      "    role: 'Student' },\n",
      "  Person {\n",
      "    name: 'Sarah Liu',\n",
      "    ghID: 'sarahliu',\n",
      "    classOf: 2024,\n",
      "    gender: 'Female',\n",
      "    role: 'Student' },\n",
      "  Person {\n",
      "    name: 'Emma Shen',\n",
      "    ghID: 'e-shen2022',\n",
      "    classOf: 2024,\n",
      "    gender: 'Female',\n",
      "    role: 'Student' },\n",
      "  Person {\n",
      "    name: 'Vivian Ni',\n",
      "    ghID: 'vivianknee',\n",
      "    classOf: 2024,\n",
      "    gender: 'Female',\n",
      "    role: 'Student' } ]\n",
      "string ; Mr M\n",
      "string ; {\"name\":\"Mr M\",\"ghID\":\"jm1021\",\"classOf\":1977,\"role\":\"Teacher\",\"gender\":\"Male\"}\n",
      "object ; { name: 'Mr M',\n",
      "  ghID: 'jm1021',\n",
      "  classOf: 1977,\n",
      "  role: 'Teacher',\n",
      "  gender: 'Male' }\n"
     ]
    }
   ],
   "source": [
    "var students = [ \n",
    "   new Person(\"Amay Advani\", \"amayadvani\", 2024, \"Male\"),\n",
    "   new Person(\"Sarah Liu\", \"sarahliu\", 2024, \"Female\"),\n",
    "   new Person(\"Emma Shen\", \"e-shen2022\", 2024, \"Female\"),\n",
    "   new Person(\"Vivian Ni\", \"vivianknee\", 2024, \"Female\"),\n",
    "];\n",
    "\n",
    "// define a classroom and build Classroom objects and json\n",
    "function Classroom(teacher, students){ // 1 teacher, many student\n",
    "   // start Classroom with Teacher\n",
    "   teacher.setRole(\"Teacher\");\n",
    "   this.teacher = teacher;\n",
    "   this.classroom = [teacher];\n",
    "   // add each Student to Classroom\n",
    "   this.students = students;\n",
    "   this.students.forEach(student => { student.setRole(\"Student\"); this.classroom.push(student); });\n",
    "   // build json/string format of Classroom\n",
    "   this.json = [];\n",
    "   this.classroom.forEach(person => this.json.push(person.toJSON()));\n",
    "}\n",
    "\n",
    "// make a CompSci classroom from formerly defined teacher and students\n",
    "compsci = new Classroom(teacher, students);\n",
    "\n",
    "// output of Objects and JSON in CompSci classroom\n",
    "logItType(compsci.classroom);  // constructed classroom object\n",
    "logItType(compsci.classroom[0].name);  // abstract 1st objects name\n",
    "logItType(compsci.json[0]);  // show json conversion of 1st object to string\n",
    "logItType(JSON.parse(compsci.json[0]));  "
   ]
  },
  {
   "cell_type": "code",
   "execution_count": 5,
   "metadata": {},
   "outputs": [
    {
     "data": {
      "text/html": [
       "<div style='display:inline-block;border: 2px solid grey;box-shadow: 0.8em 0.4em 0.4em grey;'><table><tr><th><mark>Name</mark></th><th><mark>GitHub ID</mark></th><th><mark>Class Of</mark></th><th><mark>Role</mark></th><th><mark>Gender</mark></th></tr><tr><td>Mr M</td><td>jm1021</td><td>1977</td><td>Teacher</td><td>Male</td><tr><tr><td>Amay Advani</td><td>amayadvani</td><td>2024</td><td>Student</td><td>Male</td><tr><tr><td>Sarah Liu</td><td>sarahliu</td><td>2024</td><td>Student</td><td>Female</td><tr><tr><td>Emma Shen</td><td>e-shen2022</td><td>2024</td><td>Student</td><td>Female</td><tr><tr><td>Vivian Ni</td><td>vivianknee</td><td>2024</td><td>Student</td><td>Female</td><tr></table></div>"
      ]
     },
     "execution_count": 5,
     "metadata": {},
     "output_type": "execute_result"
    }
   ],
   "source": [
    "Classroom.prototype._toHtml = function() {\n",
    "  // HTML Style is build using inline structure\n",
    "  var style = (\n",
    "    \"display:inline-block;\" +\n",
    "    \"border: 2px solid grey;\" +\n",
    "    \"box-shadow: 0.8em 0.4em 0.4em grey;\"\n",
    "  );\n",
    "\n",
    "  // HTML Body of Table is build as a series of concatenations (+=)\n",
    "  var body = \"\";\n",
    "  // Heading for Array Columns\n",
    "  body += \"<tr>\";\n",
    "  body += \"<th><mark>\" + \"Name\" + \"</mark></th>\";\n",
    "  body += \"<th><mark>\" + \"GitHub ID\" + \"</mark></th>\";\n",
    "  body += \"<th><mark>\" + \"Class Of\" + \"</mark></th>\";\n",
    "  body += \"<th><mark>\" + \"Role\" + \"</mark></th>\";\n",
    "  body += \"<th><mark>\" + \"Gender\" + \"</mark></th>\";\n",
    "  body += \"</tr>\";\n",
    "  // Data of Array, iterate through each row of compsci.classroom \n",
    "  for (var row of compsci.classroom) {\n",
    "    // tr for each row, a new line\n",
    "    body += \"<tr>\";\n",
    "    // td for each column of data\n",
    "    body += \"<td>\" + row.name + \"</td>\";\n",
    "    body += \"<td>\" + row.ghID + \"</td>\";\n",
    "    body += \"<td>\" + row.classOf + \"</td>\";\n",
    "    body += \"<td>\" + row.role + \"</td>\";\n",
    "    body += \"<td>\" + row.gender + \"</td>\";\n",
    "    // tr to end line\n",
    "    body += \"<tr>\";\n",
    "  }\n",
    "\n",
    "   // Build and HTML fragment of div, table, table body\n",
    "  return (\n",
    "    \"<div style='\" + style + \"'>\" +\n",
    "      \"<table>\" +\n",
    "        body +\n",
    "      \"</table>\" +\n",
    "    \"</div>\"\n",
    "  );\n",
    "\n",
    "};\n",
    "\n",
    "// IJavaScript HTML processor receive parameter of defined HTML fragment\n",
    "$$.html(compsci._toHtml());\n"
   ]
  }
 ],
 "metadata": {
  "kernelspec": {
   "display_name": "JavaScript (Node.js)",
   "language": "javascript",
   "name": "javascript"
  },
  "language_info": {
   "file_extension": ".js",
   "mimetype": "application/javascript",
   "name": "javascript",
   "version": "6.11.2"
  },
  "orig_nbformat": 4,
  "vscode": {
   "interpreter": {
    "hash": "916dbcbb3f70747c44a77c7bcd40155683ae19c65e1c03b4aa3499c5328201f1"
   }
  }
 },
 "nbformat": 4,
 "nbformat_minor": 2
}
