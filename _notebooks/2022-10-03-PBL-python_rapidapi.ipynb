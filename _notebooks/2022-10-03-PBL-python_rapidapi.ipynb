{
 "cells": [
  {
   "cell_type": "markdown",
   "metadata": {},
   "source": [
    "# Application Programming Interface (API)\n",
    "\n",
    "- title: Python RapidAPI\n",
    "- toc: true\n",
    "- author: Amay Advani"
   ]
  },
  {
   "cell_type": "markdown",
   "metadata": {},
   "source": [
    "### Python, RapidAPI Terms\n",
    "> APIs and tooling like Jupyter docs allows many opportunities in fields like Data Science.  As more and more developers use APIs, they build standards in how you setup a client, send requests and receive information..."
   ]
  },
  {
   "cell_type": "code",
   "execution_count": 7,
   "metadata": {},
   "outputs": [
    {
     "name": "stdout",
     "output_type": "stream",
     "text": [
      "{\"status\":\"error\",\"error\":\"Terms Of Use has to be accepted.\"}\n"
     ]
    }
   ],
   "source": [
    "import requests\n",
    "\n",
    "url = \"https://endlessmedicalapi1.p.rapidapi.com/UpdateFeature\"\n",
    "\n",
    "querystring = {\"name\":\"Amay Advani\",\"value\":\"rapidapi\",\"SessionID\":\"K1wQE9gDabe3J9jV\"}\n",
    "\n",
    "headers = {\n",
    "\t\"X-RapidAPI-Key\": \"c1c04d301amshae9837f1f9f2f96p16c078jsn674cc5d8a3f9\",\n",
    "\t\"X-RapidAPI-Host\": \"endlessmedicalapi1.p.rapidapi.com\"\n",
    "}\n",
    "\n",
    "response = requests.request(\"POST\", url, headers=headers, params=querystring)\n",
    "\n",
    "print(response.text)"
   ]
  },
  {
   "cell_type": "code",
   "execution_count": 10,
   "metadata": {},
   "outputs": [
    {
     "name": "stdout",
     "output_type": "stream",
     "text": [
      "{\"status\":\"ok\",\"data\":[\"DM2\",\"ANEMIAA\",\"Thrombocytopenia\",\"GcCervicitis\",\"ProstatisA\",\"GcUA\",\"Covid19Test\",\"CUA\",\"Covid19Contact\",\"CAPPNA\",\"Covid19URTI\",\"Covid19PNA\",\"CommonCold\",\"PancreatitisETOH\",\"PancreatitisA\",\"ClusterHeadache\",\"UncontrolledHTN\",\"DiabetesKACA\",\"FusobacteriumNecrophorumPharyngitisComplicatedWithLemierreSyndrome\",\"PrimaryArterialHypertension\",\"PrimaryArterialHypertensionByHx\",\"PancreatitisHyperTGL\",\"PancreatitisGAP\",\"PancreatitisHIV\",\"HypertensiveEmergencyA\",\"PancreatitisPancreaticCa\",\"HeadacheAfterNitrates\",\"HeadacheDueToHTN\",\"HypertensiveUrgencyA\",\"HeadacheDueToCaffeineWithdrawal\",\"PancreatitisDueToMeds\",\"PancreatitisHyperCalcemia\",\"TensionHeadache\",\"PancreatitisOddis\",\"PancreatitisERCP\",\"GastrittisBleedingA\",\"MigraineHeadache\",\"FusobacteriumNecrophorumPharyngitis\",\"Leukopenia\",\"BRONCHITISA\",\"FluA\",\"AorticDissectionThoracic\",\"PeritionitisA\",\"VaricealBleedingA\",\"PTXA\",\"ChronsA\",\"TracheobronchitisA\",\"PericarditisA\",\"ViralPharyngitis\",\"AllergicRhinitisToPollen\",\"AllergicRhinitisToDustMites\",\"StrepThroatA\",\"LVFA\",\"GERDA\",\"EsophagealSpasmA\",\"GERDAWEsophagitisWOBleed\",\"SinusitisC\",\"RVFA\",\"PleuralEffusionA\",\"FissureA\",\"SinusitisA\",\"GERDAWEsophagitisWBleed\",\"LaryngitisA\",\"RespiratoryAcidosis\",\"ANEMIAAFromAcuteBloodLoss\",\"ObesityHypeventA\",\"PE\",\"GastroenteritisViralA\",\"AppendicitisA\",\"PUDPerfA\",\"SepsticShockA\",\"Shock\",\"ShockLiver\",\"HypertensiveNephropathy\",\"AnaphylacticShock\",\"HCAP\",\"SVT\",\"DVT\",\"COPDA\",\"ACEinhibitorRelatedCough\",\"AsthmaA\",\"BowelObstructionA\",\"AsthmaARFA\",\"PulmTBA\",\"NonTBMycobacteriaeA\",\"LungAbscessA\",\"EmpyemaA\",\"OtitisMediaA\",\"OtitisExternaA\",\"AcuteEyeEmergencyA\",\"AnxietyA\",\"AorticStenosisA\",\"AorticRegurgitationA\",\"MitralRegurgitationA\",\"PulmonaryRegurgitationA\",\"ThyroidGoiterA\",\"MIA\",\"DiabetesHONKA\",\"ACSA\",\"VSDA\",\"CostochondritisAMSKChestPain\",\"SpinalfacetjointsCPA\",\"TSpineCPA\",\"SpinalDiscopathyCPA\",\"PleuritisA\",\"AtelectasisA\",\"LobarObstructionA\",\"HealthyA\",\"HealthyAllA\",\"OvarianTorsionA\",\"MissedAA\",\"DeathA\",\"TesticularTorsionA\",\"HemorrhoidsA\",\"PUDBleed\",\"GastroenteritisBacterialA\",\"PortalVeinThrombosisA\",\"BuddChiariA\",\"DM1\",\"HyperTGL\",\"PancreaticCaA\",\"CholecystitisA\",\"GoutFlair\",\"ToeTraumaPain\",\"GoutFlairFromDiuretics\",\"GerdA\",\"BIA\",\"CDCA\",\"SepsisA\",\"SuicidialOverdoseA\",\"BeerA\",\"HypoNaA\",\"HypoNaSIADHA\",\"HyperKA\",\"HyperCaA\",\"HyperParaCaA\",\"MeningitisA\",\"EncephalitisA\",\"HypercapnicA\",\"SSA\",\"OpiatesA\",\"TCAA\",\"StarvationKA\",\"Starvation\",\"MetabolicGapAcidosis\",\"MetabolicNonGapAcidosis\",\"LacticAcidosis\",\"HypoA\",\"HypoThyroA\",\"HyperthyroidCrisisA\",\"GastroparesisA\",\"ARFA\",\"UTIA\",\"PIDA\",\"EPA\",\"NeutropA\",\"NeutroponicFeverA\",\"MSPregnancyA\",\"OtherDxA\",\"BacterialEndocarditisA\",\"TVBacterialEndocarditisA\",\"MetastaticAbscessesA\",\"PleurisyA\",\"HPTXA\",\"HTXA\",\"SciaticaA\",\"MechanicalLBPA\",\"CystitisUTIA\",\"PyelonephritisUTIA\",\"SuicideA\",\"AcetaminophenOverdoseA\",\"EthyleneGlycolOverdoseA\",\"CNeoMeningitisA\",\"FungoMeningitisA\",\"HSVEncephalitisA\",\"BrainCaA\",\"ICH\",\"ContusionA\",\"SpineCaA\",\"SAHA\",\"IschemicCVADisease\",\"LEMSA\",\"MyastheniaA\",\"BenzosA\",\"StomachCa\",\"MechanicalSmallBowelObstructionA\",\"AdynamicSmallBowelObstructionA\",\"LargeBowelObstructionA\",\"SmallBowelObstruction\",\"MesentericIschemiaA\",\"MesentericIschemiaC\",\"EmbolicLowerLimbIschemiaA\",\"Atheroscleroticlowerextremitiesischemia\",\"IschCoitisA\",\"AcuteDiverticulitisA\",\"AcuteappendicitisA\",\"ChlamydialUA\",\"ChlamydialCervicitis\",\"Urethritis\",\"BacterialvagA\",\"CandidalvagA\",\"TrichomonasvagA\",\"AtrophicVaginitis\",\"URetenA\",\"OrchitisA\",\"MENPA\",\"Menstruation\",\"FUO\",\"PulmonaryEdema\",\"Choledocholithiasis\",\"AnticholinergicsOverdose\",\"EthanolOverdose\",\"HypoxicRespiratoryfailure\",\"HypercapnicRespiratoryfailure\",\"PulmonaryArteryPressingOnLMCAAngina\",\"PulmonaryArteryAneurysm\",\"AnginaCausedByLowCardiacOutput\",\"LowCardiacOutputSyndrome\",\"AnginaAS\",\"DemandMyocardialIschaemia\",\"Graves\",\"Painlessthyroiditis\",\"NSTEMI\",\"Myocarditis\",\"STEMI\",\"Delirium\",\"Gastritis\",\"AcutUpperGIBleed\",\"AcuteLowerGIBleed\",\"HemorrhaficShock\",\"Anaphylaxis\",\"Hydronephrosis\",\"HemolyticAnemia\",\"PCaC\",\"CUC\",\"SecondaryArterialHypertensionObesity\",\"CoronaryArteryDiseaseCAD\",\"UnstableAngina\",\"SecondaryArterialHypertensionCKD\",\"PancreatitisC\",\"SecondaryArterialHypertension\",\"Ureterolithiasis\",\"SecondaryArterialHypertensionSecondaryRASAtherosclerotic\",\"SecondaryArterialHypertensionHyperaldo\",\"CKD\",\"!CKD\",\"BRCA12Carier\",\"HxOfPE\",\"HxOfDVT\",\"HxOfCHF\",\"HxOfCAD\",\"HxOfAfibAflut\",\"HxOfCVA\",\"Transaminitis\",\"SecondaryArterialHypertensionOSA\",\"DM1ByHx\",\"DiabeticNephropathy\",\"AtopicDermatitis\",\"OSA\",\"PCDiabetesC\",\"PUDA\",\"HPylor\",\"DM2ByHx\",\"SecondaryArterialHypertensionSecondaryRASFibromuscularDysplasia\",\"MNKD\",\"PastHxOfPregnancy\",\"PastHxOfSpontaneousAbortion\",\"STATA\",\"DMKD\",\"PulmonaryHypertensionC\",\"COPDC\",\"AsthmaC\",\"CSSC\",\"LVFC\",\"HypertrophicCardiomyopathyC\",\"DilatedCardiomyopathyC\",\"TricuspidRegurgitationC\",\"InsulinomaC\",\"ASDC\",\"VSDC\",\"PDAC\",\"MitralRegurgitationC\",\"MitralStenosisC\",\"RVFC\",\"NonConstrictivePericarditisC\",\"ConstrictivePericarditisC\",\"Hyperaldosteronism\",\"BrainNeoC\",\"MSC\",\"ANEMIAC\",\"ObesityC\",\"NormalWeightC\",\"OverweightC\",\"ExtremeObesityC\",\"BRONCHITISC\",\"ILDC\",\"LCC\",\"PFC\",\"ThyroidGoiterC\",\"NonTBMycobacteriaeC\",\"HealthyC\",\"CCC\",\"EndomC\",\"OvarianC\",\"CervicalC\",\"EAC\",\"IDAC\",\"ID\",\"CKDAnemia\",\"B12DAC\",\"B12D\",\"FolateDAC\",\"FolateD\",\"PernDAC\",\"IntenParasC\",\"HepA\",\"HepCA\",\"HepBC\",\"HIVC\",\"SyphilisC\",\"HemorrhoidsC\",\"IschCoitisC\",\"EndometriosisC\",\"DepressC\",\"HypogonadismC\",\"KCC\",\"BladderCC\",\"StressIC\",\"MixedIC\",\"UrgencyIC\",\"OverflowIC\",\"UreterCC\",\"GDS\",\"AntiGBM\",\"ASpondC\",\"SSC\",\"MetasSpineC\",\"VascKD\",\"IgAKD\",\"FGKD\",\"PSKD\",\"MCKD\",\"FSGSKD\",\"MPKD\",\"KC\",\"ATN\",\"AIN\",\"CSDC\",\"ADC\",\"PregnancyC\",\"BladderTumorC\",\"BPHC\",\"TesticC\",\"VaricoceleC\",\"EpididymitisC\",\"EpiSperC\",\"GallStonesC\",\"IBSC\",\"AscariasisC\",\"EnterobiasisC\",\"GiardiasisC\",\"ChronsC\",\"HealthyAllC\",\"HypoThyroC\",\"HyperThyroC\",\"PheoC\",\"CarcinoidC\",\"MetSynC\",\"PDA\",\"ChronicAspiration\",\"Nephrolithiasis\",\"BreastCancer\",\"ThromboembolicPulmonaryHypertensionCTEPH\",\"PulmonaryHTNSecondaryToLHD\",\"Hypercholesterolemia\",\"BladderOutletObstructionMale\",\"BladderOutletObstructionFeMale\",\"NephroticSyndrome\",\"NephriticSyndrome\",\"MembranousNephropathy\",\"PrimaryMembranousNephropathy\",\"SecondaryMembranousNephropathy\",\"AnemiaInMale\",\"AnemiaInFemale\",\"StateOfHealth\"]}\n"
     ]
    }
   ],
   "source": [
    "import requests\n",
    "\n",
    "url = \"https://endlessmedicalapi1.p.rapidapi.com/GetOutcomes\"\n",
    "\n",
    "headers = {\n",
    "\t\"X-RapidAPI-Key\": \"c1c04d301amshae9837f1f9f2f96p16c078jsn674cc5d8a3f9\",\n",
    "\t\"X-RapidAPI-Host\": \"endlessmedicalapi1.p.rapidapi.com\"\n",
    "}\n",
    "\n",
    "response = requests.request(\"GET\", url, headers=headers)\n",
    "\n",
    "print(response.text)"
   ]
  },
  {
   "cell_type": "markdown",
   "metadata": {},
   "source": [
    "### Formatting Digital Coin example\n",
    "> JSON text transferred from the API in the previous cell was converted to a Python Dictionary called json.  The \"coins\" in the dictionary contain a list of the most relevant data.   Look at the code and comments to see how the original text is turned into something understandable.   Additionally, there are error check to make sure we are starting the code with the expectation that the API was run correctly. "
   ]
  },
  {
   "cell_type": "code",
   "execution_count": 3,
   "metadata": {},
   "outputs": [
    {
     "name": "stdout",
     "output_type": "stream",
     "text": [
      "JSON data is Python type: <class 'dict'>\n",
      "Did you insert a valid key in X-RapidAPI-Key of API cell above?\n",
      "{'message': 'You are not subscribed to this API.'}\n"
     ]
    }
   ],
   "source": [
    "\"\"\"\n",
    "This cell is dependent on valid run of API above.\n",
    "- try and except code is making sure \"json\" was properly run above\n",
    "- inside second try is code that is used to process Coin API data\n",
    "\n",
    "Note.  Run this cell repeatedly to format data without re-activating API\n",
    "\"\"\"\n",
    "\n",
    "try:\n",
    "    print(\"JSON data is Python type: \" + str(type(json)))\n",
    "    try:\n",
    "        # Extracting Coins JSON status, if the API worked\n",
    "        status = json.get('status')\n",
    "        print(\"API status: \" + status)\n",
    "        print()\n",
    "        \n",
    "        # Extracting Coins JSON data, data about the coins\n",
    "        data = json.get('data')\n",
    "        \n",
    "        # Procedural abstraction of Print code for coins\n",
    "        def print_coin(c):\n",
    "            print(c[\"symbol\"], c[\"price\"])\n",
    "            print(\"Icon Url: \" + c[\"iconUrl\"])\n",
    "            print(\"Rank Url: \" + c[\"coinrankingUrl\"])\n",
    "\n",
    "        # Coins data was observed to be a list\n",
    "        for coin in data['coins']:\n",
    "            print_coin(coin)\n",
    "            print()\n",
    "            \n",
    "    except:\n",
    "        print(\"Did you insert a valid key in X-RapidAPI-Key of API cell above?\")\n",
    "        print(json)\n",
    "except:\n",
    "    print(\"This cell is dependent on running API call in cell above!\")"
   ]
  },
  {
   "cell_type": "markdown",
   "metadata": {},
   "source": [
    "## Hacks\n",
    "> Find and use an API as part of your project.  An API and a little coding logic will be a big step toward getting meaningful data for a project.  There are many API providers, find one that might work for your project to complete this hack. When picking an API you are looking for something that will work with either JavaScript Fetch or Python Request.  Here are some samples, these are not qualified in any way.  \n",
    "- [RapidAPI](https://rapidapi.com/collection/list-of-free-apis)\n",
    "- [GitHub Project](https://github.com/public-apis/public-apis/blob/master/README.md)\n",
    "- [No Key APIs Article](https://nordicapis.com/9-free-public-apis-that-offer-up-some-cool-open-data/)\n",
    "- [Twitter Developer](https://developer.twitter.com/en/docs/twitter-api)\n",
    "- [Google Developer](https://developers.google.com/apis-explorer)\n",
    "- [Reddit Developer](https://www.reddit.com/dev/api/)\n",
    "\n",
    "> Show API and format results in either Web Page or Jupyter Notebook.  Ultimately, I will expect that we do APIs in backend (Python/Flask).  However, for this Hack you can pick your preference.  We will discuss pros and cons in next API tech talk."
   ]
  }
 ],
 "metadata": {
  "kernelspec": {
   "display_name": "Python 3.8.10 64-bit",
   "language": "python",
   "name": "python3"
  },
  "language_info": {
   "codemirror_mode": {
    "name": "ipython",
    "version": 3
   },
   "file_extension": ".py",
   "mimetype": "text/x-python",
   "name": "python",
   "nbconvert_exporter": "python",
   "pygments_lexer": "ipython3",
   "version": "3.8.10"
  },
  "orig_nbformat": 4,
  "vscode": {
   "interpreter": {
    "hash": "916dbcbb3f70747c44a77c7bcd40155683ae19c65e1c03b4aa3499c5328201f1"
   }
  }
 },
 "nbformat": 4,
 "nbformat_minor": 2
}
