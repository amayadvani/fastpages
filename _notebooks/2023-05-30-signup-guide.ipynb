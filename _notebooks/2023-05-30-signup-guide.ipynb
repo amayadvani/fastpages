{
 "cells": [
  {
   "attachments": {},
   "cell_type": "markdown",
   "metadata": {},
   "source": [
    "# Sign Up Guide!\n",
    "> Step by step proccess explaining how to make a Sign Up page for any given site. \n",
    "- toc: true\n",
    "- author: Amay Advani"
   ]
  }
 ],
 "metadata": {
  "language_info": {
   "name": "python"
  },
  "orig_nbformat": 4
 },
 "nbformat": 4,
 "nbformat_minor": 2
}
