{
 "cells": [
  {
   "cell_type": "markdown",
   "metadata": {},
   "source": [
    "# 3.5-3.7 Hacks\n",
    "- toc: true\n",
    "- badges: true\n",
    "- comments: true"
   ]
  },
  {
   "cell_type": "markdown",
   "metadata": {},
   "source": [
    "### Logical Operators Hacks\n",
    "\n",
    "1) NOT: this operator displays the exact opposite of what the data indicates\n",
    "   AND: used to evaluate 2 conditions at the same time and checks if both conditions are met\n",
    "   OR: USed to evaluate 2 conditions at the same time, but only checks if one condition is met\n"
   ]
  },
  {
   "cell_type": "code",
   "execution_count": 4,
   "metadata": {},
   "outputs": [
    {
     "name": "stdout",
     "output_type": "stream",
     "text": [
      "True\n"
     ]
    }
   ],
   "source": [
    "isRunning = False\n",
    "result = not isRunning\n",
    "print(result)"
   ]
  },
  {
   "cell_type": "code",
   "execution_count": 5,
   "metadata": {},
   "outputs": [
    {
     "name": "stdout",
     "output_type": "stream",
     "text": [
      "You are a Teenager\n"
     ]
    }
   ],
   "source": [
    "age = 16\n",
    "if age > 12 and age < 20:\n",
    "   print(\"You are a Teenager\")"
   ]
  },
  {
   "cell_type": "code",
   "execution_count": 7,
   "metadata": {},
   "outputs": [
    {
     "name": "stdout",
     "output_type": "stream",
     "text": [
      "Your team won!\n"
     ]
    }
   ],
   "source": [
    "teams = 1\n",
    "score = 2\n",
    "if teams < 2 or score > 4:\n",
    "   print(\"Your team won!\")"
   ]
  },
  {
   "cell_type": "markdown",
   "metadata": {},
   "source": [
    "### Conditionals\n",
    "\n",
    "Selection: when the algorithm only executes depending if the conditions returns true or false\n",
    "Algorithm: a set of instructions to accomplish a task\n",
    "Conditional Statement: A statement that affects the sequence of an algorithm depending of the value of a boolean.\n"
   ]
  },
  {
   "cell_type": "code",
   "execution_count": null,
   "metadata": {},
   "outputs": [],
   "source": [
    "num = list(input(\"Input a binary number: \"))\n",
    "x = 0\n",
    "\n",
    "for i in range(len(num)):\n",
    "\tdigit = num.pop()\n",
    "\tif digit == '1':\n",
    "\t\tx = x + pow(2, i)\n",
    "print(\"The decimal value of the number is\", x)"
   ]
  },
  {
   "cell_type": "markdown",
   "metadata": {},
   "source": [
    "### Level One Challenge"
   ]
  },
  {
   "cell_type": "code",
   "execution_count": 10,
   "metadata": {},
   "outputs": [
    {
     "name": "stdout",
     "output_type": "stream",
     "text": [
      "i\n",
      "a\n",
      "e\n",
      "i\n",
      "A\n",
      "a\n"
     ]
    }
   ],
   "source": [
    "text = \"Hi my name is Amay\"\n",
    "for char in text:\n",
    "   if char == \"a\" or char == \"e\" or char == \"i\" or char == \"o\" or char == \"u\" or char == \"A\":\n",
    "      print(char)\n",
    "#if text == a or text == e or text == i or text == o or text == u\n"
   ]
  },
  {
   "cell_type": "markdown",
   "metadata": {},
   "source": [
    "### Level two challenge"
   ]
  },
  {
   "cell_type": "code",
   "execution_count": 23,
   "metadata": {},
   "outputs": [
    {
     "name": "stdout",
     "output_type": "stream",
     "text": [
      "Amay and Safin liked it\n"
     ]
    }
   ],
   "source": [
    "array = []\n",
    "array.append(\"Amay\")\n",
    "array.append(\"Safin\")\n",
    "if len(array) == 0:\n",
    "   print(\"No one likes it\")\n",
    "else:\n",
    "   print(\" and \".join(array) + \" liked it\")"
   ]
  },
  {
   "cell_type": "markdown",
   "metadata": {},
   "source": [
    "### Nested Statements"
   ]
  },
  {
   "cell_type": "code",
   "execution_count": 18,
   "metadata": {},
   "outputs": [
    {
     "name": "stdout",
     "output_type": "stream",
     "text": [
      "Wear multiple layers.\n"
     ]
    }
   ],
   "source": [
    "isRaining = True\n",
    "temp = 40\n",
    "if (isRaining):\n",
    "   if temp <  45 :\n",
    "      print(\"Wear multiple layers.\")\n",
    "   else:\n",
    "      print(\"Wear whatever you want bruh\")\n",
    "else:\n",
    "   print(\"What is the weather like?\")"
   ]
  },
  {
   "cell_type": "code",
   "execution_count": 20,
   "metadata": {},
   "outputs": [
    {
     "name": "stdout",
     "output_type": "stream",
     "text": [
      "Wear whatever you want bruh\n"
     ]
    }
   ],
   "source": [
    "isRaining = True\n",
    "temp = 70\n",
    "if (isRaining):\n",
    "   if temp <  45:\n",
    "      print(\"Wear multiple layers.\")\n",
    "   else:\n",
    "      print(\"Wear whatever you want bruh\")\n",
    "else:\n",
    "   if isRaining == False:\n",
    "      print(\"is it sunny or snowing?\")\n",
    "   else: \n",
    "      print(\"what is the weather like?\")\n"
   ]
  },
  {
   "cell_type": "code",
   "execution_count": 21,
   "metadata": {},
   "outputs": [
    {
     "name": "stdout",
     "output_type": "stream",
     "text": [
      "You would like classes like AP Bio and AP Chem.\n"
     ]
    }
   ],
   "source": [
    "bruh = input(\"Do you like stem?\")\n",
    "bruhh = input(\"Do you like science?\")\n",
    "if bruh == \"Yes\":\n",
    "   if bruhh == \"Yes\":\n",
    "      print(\"You would like classes like AP Bio and AP Chem.\")\n",
    "   else:\n",
    "      print(\"You could take english for better results.\")\n",
    "else :\n",
    "   print(\"You might be better off taking classes like \")\n"
   ]
  }
 ],
 "metadata": {
  "kernelspec": {
   "display_name": "Python 3.8.10 64-bit",
   "language": "python",
   "name": "python3"
  },
  "language_info": {
   "codemirror_mode": {
    "name": "ipython",
    "version": 3
   },
   "file_extension": ".py",
   "mimetype": "text/x-python",
   "name": "python",
   "nbconvert_exporter": "python",
   "pygments_lexer": "ipython3",
   "version": "3.8.10"
  },
  "orig_nbformat": 4,
  "vscode": {
   "interpreter": {
    "hash": "916dbcbb3f70747c44a77c7bcd40155683ae19c65e1c03b4aa3499c5328201f1"
   }
  }
 },
 "nbformat": 4,
 "nbformat_minor": 2
}
