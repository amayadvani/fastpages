{
 "cells": [
  {
   "cell_type": "markdown",
   "metadata": {},
   "source": [
    "# Truth Tables\n",
    "- toc: true\n",
    "- badges: true\n",
    "- comments: true"
   ]
  },
  {
   "cell_type": "code",
   "execution_count": 1,
   "metadata": {},
   "outputs": [
    {
     "name": "stdout",
     "output_type": "stream",
     "text": [
      "AND\n",
      "0 & 0 = 0\n",
      "0 & 1 = 0\n",
      "1 & 0 = 0\n",
      "1 & 1 = 1\n",
      "OR\n",
      "0 | 0 = 0\n",
      "0 | 1 = 1\n",
      "1 | 0 = 1\n",
      "1 | 1 = 1\n",
      "XOR\n",
      "0 ^ 0 = 0\n",
      "0 ^ 1 = 1\n",
      "1 ^ 0 = 1\n",
      "1 ^ 1 = 0\n",
      "NOT\n",
      "~1=false~0=true~undefined=true~undefined=true\n"
     ]
    }
   ],
   "source": [
    "let text2 = \"\";\n",
    "\n",
    "let data2 = [\n",
    "    [0, 0],\n",
    "    [0, 1],\n",
    "    [1, 0],\n",
    "    [1, 1],\n",
    "];\n",
    "\n",
    "text2 += \"AND\\n\";\n",
    "for (let i = 0; i < data2.length; i++) {\n",
    "    let el1 = data2[i][0];\n",
    "    let el2 = data2[i][1];\n",
    "\n",
    "    text2 += el1 + \" & \" + el2 + \" = \";\n",
    "    text2 += (el1 & el2).toString();\n",
    "    text2 += \"\\n\";\n",
    "}\n",
    "text2 += \"OR\\n\";\n",
    "for (let i = 0; i < data2.length; i++) {\n",
    "    let el1 = data2[i][0];\n",
    "    let el2 = data2[i][1];\n",
    "\n",
    "    text2 += el1 + \" | \" + el2 + \" = \";\n",
    "    text2 += (el1 | el2).toString();\n",
    "    text2 += \"\\n\";\n",
    "}\n",
    "text2 += \"XOR\\n\";\n",
    "for (let i = 0; i < data2.length; i++) {\n",
    "    let el1 = data2[i][0];\n",
    "    let el2 = data2[i][1];\n",
    "\n",
    "    text2 += el1 + \" ^ \" + el2 + \" = \";\n",
    "    text2 += (el1 ^ el2).toString();\n",
    "    text2 += \"\\n\";\n",
    "}\n",
    "let data3 = [1,0]\n",
    "text2 += \"NOT\\n\";\n",
    "for (let i = 0; i < data2.length; i++) {\n",
    "    text2 += \"~\" + data3[i] + \"=\" + ~data3[i]\n",
    "}\n",
    "\n",
    "console.log(text2);"
   ]
  }
 ],
 "metadata": {
  "kernelspec": {
   "display_name": "JavaScript (Node.js)",
   "language": "javascript",
   "name": "javascript"
  },
  "language_info": {
   "file_extension": ".js",
   "mimetype": "application/javascript",
   "name": "javascript",
   "version": "6.11.2"
  },
  "orig_nbformat": 4,
  "vscode": {
   "interpreter": {
    "hash": "916dbcbb3f70747c44a77c7bcd40155683ae19c65e1c03b4aa3499c5328201f1"
   }
  }
 },
 "nbformat": 4,
 "nbformat_minor": 2
}
