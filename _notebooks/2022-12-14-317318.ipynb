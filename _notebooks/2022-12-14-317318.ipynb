{
 "cells": [
  {
   "attachments": {},
   "cell_type": "markdown",
   "metadata": {},
   "source": [
    "# 3.17 and 3.18 Hacks\n",
    "- toc: true\n",
    "- badges: true\n",
    "- comments: true"
   ]
  },
  {
   "attachments": {},
   "cell_type": "markdown",
   "metadata": {},
   "source": [
    "### Hack #1\n",
    "\n",
    "Made more efficient Collatz conjecture code"
   ]
  },
  {
   "cell_type": "code",
   "execution_count": 19,
   "metadata": {},
   "outputs": [
    {
     "name": "stdout",
     "output_type": "stream",
     "text": [
      "Input: 100000\n",
      "[50000, 25000, 12500, 6250, 3125, 9376, 4688, 2344, 1172, 586, 293, 880, 440, 220, 110, 55, 166, 83, 250, 125, 376, 188, 94, 47, 142, 71, 214, 107, 322, 161, 484, 242, 121, 364, 182, 91, 274, 137, 412, 206, 103, 310, 155, 466, 233, 700, 350, 175, 526, 263, 790, 395, 1186, 593, 1780, 890, 445, 1336, 668, 334, 167, 502, 251, 754, 377, 1132, 566, 283, 850, 425, 1276, 638, 319, 958, 479, 1438, 719, 2158, 1079, 3238, 1619, 4858, 2429, 7288, 3644, 1822, 911, 2734, 1367, 4102, 2051, 6154, 3077, 9232, 4616, 2308, 1154, 577, 1732, 866, 433, 1300, 650, 325, 976, 488, 244, 122, 61, 184, 92, 46, 23, 70, 35, 106, 53, 160, 80, 40, 20, 10, 5, 16, 8, 4, 2, 1]\n",
      "It took 128 tries to equal 1\n"
     ]
    }
   ],
   "source": [
    "i = int(input(\"Input a number to be sent through the Collatz conjecture\"))\n",
    "print(\"Input: \" + str(i))\n",
    "list = []\n",
    "while i != 1:\n",
    "   if (i % 2):\n",
    "      i = int(3*i + 1)\n",
    "   else:\n",
    "      i = int(i/2)\n",
    "   list.append(i)\n",
    "print(list)\n",
    "print(\"It took \" + str(len(list)) + \" tries to equal 1\")"
   ]
  },
  {
   "attachments": {},
   "cell_type": "markdown",
   "metadata": {},
   "source": [
    "### Hack #2"
   ]
  },
  {
   "cell_type": "code",
   "execution_count": 34,
   "metadata": {},
   "outputs": [
    {
     "name": "stdout",
     "output_type": "stream",
     "text": [
      "8\n",
      "The number is even\n",
      "7\n",
      "The random number is odd\n",
      "10\n",
      "The number is even\n",
      "3\n",
      "The random number is odd\n",
      "7\n",
      "The random number is odd\n"
     ]
    }
   ],
   "source": [
    "import random\n",
    "i = int(input(\"How many numbers do you want\"))\n",
    "for a in range(i):\n",
    "   run = random.randint(1,10)\n",
    "   print(run)\n",
    "   if (run%2!=0):\n",
    "      print(\"The random number is odd\")\n",
    "   else:\n",
    "      print(\"The number is even\")\n"
   ]
  },
  {
   "cell_type": "code",
   "execution_count": 35,
   "metadata": {},
   "outputs": [
    {
     "name": "stdout",
     "output_type": "stream",
     "text": [
      "2\n",
      "The random number is even\n",
      "9\n",
      "The random number is odd\n",
      "10\n",
      "The number is even\n",
      "10\n",
      "The number is even\n",
      "2\n",
      "The number is even\n"
     ]
    }
   ],
   "source": [
    "import random\n",
    "\n",
    "a = random.randint(1,10)\n",
    "\n",
    "b = random.randint(1,10)\n",
    "\n",
    "c = random.randint(1,10)\n",
    "\n",
    "d = random.randint(1,10)\n",
    "\n",
    "e = random.randint(1,10)\n",
    "\n",
    "print(a)\n",
    "if (a%2!=0):\n",
    "   print(\"The random number is odd\")\n",
    "else:\n",
    "   print(\"The random number is even\")\n",
    "print(b)\n",
    "if (b%2!=0):\n",
    "   print(\"The random number is odd\")\n",
    "else:\n",
    "   print(\"The number is even\")\n",
    "print(c)\n",
    "if (c%2!=0):\n",
    "   print(\"The random number is odd\")\n",
    "else:\n",
    "   print(\"The number is even\")\n",
    "print(d)\n",
    "if (d%2!=0):\n",
    "   print(\"The random number is odd\")\n",
    "else:\n",
    "   print(\"The number is even\")\n",
    "print(e)\n",
    "if (e%2!=0):\n",
    "   print(\"The random number is odd\")\n",
    "else:\n",
    "   print(\"The number is even\")"
   ]
  },
  {
   "attachments": {},
   "cell_type": "markdown",
   "metadata": {},
   "source": [
    "### Hack #3\n",
    "\n",
    "As you can see, the second cell has way more lines then the first cell and is less efficient then the first cell. This is due to the while loop and the use of variables in the first cell. The while loop let me loop through the same if statement multiple times so I don't have to define and write 5 different variables and if statements like I had to in the second cell. "
   ]
  },
  {
   "attachments": {},
   "cell_type": "markdown",
   "metadata": {},
   "source": [
    "### Hack #4\n",
    "\n",
    "Throughout the first hack and the 3rd hack I used variables, if statements, and loops to program your algorithm to make my hack more efficient. "
   ]
  }
 ],
 "metadata": {
  "kernelspec": {
   "display_name": "base",
   "language": "python",
   "name": "python3"
  },
  "language_info": {
   "codemirror_mode": {
    "name": "ipython",
    "version": 3
   },
   "file_extension": ".py",
   "mimetype": "text/x-python",
   "name": "python",
   "nbconvert_exporter": "python",
   "pygments_lexer": "ipython3",
   "version": "3.9.12"
  },
  "orig_nbformat": 4,
  "vscode": {
   "interpreter": {
    "hash": "e0fc684ee1127f33ee8cad036986f443a50d2cee061383c1e6132f75ec3c79dc"
   }
  }
 },
 "nbformat": 4,
 "nbformat_minor": 2
}
