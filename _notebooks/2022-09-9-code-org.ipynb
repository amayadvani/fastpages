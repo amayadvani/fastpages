{
 "cells": [
  {
   "cell_type": "markdown",
   "metadata": {},
   "source": [
    "# Program Design with code.org lab\n",
    "> Blogging my experience\n",
    "\n",
    "- toc: true\n",
    "- comments: true\n",
    "- categories: [jupyter, week3]\n",
    "- author: Amay Advani"
   ]
  },
  {
   "cell_type": "markdown",
   "metadata": {},
   "source": [
    "## Intial Thoughts\n",
    "\n",
    "At first when I heard about this assignment I wanted to start with the code right away, although, I soon realized that I would have to make my design first to define all my needed variables"
   ]
  },
  {
   "cell_type": "markdown",
   "metadata": {},
   "source": [
    "## Design\n",
    "\n",
    "I choose the preset theme, *glow in the dark*, because I wanted to make my quiz unique. Although when I started dragging buttons and text-boxes i ran into issues defining buttons because i would define the same button to do two different things at different places in the code. I had to rethink my design and how I would generally go about the creation of the quiz. Before, whether the user would see another screen when clicking the right or wrong answer, then switch to the next question. But, there would be the same button would be defined multiple times. TO fix this problem, instead of making the code switch to another screen to indicate whether the right or wrong answer was given, I added a label and made the label display correct or incorrect."
   ]
  },
  {
   "cell_type": "markdown",
   "metadata": {},
   "source": [
    "## Code\n",
    "\n",
    "For the code of this website was originally on block code, but I changed mine to regular javascript, because it is easier to work with and define variables and run code. In addition, I added a percentage checker so that after you take the test, it will show how many u got right. Everything the user picks the correct answer, the a variable is had one added onto it. "
   ]
  },
  {
   "cell_type": "markdown",
   "metadata": {},
   "source": [
    "## Extra Python quiz\n",
    "\n",
    "To show my interest and expertise in this topic, I creates another quiz off python in my notebook. \n",
    "\n",
    "Here is the [link](https://amayadvani.github.io/fastpages/jupyter/week3/2022/09/11/python-extra-quiz.html)"
   ]
  }
 ],
 "metadata": {
  "kernelspec": {
   "display_name": "Python 3.8.10 64-bit",
   "language": "python",
   "name": "python3"
  },
  "language_info": {
   "name": "python",
   "version": "3.8.10"
  },
  "orig_nbformat": 4,
  "vscode": {
   "interpreter": {
    "hash": "916dbcbb3f70747c44a77c7bcd40155683ae19c65e1c03b4aa3499c5328201f1"
   }
  }
 },
 "nbformat": 4,
 "nbformat_minor": 2
}
