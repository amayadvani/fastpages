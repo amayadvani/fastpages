{
 "cells": [
  {
   "attachments": {},
   "cell_type": "markdown",
   "metadata": {},
   "source": [
    "# Completed Code for Examples of Data Structures including List, Dictionaries, 2D arrays and Iteration (Big Idea 3).\n",
    "> n/a\n",
    "- toc: true"
   ]
  },
  {
   "attachments": {},
   "cell_type": "markdown",
   "metadata": {},
   "source": [
    "## List Sim"
   ]
  },
  {
   "cell_type": "code",
   "execution_count": 3,
   "metadata": {},
   "outputs": [
    {
     "name": "stdout",
     "output_type": "stream",
     "text": [
      "bread added to the list!\n",
      "milk added to the list!\n",
      "milk removed from the list!\n",
      "Grocery List:\n",
      "- bread\n",
      "Invalid action. Try again.\n",
      "Invalid action. Try again.\n",
      "Invalid action. Try again.\n",
      "Invalid action. Try again.\n",
      "Invalid action. Try again.\n"
     ]
    },
    {
     "ename": "KeyboardInterrupt",
     "evalue": "Interrupted by user",
     "output_type": "error",
     "traceback": [
      "\u001b[0;31m---------------------------------------------------------------------------\u001b[0m",
      "\u001b[0;31mKeyboardInterrupt\u001b[0m                         Traceback (most recent call last)",
      "\u001b[1;32m/home/amaya/vscode/vscode/fastpages/_notebooks/2023-04-16-workingexamples.ipynb Cell 3\u001b[0m in \u001b[0;36m<cell line: 3>\u001b[0;34m()\u001b[0m\n\u001b[1;32m      <a href='vscode-notebook-cell://wsl%2Bubuntu/home/amaya/vscode/vscode/fastpages/_notebooks/2023-04-16-workingexamples.ipynb#W2sdnNjb2RlLXJlbW90ZQ%3D%3D?line=0'>1</a>\u001b[0m grocery_list \u001b[39m=\u001b[39m []\n\u001b[1;32m      <a href='vscode-notebook-cell://wsl%2Bubuntu/home/amaya/vscode/vscode/fastpages/_notebooks/2023-04-16-workingexamples.ipynb#W2sdnNjb2RlLXJlbW90ZQ%3D%3D?line=1'>2</a>\u001b[0m \u001b[39mwhile\u001b[39;00m \u001b[39mTrue\u001b[39;00m:\n\u001b[0;32m----> <a href='vscode-notebook-cell://wsl%2Bubuntu/home/amaya/vscode/vscode/fastpages/_notebooks/2023-04-16-workingexamples.ipynb#W2sdnNjb2RlLXJlbW90ZQ%3D%3D?line=2'>3</a>\u001b[0m     action \u001b[39m=\u001b[39m \u001b[39minput\u001b[39;49m(\u001b[39m\"\u001b[39;49m\u001b[39mEnter \u001b[39;49m\u001b[39m'\u001b[39;49m\u001b[39madd\u001b[39;49m\u001b[39m'\u001b[39;49m\u001b[39m to add an item, \u001b[39;49m\u001b[39m'\u001b[39;49m\u001b[39mremove\u001b[39;49m\u001b[39m'\u001b[39;49m\u001b[39m to remove an item, or \u001b[39;49m\u001b[39m'\u001b[39;49m\u001b[39mdisplay\u001b[39;49m\u001b[39m'\u001b[39;49m\u001b[39m to show the list: \u001b[39;49m\u001b[39m\"\u001b[39;49m)\n\u001b[1;32m      <a href='vscode-notebook-cell://wsl%2Bubuntu/home/amaya/vscode/vscode/fastpages/_notebooks/2023-04-16-workingexamples.ipynb#W2sdnNjb2RlLXJlbW90ZQ%3D%3D?line=3'>4</a>\u001b[0m     \u001b[39mif\u001b[39;00m action \u001b[39m==\u001b[39m \u001b[39m\"\u001b[39m\u001b[39madd\u001b[39m\u001b[39m\"\u001b[39m:\n\u001b[1;32m      <a href='vscode-notebook-cell://wsl%2Bubuntu/home/amaya/vscode/vscode/fastpages/_notebooks/2023-04-16-workingexamples.ipynb#W2sdnNjb2RlLXJlbW90ZQ%3D%3D?line=4'>5</a>\u001b[0m         item \u001b[39m=\u001b[39m \u001b[39minput\u001b[39m(\u001b[39m\"\u001b[39m\u001b[39mEnter an item to add to the list: \u001b[39m\u001b[39m\"\u001b[39m)\n",
      "File \u001b[0;32m~/anaconda3/lib/python3.9/site-packages/ipykernel/kernelbase.py:1075\u001b[0m, in \u001b[0;36mKernel.raw_input\u001b[0;34m(self, prompt)\u001b[0m\n\u001b[1;32m   1071\u001b[0m \u001b[39mif\u001b[39;00m \u001b[39mnot\u001b[39;00m \u001b[39mself\u001b[39m\u001b[39m.\u001b[39m_allow_stdin:\n\u001b[1;32m   1072\u001b[0m     \u001b[39mraise\u001b[39;00m StdinNotImplementedError(\n\u001b[1;32m   1073\u001b[0m         \u001b[39m\"\u001b[39m\u001b[39mraw_input was called, but this frontend does not support input requests.\u001b[39m\u001b[39m\"\u001b[39m\n\u001b[1;32m   1074\u001b[0m     )\n\u001b[0;32m-> 1075\u001b[0m \u001b[39mreturn\u001b[39;00m \u001b[39mself\u001b[39;49m\u001b[39m.\u001b[39;49m_input_request(\n\u001b[1;32m   1076\u001b[0m     \u001b[39mstr\u001b[39;49m(prompt),\n\u001b[1;32m   1077\u001b[0m     \u001b[39mself\u001b[39;49m\u001b[39m.\u001b[39;49m_parent_ident[\u001b[39m\"\u001b[39;49m\u001b[39mshell\u001b[39;49m\u001b[39m\"\u001b[39;49m],\n\u001b[1;32m   1078\u001b[0m     \u001b[39mself\u001b[39;49m\u001b[39m.\u001b[39;49mget_parent(\u001b[39m\"\u001b[39;49m\u001b[39mshell\u001b[39;49m\u001b[39m\"\u001b[39;49m),\n\u001b[1;32m   1079\u001b[0m     password\u001b[39m=\u001b[39;49m\u001b[39mFalse\u001b[39;49;00m,\n\u001b[1;32m   1080\u001b[0m )\n",
      "File \u001b[0;32m~/anaconda3/lib/python3.9/site-packages/ipykernel/kernelbase.py:1120\u001b[0m, in \u001b[0;36mKernel._input_request\u001b[0;34m(self, prompt, ident, parent, password)\u001b[0m\n\u001b[1;32m   1117\u001b[0m             \u001b[39mbreak\u001b[39;00m\n\u001b[1;32m   1118\u001b[0m \u001b[39mexcept\u001b[39;00m \u001b[39mKeyboardInterrupt\u001b[39;00m:\n\u001b[1;32m   1119\u001b[0m     \u001b[39m# re-raise KeyboardInterrupt, to truncate traceback\u001b[39;00m\n\u001b[0;32m-> 1120\u001b[0m     \u001b[39mraise\u001b[39;00m \u001b[39mKeyboardInterrupt\u001b[39;00m(\u001b[39m\"\u001b[39m\u001b[39mInterrupted by user\u001b[39m\u001b[39m\"\u001b[39m) \u001b[39mfrom\u001b[39;00m \u001b[39mNone\u001b[39m\n\u001b[1;32m   1121\u001b[0m \u001b[39mexcept\u001b[39;00m \u001b[39mException\u001b[39;00m:\n\u001b[1;32m   1122\u001b[0m     \u001b[39mself\u001b[39m\u001b[39m.\u001b[39mlog\u001b[39m.\u001b[39mwarning(\u001b[39m\"\u001b[39m\u001b[39mInvalid Message:\u001b[39m\u001b[39m\"\u001b[39m, exc_info\u001b[39m=\u001b[39m\u001b[39mTrue\u001b[39;00m)\n",
      "\u001b[0;31mKeyboardInterrupt\u001b[0m: Interrupted by user"
     ]
    }
   ],
   "source": [
    "grocery_list = []\n",
    "while True:\n",
    "    action = input(\"Enter 'add' to add an item, 'remove' to remove an item, or 'display' to show the list: \")\n",
    "    if action == \"add\":\n",
    "        item = input(\"Enter an item to add to the list: \")\n",
    "        grocery_list.append(item)\n",
    "        print(f\"{item} added to the list!\")\n",
    "    elif action == \"remove\":\n",
    "        item = input(\"Enter an item to remove from the list: \")\n",
    "        if item in grocery_list:\n",
    "            grocery_list.remove(item)\n",
    "            print(f\"{item} removed from the list!\")\n",
    "        else:\n",
    "            print(f\"{item} not found in the list.\")\n",
    "    elif action == \"display\":\n",
    "        print(\"Grocery List:\")\n",
    "        for item in grocery_list:\n",
    "            print(f\"- {item}\")\n"
   ]
  },
  {
   "attachments": {},
   "cell_type": "markdown",
   "metadata": {},
   "source": [
    "## Dictionary Sim"
   ]
  },
  {
   "cell_type": "code",
   "execution_count": 2,
   "metadata": {},
   "outputs": [
    {
     "name": "stdout",
     "output_type": "stream",
     "text": [
      "amay added to the phone book!\n",
      "amay: 8582679080\n"
     ]
    }
   ],
   "source": [
    "phone_book = {}\n",
    "while True:\n",
    "    action = input(\"Enter 'add' to add a contact, 'search' to search for a contact, 'update' to update a contact, or 'exit' to quit: \")\n",
    "    if action == \"add\":\n",
    "        name = input(\"Enter a name for the contact: \")\n",
    "        phone = input(\"Enter a phone number for the contact: \")\n",
    "        phone_book[name] = phone\n",
    "        print(f\"{name} added to the phone book!\")\n",
    "    elif action == \"search\":\n",
    "        name = input(\"Enter a name to search for: \")\n",
    "        if name in phone_book:\n",
    "            phone = phone_book[name]\n",
    "            print(f\"{name}: {phone}\")\n",
    "        else:\n",
    "            print(f\"{name} not found in the phone book.\")\n",
    "    elif action == \"update\":\n",
    "        name = input(\"Enter a name to update: \")\n",
    "        if name in phone_book:\n",
    "            phone = input(\"Enter a new phone number: \")\n",
    "            phone_book[name] = phone\n",
    "            print(f\"{name}'s phone number updated to {phone}!\")\n",
    "        else:\n",
    "            print(f\"{name} not found in the phone book.\")\n",
    "    elif action == \"exit\":\n",
    "        break\n",
    "    else:\n",
    "        print(\"Invalid action. Try again.\")\n"
   ]
  },
  {
   "attachments": {},
   "cell_type": "markdown",
   "metadata": {},
   "source": [
    "## 2D Array Simulation"
   ]
  },
  {
   "cell_type": "code",
   "execution_count": 1,
   "metadata": {},
   "outputs": [
    {
     "name": "stdout",
     "output_type": "stream",
     "text": [
      "Current Board:\n",
      "- - -\n",
      "- - -\n",
      "- - -\n",
      "Current Board:\n",
      "- - -\n",
      "- 2 -\n",
      "- - -\n",
      "Current Board:\n",
      "- - -\n",
      "- 2 -\n",
      "-  -\n"
     ]
    },
    {
     "ename": "ValueError",
     "evalue": "invalid literal for int() with base 10: ''",
     "output_type": "error",
     "traceback": [
      "\u001b[0;31m---------------------------------------------------------------------------\u001b[0m",
      "\u001b[0;31mValueError\u001b[0m                                Traceback (most recent call last)",
      "\u001b[1;32m/home/amaya/vscode/vscode/fastpages/_notebooks/2023-04-16-workingexamples.ipynb Cell 7\u001b[0m in \u001b[0;36m<cell line: 7>\u001b[0;34m()\u001b[0m\n\u001b[1;32m      <a href='vscode-notebook-cell://wsl%2Bubuntu/home/amaya/vscode/vscode/fastpages/_notebooks/2023-04-16-workingexamples.ipynb#X10sdnNjb2RlLXJlbW90ZQ%3D%3D?line=7'>8</a>\u001b[0m \u001b[39mfor\u001b[39;00m row \u001b[39min\u001b[39;00m board:\n\u001b[1;32m      <a href='vscode-notebook-cell://wsl%2Bubuntu/home/amaya/vscode/vscode/fastpages/_notebooks/2023-04-16-workingexamples.ipynb#X10sdnNjb2RlLXJlbW90ZQ%3D%3D?line=8'>9</a>\u001b[0m     \u001b[39mprint\u001b[39m(\u001b[39m\"\u001b[39m\u001b[39m \u001b[39m\u001b[39m\"\u001b[39m\u001b[39m.\u001b[39mjoin(row))\n\u001b[0;32m---> <a href='vscode-notebook-cell://wsl%2Bubuntu/home/amaya/vscode/vscode/fastpages/_notebooks/2023-04-16-workingexamples.ipynb#X10sdnNjb2RlLXJlbW90ZQ%3D%3D?line=10'>11</a>\u001b[0m row \u001b[39m=\u001b[39m \u001b[39mint\u001b[39;49m(\u001b[39minput\u001b[39;49m(\u001b[39m\"\u001b[39;49m\u001b[39mEnter a row (0-2): \u001b[39;49m\u001b[39m\"\u001b[39;49m))\n\u001b[1;32m     <a href='vscode-notebook-cell://wsl%2Bubuntu/home/amaya/vscode/vscode/fastpages/_notebooks/2023-04-16-workingexamples.ipynb#X10sdnNjb2RlLXJlbW90ZQ%3D%3D?line=11'>12</a>\u001b[0m col \u001b[39m=\u001b[39m \u001b[39mint\u001b[39m(\u001b[39minput\u001b[39m(\u001b[39m\"\u001b[39m\u001b[39mEnter a column (0-2): \u001b[39m\u001b[39m\"\u001b[39m))\n\u001b[1;32m     <a href='vscode-notebook-cell://wsl%2Bubuntu/home/amaya/vscode/vscode/fastpages/_notebooks/2023-04-16-workingexamples.ipynb#X10sdnNjb2RlLXJlbW90ZQ%3D%3D?line=13'>14</a>\u001b[0m \u001b[39mif\u001b[39;00m board[row][col] \u001b[39m!=\u001b[39m \u001b[39m'\u001b[39m\u001b[39m-\u001b[39m\u001b[39m'\u001b[39m:\n",
      "\u001b[0;31mValueError\u001b[0m: invalid literal for int() with base 10: ''"
     ]
    }
   ],
   "source": [
    "board = [    ['-', '-', '-'],\n",
    "    ['-', '-', '-'],\n",
    "    ['-', '-', '-']\n",
    "]\n",
    "\n",
    "while True:\n",
    "    print(\"Current Board:\")\n",
    "    for row in board:\n",
    "        print(\" \".join(row))\n",
    "    \n",
    "    row = int(input(\"Enter a row (0-2): \"))\n",
    "    col = int(input(\"Enter a column (0-2): \"))\n",
    "    \n",
    "    if board[row][col] != '-':\n",
    "        print(\"That position is already taken. Try again.\")\n",
    "        continue\n",
    "    \n",
    "    piece = input(\"Enter a piece ('X' or 'O'): \")\n",
    "    board[row][col] = piece\n",
    "    \n",
    "    # Check for win condition\n",
    "    for i in range(3):\n",
    "        if board[i][0] == board[i][1] == board[i][2] != '-':\n",
    "            print(f\"{piece} wins!\")\n",
    "            exit()\n",
    "        if board[0][i] == board[1][i] == board[2][i] != '-':\n",
    "            print(f\"{piece} wins!\")\n",
    "            exit()\n",
    "    if board[0][0] == board[1][1] == board[2][2] != '-':\n",
    "        print(f\"{piece} wins!\")\n",
    "        exit()\n",
    "    if board[0][2] == board[1][1] == board[2][0] != '-':\n",
    "        print(f\"{piece} wins!\")\n",
    "        exit()"
   ]
  }
 ],
 "metadata": {
  "kernelspec": {
   "display_name": "base",
   "language": "python",
   "name": "python3"
  },
  "language_info": {
   "codemirror_mode": {
    "name": "ipython",
    "version": 3
   },
   "file_extension": ".py",
   "mimetype": "text/x-python",
   "name": "python",
   "nbconvert_exporter": "python",
   "pygments_lexer": "ipython3",
   "version": "3.9.12"
  },
  "orig_nbformat": 4
 },
 "nbformat": 4,
 "nbformat_minor": 2
}
