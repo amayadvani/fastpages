{
 "cells": [
  {
   "cell_type": "markdown",
   "metadata": {},
   "source": [
    "# 3.9 and 3.11 Hacks\n",
    "- toc: true\n",
    "- badges: true\n",
    "- comments: true"
   ]
  },
  {
   "cell_type": "markdown",
   "metadata": {},
   "source": [
    "### Unit 3.9.1 Hacks\n",
    "\n",
    "1) It is important to know that algorithms can have different results even though they look the same because it is good to know different ways to accomplish the same thing. This can help visualized the steps and process to make the coding process more efficient. \n",
    "\n",
    "In addition algorithms having different outputs but similar code is important to know when trouble shooting code in order to find out what is wrong. "
   ]
  },
  {
   "cell_type": "code",
   "execution_count": 1,
   "metadata": {},
   "outputs": [
    {
     "name": "stdout",
     "output_type": "stream",
     "text": [
      "You won!\n"
     ]
    }
   ],
   "source": [
    "isTeams = False\n",
    "isScore = True\n",
    "\n",
    "if isTeams == True:\n",
    "   print(\"You didn't win the game yet!\")\n",
    "else: \n",
    "   if isScore == True:\n",
    "      print(\"You won!\")\n",
    "   else: \n",
    "      print(\"You didn't win the game yet!\")"
   ]
  },
  {
   "cell_type": "code",
   "execution_count": 2,
   "metadata": {},
   "outputs": [
    {
     "name": "stdout",
     "output_type": "stream",
     "text": [
      "You won the game!\n"
     ]
    }
   ],
   "source": [
    "isTeams = False\n",
    "isScore = True\n",
    "\n",
    "winGame = not(isTeams) and isScore\n",
    "if winGame == False:\n",
    "    print(\"You didn't win the game yet!\")\n",
    "if winGame == True:\n",
    "    print(\"You won the game!\")"
   ]
  },
  {
   "cell_type": "markdown",
   "metadata": {},
   "source": [
    "### 3.9.2 Hacks\n",
    "\n",
    "Flow chart: natural lan    \n",
    "\n",
    "So if it is raining, and the temp is less then 45 degrees, then you should wear multiple layers, but if it isn't then, you can wear what ever u want. Although if it isn't raining, then it asks\n",
    "\n",
    "![](./ghtop_images/flowchart.png)"
   ]
  },
  {
   "cell_type": "code",
   "execution_count": 6,
   "metadata": {},
   "outputs": [
    {
     "name": "stdout",
     "output_type": "stream",
     "text": [
      "Wear whatever u want\n"
     ]
    }
   ],
   "source": [
    "isRaining = True\n",
    "temp = 70\n",
    "if isRaining == True and temp <  45:\n",
    "      print(\"Wear multiple layers.\")\n",
    "else:\n",
    "   if temp > 45:\n",
    "      print(\"Wear whatever u want\")\n",
    "   else:\n",
    "      if isRaining == False:\n",
    "         bro = input(\"is it sunny or snowing?\") \n",
    "      else:\n",
    "          print(\"what is the weather like?\")\n"
   ]
  },
  {
   "cell_type": "markdown",
   "metadata": {},
   "source": [
    "### 3.9.3 Hacks"
   ]
  },
  {
   "cell_type": "code",
   "execution_count": 7,
   "metadata": {},
   "outputs": [
    {
     "name": "stdout",
     "output_type": "stream",
     "text": [
      "I'm thinking of a number between 1 and 100.\n",
      "You guessed None.\n"
     ]
    },
    {
     "ename": "TypeError",
     "evalue": "'<' not supported between instances of 'NoneType' and 'int'",
     "output_type": "error",
     "traceback": [
      "\u001b[0;31m---------------------------------------------------------------------------\u001b[0m",
      "\u001b[0;31mTypeError\u001b[0m                                 Traceback (most recent call last)",
      "\u001b[1;32m/home/amaya/vscode/vscode/fastpages/_notebooks/2022-12-05-39and311.ipynb Cell 7\u001b[0m in \u001b[0;36m<cell line: 32>\u001b[0;34m()\u001b[0m\n\u001b[1;32m     <a href='vscode-notebook-cell://wsl%2Bubuntu/home/amaya/vscode/vscode/fastpages/_notebooks/2022-12-05-39and311.ipynb#X11sdnNjb2RlLXJlbW90ZQ%3D%3D?line=33'>34</a>\u001b[0m     num_guesses \u001b[39m+\u001b[39m\u001b[39m=\u001b[39m \u001b[39m1\u001b[39m\n\u001b[1;32m     <a href='vscode-notebook-cell://wsl%2Bubuntu/home/amaya/vscode/vscode/fastpages/_notebooks/2022-12-05-39and311.ipynb#X11sdnNjb2RlLXJlbW90ZQ%3D%3D?line=34'>35</a>\u001b[0m     \u001b[39mprint\u001b[39m(\u001b[39mf\u001b[39m\u001b[39m\"\u001b[39m\u001b[39mYou guessed \u001b[39m\u001b[39m{\u001b[39;00muser_guess\u001b[39m}\u001b[39;00m\u001b[39m.\u001b[39m\u001b[39m\"\u001b[39m)\n\u001b[0;32m---> <a href='vscode-notebook-cell://wsl%2Bubuntu/home/amaya/vscode/vscode/fastpages/_notebooks/2022-12-05-39and311.ipynb#X11sdnNjb2RlLXJlbW90ZQ%3D%3D?line=35'>36</a>\u001b[0m     lower_bound, upper_bound \u001b[39m=\u001b[39m search(number, user_guess)\n\u001b[1;32m     <a href='vscode-notebook-cell://wsl%2Bubuntu/home/amaya/vscode/vscode/fastpages/_notebooks/2022-12-05-39and311.ipynb#X11sdnNjb2RlLXJlbW90ZQ%3D%3D?line=36'>37</a>\u001b[0m     \u001b[39mprint\u001b[39m(\u001b[39mf\u001b[39m\u001b[39m\"\u001b[39m\u001b[39mGuess a number between \u001b[39m\u001b[39m{\u001b[39;00mlower_bound\u001b[39m}\u001b[39;00m\u001b[39m and \u001b[39m\u001b[39m{\u001b[39;00mupper_bound\u001b[39m}\u001b[39;00m\u001b[39m.\u001b[39m\u001b[39m\"\u001b[39m)\n\u001b[1;32m     <a href='vscode-notebook-cell://wsl%2Bubuntu/home/amaya/vscode/vscode/fastpages/_notebooks/2022-12-05-39and311.ipynb#X11sdnNjb2RlLXJlbW90ZQ%3D%3D?line=38'>39</a>\u001b[0m \u001b[39mprint\u001b[39m(\u001b[39mf\u001b[39m\u001b[39m\"\u001b[39m\u001b[39mYou guessed the number in \u001b[39m\u001b[39m{\u001b[39;00mnum_guesses\u001b[39m}\u001b[39;00m\u001b[39m guesses!\u001b[39m\u001b[39m\"\u001b[39m)\n",
      "\u001b[1;32m/home/amaya/vscode/vscode/fastpages/_notebooks/2022-12-05-39and311.ipynb Cell 7\u001b[0m in \u001b[0;36msearch\u001b[0;34m(number, guess)\u001b[0m\n\u001b[1;32m     <a href='vscode-notebook-cell://wsl%2Bubuntu/home/amaya/vscode/vscode/fastpages/_notebooks/2022-12-05-39and311.ipynb#X11sdnNjb2RlLXJlbW90ZQ%3D%3D?line=21'>22</a>\u001b[0m \u001b[39mdef\u001b[39;00m \u001b[39msearch\u001b[39m(number, guess):\n\u001b[1;32m     <a href='vscode-notebook-cell://wsl%2Bubuntu/home/amaya/vscode/vscode/fastpages/_notebooks/2022-12-05-39and311.ipynb#X11sdnNjb2RlLXJlbW90ZQ%3D%3D?line=22'>23</a>\u001b[0m     \u001b[39mglobal\u001b[39;00m lower_bound, upper_bound\n\u001b[0;32m---> <a href='vscode-notebook-cell://wsl%2Bubuntu/home/amaya/vscode/vscode/fastpages/_notebooks/2022-12-05-39and311.ipynb#X11sdnNjb2RlLXJlbW90ZQ%3D%3D?line=23'>24</a>\u001b[0m     \u001b[39mif\u001b[39;00m guess \u001b[39m<\u001b[39;49m number:\n\u001b[1;32m     <a href='vscode-notebook-cell://wsl%2Bubuntu/home/amaya/vscode/vscode/fastpages/_notebooks/2022-12-05-39and311.ipynb#X11sdnNjb2RlLXJlbW90ZQ%3D%3D?line=24'>25</a>\u001b[0m         \u001b[39mprint\u001b[39m(\u001b[39m\"\u001b[39m\u001b[39mYou are bad at guessing\u001b[39m\u001b[39m\"\u001b[39m) \u001b[39m#change this\u001b[39;00m\n\u001b[1;32m     <a href='vscode-notebook-cell://wsl%2Bubuntu/home/amaya/vscode/vscode/fastpages/_notebooks/2022-12-05-39and311.ipynb#X11sdnNjb2RlLXJlbW90ZQ%3D%3D?line=25'>26</a>\u001b[0m         lower_bound \u001b[39m=\u001b[39m guess\n",
      "\u001b[0;31mTypeError\u001b[0m: '<' not supported between instances of 'NoneType' and 'int'"
     ]
    }
   ],
   "source": [
    "import random\n",
    "\n",
    "#sets variables for the game\n",
    "num_guesses = 0\n",
    "user_guess = 0\n",
    "upper_bound = 100\n",
    "lower_bound = 0\n",
    "\n",
    "#generates a random number\n",
    "number = random.randint(1,100)\n",
    "\n",
    "# print(number)     #for testing purposes\n",
    "\n",
    "print(f\"I'm thinking of a number between 1 and 100.\")\n",
    "\n",
    "#Write a function that gets a guess from the user using input()\n",
    "def guess():\n",
    "    return #add something here \n",
    "\n",
    "#Change the print statements to give feedback on whether the player guessed too high or too low\n",
    "def search(number, guess):\n",
    "    global lower_bound, upper_bound\n",
    "    if guess < number:\n",
    "        print(\"You are bad at guessing\") #change this\n",
    "        lower_bound = guess\n",
    "    elif guess > number:\n",
    "        print(\"You suck :(\") #change this\n",
    "        upper_bound = guess\n",
    "    return lower_bound, upper_bound\n",
    "\n",
    "while user_guess != number:\n",
    "    user_guess = guess()\n",
    "    num_guesses += 1\n",
    "    print(f\"You guessed {user_guess}.\")\n",
    "    lower_bound, upper_bound = search(number, user_guess)\n",
    "    print(f\"Guess a number between {lower_bound} and {upper_bound}.\")\n",
    "\n",
    "print(f\"You guessed the number in {num_guesses} guesses!\")"
   ]
  },
  {
   "cell_type": "markdown",
   "metadata": {},
   "source": [
    "![](./ghtop_images/flow2.png)"
   ]
  },
  {
   "cell_type": "code",
   "execution_count": 18,
   "metadata": {},
   "outputs": [
    {
     "name": "stdout",
     "output_type": "stream",
     "text": [
      "50\n",
      "Guess a higher number\n",
      "60\n",
      "Guess a higher number\n",
      "70\n",
      "Guess a higher number\n",
      "80\n",
      "Guess a higher number\n",
      "90\n",
      "Guess a lower number\n",
      "90\n",
      "Guess a lower number\n",
      "85\n",
      "Guess a lower number\n",
      "83\n",
      "Guess a higher number\n",
      "84\n",
      "Good Job, You guessed the right number!\n"
     ]
    }
   ],
   "source": [
    "num = random.randint(0, 100)\n",
    "#print(num)\n",
    "var = False\n",
    "while var == False:\n",
    "   put = input(\"I am thinking of a number from between 1-100.\")\n",
    "   print(put)\n",
    "   if num < int(put):\n",
    "      print(\"Guess a lower number\")\n",
    "   if int(put) < num:\n",
    "      print(\"Guess a higher number\")\n",
    "   if num == int(put):\n",
    "      print(\"Good Job, You guessed the right number!\")\n",
    "      var = True\n",
    "   "
   ]
  },
  {
   "cell_type": "markdown",
   "metadata": {},
   "source": [
    "### 3.11 Hacks"
   ]
  },
  {
   "cell_type": "code",
   "execution_count": 27,
   "metadata": {},
   "outputs": [
    {
     "name": "stdout",
     "output_type": "stream",
     "text": [
      "3\n",
      "57\n"
     ]
    }
   ],
   "source": [
    "index = [12, 14, 43, 57, 79, 80, 99]\n",
    "\n",
    "mid = int(len(index) / 2) \n",
    "print(mid)\n",
    "print(index[mid])"
   ]
  },
  {
   "cell_type": "code",
   "execution_count": 28,
   "metadata": {},
   "outputs": [
    {
     "name": "stdout",
     "output_type": "stream",
     "text": [
      "3\n",
      "66\n"
     ]
    }
   ],
   "source": [
    "index = [92, 43, 74, 66, 30, 12, 1]\n",
    "\n",
    "mid = int(len(index) / 2) \n",
    "print(mid)\n",
    "print(index[mid])"
   ]
  },
  {
   "cell_type": "code",
   "execution_count": 29,
   "metadata": {},
   "outputs": [
    {
     "name": "stdout",
     "output_type": "stream",
     "text": [
      "3\n",
      "111\n"
     ]
    }
   ],
   "source": [
    "index = [7, 13, 96, 111, 33, 84, 60]\n",
    "\n",
    "mid = int(len(index) / 2) \n",
    "print(mid)\n",
    "print(index[mid])"
   ]
  },
  {
   "cell_type": "markdown",
   "metadata": {},
   "source": [
    "![](./ghtop_images/index1.png)\n",
    "\n",
    "![](./ghtop_images/index2.png)\n",
    "\n",
    "![](./ghtop_images/index3.png)\n",
    "\n",
    "2) Set one : 14\n",
    "\n",
    "Set two: 12\n",
    "\n",
    "Set three: 13\n",
    "\n",
    "\n",
    "3) A, this is because there technically is no middle element in the list when there is only 4 element. "
   ]
  }
 ],
 "metadata": {
  "kernelspec": {
   "display_name": "Python 3.8.10 64-bit",
   "language": "python",
   "name": "python3"
  },
  "language_info": {
   "codemirror_mode": {
    "name": "ipython",
    "version": 3
   },
   "file_extension": ".py",
   "mimetype": "text/x-python",
   "name": "python",
   "nbconvert_exporter": "python",
   "pygments_lexer": "ipython3",
   "version": "3.8.10"
  },
  "orig_nbformat": 4,
  "vscode": {
   "interpreter": {
    "hash": "916dbcbb3f70747c44a77c7bcd40155683ae19c65e1c03b4aa3499c5328201f1"
   }
  }
 },
 "nbformat": 4,
 "nbformat_minor": 2
}
