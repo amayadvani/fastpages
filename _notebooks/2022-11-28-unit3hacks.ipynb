{
 "cells": [
  {
   "cell_type": "markdown",
   "metadata": {},
   "source": [
    "#  Unit 3.1-3.2 Hacks\n",
    "> n/a\n",
    "- toc: true\n",
    "- badges: true\n",
    "- comments: true"
   ]
  },
  {
   "cell_type": "markdown",
   "metadata": {},
   "source": [
    "## Eddy Hacks"
   ]
  },
  {
   "cell_type": "code",
   "execution_count": 4,
   "metadata": {},
   "outputs": [
    {
     "name": "stdout",
     "output_type": "stream",
     "text": [
      "amay is 16\n"
     ]
    }
   ],
   "source": [
    "name = \"amay\"\n",
    "\n",
    "age = \"16\"\n",
    "\n",
    "print(name + \" is \" + age)"
   ]
  },
  {
   "cell_type": "markdown",
   "metadata": {},
   "source": [
    "    ## Noor Hacks\n",
    "\n",
    "\n",
    "1) The assignment operator is used to assign the value, variable and function to another variable.\n",
    "\n",
    "2) They use arrows\n",
    "\n",
    "3) It would display 22"
   ]
  },
  {
   "cell_type": "markdown",
   "metadata": {},
   "source": [
    "## Nathan Hacks\n",
    "\n",
    "1) Lists are used to store multiple items in a single variable. Lists are one of 4 built-in data types in Python used to store collections of data, the other 3 are Tuple, Set, and Dictionary, all with different qualities and usage.\n",
    "\n",
    "2) The term element is used in computing to refer to a smaller component of a larger system. In computer programming, an array is a stored list of individual elements or pieces of data.\n",
    "\n",
    "3) index\n",
    "\n",
    "4) string = [\"amay\", \"alex\"]"
   ]
  },
  {
   "cell_type": "markdown",
   "metadata": {},
   "source": [
    "## Steven Hacks"
   ]
  },
  {
   "cell_type": "code",
   "execution_count": 6,
   "metadata": {},
   "outputs": [
    {
     "name": "stdout",
     "output_type": "stream",
     "text": [
      "[3, 4, 5]\n"
     ]
    }
   ],
   "source": [
    "num1=input(\"Input a number. \")\n",
    "num2=input(\"Input a number. \")\n",
    "num3=input(\"Input a number. \")\n",
    "add=input(\"How much would you like to add? \")\n",
    "\n",
    "# Add code in the space below\n",
    "\n",
    "numlist = [int(num1), int(num2), int(num3)]\n",
    "\n",
    "# The following is the code that adds the inputted addend to the other numbers. It is hidden from the user.\n",
    "\n",
    "for i in range(len(numlist)):\n",
    "    numlist[i-1] += int(add)\n",
    "\n",
    "print(numlist)"
   ]
  },
  {
   "cell_type": "markdown",
   "metadata": {},
   "source": [
    "## Liav Hacks\n",
    "![]({{ site.baseurl }}/images/liavquiz.png \"Python Quiz\")"
   ]
  },
  {
   "cell_type": "code",
   "execution_count": null,
   "metadata": {},
   "outputs": [],
   "source": [
    "food1 = \"pizza\" \n",
    "food2 = \"hot dog\" \n",
    "food3 = \"sushi\"\n",
    "food4 = \"strawberry\"\n",
    "food5 = \"sandwich\"\n",
    "print(food1, food2, food3, food4, food5)\n",
    "\n",
    "foods = [\"pizza\", \"hot dog\", \"sushi\", 'strawberry', 'sandwich']\n",
    "print(foods)"
   ]
  }
 ],
 "metadata": {
  "kernelspec": {
   "display_name": "Python 3.8.10 64-bit",
   "language": "python",
   "name": "python3"
  },
  "language_info": {
   "codemirror_mode": {
    "name": "ipython",
    "version": 3
   },
   "file_extension": ".py",
   "mimetype": "text/x-python",
   "name": "python",
   "nbconvert_exporter": "python",
   "pygments_lexer": "ipython3",
   "version": "3.8.10"
  },
  "orig_nbformat": 4,
  "vscode": {
   "interpreter": {
    "hash": "916dbcbb3f70747c44a77c7bcd40155683ae19c65e1c03b4aa3499c5328201f1"
   }
  }
 },
 "nbformat": 4,
 "nbformat_minor": 2
}
