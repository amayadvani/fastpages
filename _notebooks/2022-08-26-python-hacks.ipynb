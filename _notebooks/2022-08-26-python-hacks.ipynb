{
 "cells": [
  {
   "cell_type": "markdown",
   "metadata": {},
   "source": [
    "# Amay's Python Vocab Quiz\n",
    "> Python Hacks\n",
    "\n",
    "- toc:true \n",
    "- badges: true \n",
    "- comments: true\n",
    "- author: Amay Advani\n",
    "- catagories: [jupyter, week1]"
   ]
  },
  {
   "cell_type": "code",
   "execution_count": 23,
   "metadata": {},
   "outputs": [
    {
     "name": "stdout",
     "output_type": "stream",
     "text": [
      "Hello, amaya running /bin/python3\n",
      "You will be asked 6 questions.\n",
      "Question: Are you ready to take a test?\n",
      "Answer: yes\n",
      "Question: What command is used to include other functions that were previously developed?\n",
      "import is correct!\n",
      "Question: What command is used to evaluate correct or incorrect response in this example?\n",
      "if is correct!\n",
      "Question: Each 'if' command contains an '_________' to determine a true or false condition?\n",
      "expression is correct!\n",
      "Question: What is another word for putting data into you computer?\n",
      "input is correct!\n",
      "Question: If you see several lines of code in order, what is it known as?\n",
      "sequen is incorrect!\n",
      "Question: What is a Print Working Directory known as?\n",
      "pwd  is correct!\n",
      "amaya you scored 5/6\n",
      "Or 83%\n"
     ]
    }
   ],
   "source": [
    "import getpass, sys\n",
    "\n",
    "def question_with_response(prompt):\n",
    "    print(\"Question: \" + prompt)\n",
    "    msg = input()\n",
    "    return msg\n",
    "\n",
    "# defining q and c as question and correct answer\n",
    "q = 6\n",
    "c = 0\n",
    "\n",
    "# setting up the of the questions\n",
    "\n",
    "print('Hello, ' + getpass.getuser() + \" running \" + sys.executable)\n",
    "print(\"You will be asked \" + str(q) + \" questions.\")\n",
    "question_and_answer(\"Are you ready to take a test?\")\n",
    "\n",
    "# asking 6 question\n",
    "\n",
    "rsp = question_with_response(\"What command is used to include other functions that were previously developed?\")\n",
    "if rsp == \"import\":\n",
    "    print(rsp + \" is correct!\")\n",
    "    c += 1\n",
    "else:\n",
    "    print(rsp + \" is incorrect!\")\n",
    "\n",
    "rsp = question_with_response(\"What command is used to evaluate correct or incorrect response in this example?\")\n",
    "if rsp == \"if\":\n",
    "    print(rsp + \" is correct!\")\n",
    "    c += 1\n",
    "else:\n",
    "    print(rsp + \" is incorrect!\")\n",
    "\n",
    "rsp = question_with_response(\"Each 'if' command contains an '_________' to determine a true or false condition?\")\n",
    "if rsp == \"expression\":\n",
    "    print(rsp + \" is correct!\")\n",
    "    c += 1\n",
    "else:\n",
    "    print(rsp + \" is incorrect!\")\n",
    "rsp = question_with_response(\"What is another word for putting data into you computer?\")\n",
    "if rsp == \"input\":\n",
    "    print(rsp+  \" is correct!\")\n",
    "    c += 1\n",
    "else: \n",
    "    print(rsp + \" is incorrect!\")\n",
    "\n",
    "rsp = question_with_response(\"If you see several lines of code in order, what is it known as?\")\n",
    "if rsp == \"sequence\":\n",
    "    print(rsp + \" is correct!\")\n",
    "    c += 1\n",
    "else: \n",
    "    print(rsp + \" is incorrect!\")\n",
    "\n",
    "rsp = question_with_response(\"What is a Print Working Directory known as?\")\n",
    "if rsp == \"pwd\":\n",
    "    print(rsp + \"  is correct!\")\n",
    "    c += 1\n",
    "else: \n",
    "    print(rsp + \" is incorrect!\")\n",
    "\n",
    "# creating ratio/percentages between c and q\n",
    "\n",
    "print(getpass.getuser() + \" you scored \" + str(c) +\"/\" + str(q))\n",
    "\n",
    "y =  c/q\n",
    "x = int (100*y)\n",
    "print(\"Or \" + str(x) + \"%\")"
   ]
  }
 ],
 "metadata": {
  "kernelspec": {
   "display_name": "Python 3.8.10 64-bit",
   "language": "python",
   "name": "python3"
  },
  "language_info": {
   "codemirror_mode": {
    "name": "ipython",
    "version": 3
   },
   "file_extension": ".py",
   "mimetype": "text/x-python",
   "name": "python",
   "nbconvert_exporter": "python",
   "pygments_lexer": "ipython3",
   "version": "3.8.10"
  },
  "orig_nbformat": 4,
  "vscode": {
   "interpreter": {
    "hash": "916dbcbb3f70747c44a77c7bcd40155683ae19c65e1c03b4aa3499c5328201f1"
   }
  }
 },
 "nbformat": 4,
 "nbformat_minor": 2
}
