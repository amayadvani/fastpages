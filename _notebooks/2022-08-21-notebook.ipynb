{
 "cells": [
  {
   "cell_type": "markdown",
   "metadata": {},
   "source": [
    "# Amay's Notebook\n",
    "> Amay's first Juypter Notebook\n",
    "\n",
    "- toc:true \n",
    "- badges: true \n",
    "- comments: true\n",
    "- author: Amay Advani\n",
    "- categories: [juypter, week0]\n",
    "- image: images/logo.png"
   ]
  },
  {
   "cell_type": "code",
   "execution_count": 1,
   "metadata": {},
   "outputs": [
    {
     "name": "stdout",
     "output_type": "stream",
     "text": [
      "You lost! Try again to win.\n",
      "You inputed : \n",
      "10\n",
      "The answer was :\n",
      "6\n"
     ]
    }
   ],
   "source": [
    "import random\n",
    "# What are the chances game\n",
    "\n",
    "a = input(\"Enter a value from 1 - 10: \")\n",
    "b = random.randint(1,10)\n",
    "if a==b :\n",
    "   print(\"Good Job, you won!\")\n",
    "else :\n",
    "   print(\"You lost! Try again to win.\")\n",
    "\n",
    "print(\"You inputed : \")\n",
    "print(a)\n",
    "print(\"The answer was :\")\n",
    "print (b)\n",
    "\n"
   ]
  },
  {
   "cell_type": "markdown",
   "metadata": {},
   "source": [
    "Please like and subscribe!"
   ]
  },
  {
   "cell_type": "code",
   "execution_count": 2,
   "metadata": {},
   "outputs": [
    {
     "name": "stdout",
     "output_type": "stream",
     "text": [
      "Hello Sir, how are you doing today?\n"
     ]
    }
   ],
   "source": [
    "print(\"Hello Sir, how are you doing today?\")\n"
   ]
  }
 ],
 "metadata": {
  "kernelspec": {
   "display_name": "Python 3.8.10 64-bit",
   "language": "python",
   "name": "python3"
  },
  "language_info": {
   "codemirror_mode": {
    "name": "ipython",
    "version": 3
   },
   "file_extension": ".py",
   "mimetype": "text/x-python",
   "name": "python",
   "nbconvert_exporter": "python",
   "pygments_lexer": "ipython3",
   "version": "3.8.10"
  },
  "orig_nbformat": 4,
  "vscode": {
   "interpreter": {
    "hash": "916dbcbb3f70747c44a77c7bcd40155683ae19c65e1c03b4aa3499c5328201f1"
   }
  }
 },
 "nbformat": 4,
 "nbformat_minor": 2
}
