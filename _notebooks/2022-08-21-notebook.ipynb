{
 "cells": [
  {
   "cell_type": "markdown",
   "metadata": {},
   "source": [
    "# Amay's Notebook\n",
    "> Amay's first Juypter Notebook\n",
    "\n",
    "- toc:true \n",
    "- badges: true \n",
    "- comments: true\n",
    "- author: Amay Advani\n",
    "- catagories: [juypter]\n",
    "- image: images/logo.png"
   ]
  },
  {
   "cell_type": "code",
   "execution_count": 69,
   "metadata": {},
   "outputs": [
    {
     "name": "stdout",
     "output_type": "stream",
     "text": [
      "The answer was :\n",
      "4\n",
      "You lost! Try again to win.\n"
     ]
    }
   ],
   "source": [
    "import random\n",
    "# What are the chances game\n",
    "\n",
    "a = input(\"Enter a value from 1 - 10: \")\n",
    "b = random.randint(1,10)\n",
    "\n",
    "print(\"The answer was :\")\n",
    "print (b)\n",
    "\n",
    "if a==b :\n",
    "   print(\"Good Job, you won!\")\n",
    "else :\n",
    "   print(\"You lost! Try again to win.\")"
   ]
  },
  {
   "cell_type": "markdown",
   "metadata": {},
   "source": [
    "Please like and subscribe!"
   ]
  },
  {
   "cell_type": "code",
   "execution_count": 70,
   "metadata": {},
   "outputs": [
    {
     "name": "stdout",
     "output_type": "stream",
     "text": [
      "Hello Sir, how are you doing today?\n"
     ]
    }
   ],
   "source": [
    "print(\"Hello Sir, how are you doing today?\")\n"
   ]
  }
 ],
 "metadata": {
  "kernelspec": {
   "display_name": "Python 3.8.10 64-bit",
   "language": "python",
   "name": "python3"
  },
  "language_info": {
   "codemirror_mode": {
    "name": "ipython",
    "version": 3
   },
   "file_extension": ".py",
   "mimetype": "text/x-python",
   "name": "python",
   "nbconvert_exporter": "python",
   "pygments_lexer": "ipython3",
   "version": "3.8.10"
  },
  "orig_nbformat": 4,
  "vscode": {
   "interpreter": {
    "hash": "916dbcbb3f70747c44a77c7bcd40155683ae19c65e1c03b4aa3499c5328201f1"
   }
  }
 },
 "nbformat": 4,
 "nbformat_minor": 2
}
