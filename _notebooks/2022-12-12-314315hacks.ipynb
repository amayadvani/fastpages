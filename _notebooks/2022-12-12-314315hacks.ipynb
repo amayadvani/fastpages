{
 "cells": [
  {
   "attachments": {},
   "cell_type": "markdown",
   "metadata": {},
   "source": [
    "# 3.14 and 3.15 Hacks\n",
    "- toc: true\n",
    "- badges: true\n",
    "- comments: true"
   ]
  },
  {
   "cell_type": "code",
   "execution_count": 1,
   "metadata": {},
   "outputs": [
    {
     "data": {
      "text/plain": [
       "120"
      ]
     },
     "execution_count": 1,
     "metadata": {},
     "output_type": "execute_result"
    }
   ],
   "source": [
    "import math\n",
    "\n",
    "math.factorial(5)"
   ]
  },
  {
   "attachments": {},
   "cell_type": "markdown",
   "metadata": {},
   "source": [
    "Hack 1) This code uses the math library to find the factorial of any given number, such as 5"
   ]
  },
  {
   "attachments": {},
   "cell_type": "markdown",
   "metadata": {},
   "source": [
    "Hack 2) The import function imports a python library, which allows the user to code using pre made functions such as pow, sqrt, or even factorial.\n",
    "\n",
    "Some other libraries that the user can import include\n",
    "\n",
    "```bash\n",
    "import math\n",
    "import flask\n",
    "import time\n",
    "\n",
    "```"
   ]
  },
  {
   "attachments": {},
   "cell_type": "markdown",
   "metadata": {},
   "source": [
    "Hack 3) What numbers can be outputted from RANDOM(12,20) and what numbers are excluded?\n",
    "\n",
    "domain: 11<x<21"
   ]
  },
  {
   "cell_type": "code",
   "execution_count": 30,
   "metadata": {},
   "outputs": [
    {
     "name": "stdout",
     "output_type": "stream",
     "text": [
      "4\n"
     ]
    }
   ],
   "source": [
    "import random\n",
    "\n",
    "x = random.randint(1,10)\n",
    "\n",
    "print(x)"
   ]
  },
  {
   "cell_type": "code",
   "execution_count": 32,
   "metadata": {},
   "outputs": [
    {
     "name": "stdout",
     "output_type": "stream",
     "text": [
      "You landed on blue\n"
     ]
    }
   ],
   "source": [
    "import random\n",
    "y = random.randint(1,8)\n",
    "if y == 1 or y == 2 or y == 3:\n",
    "   print(\"You landed on green\")\n",
    "if y == 4 or y == 5:\n",
    "   print(\"You landed on blue\")\n",
    "if y == 6:\n",
    "   print(\"You landed on purple\")\n",
    "if y == 7:\n",
    "   print(\"You landed on red\")\n",
    "if y == 8:\n",
    "   print(\"You landed on orange\")"
   ]
  }
 ],
 "metadata": {
  "kernelspec": {
   "display_name": "Python 3",
   "language": "python",
   "name": "python3"
  },
  "language_info": {
   "codemirror_mode": {
    "name": "ipython",
    "version": 3
   },
   "file_extension": ".py",
   "mimetype": "text/x-python",
   "name": "python",
   "nbconvert_exporter": "python",
   "pygments_lexer": "ipython3",
   "version": "3.8.10 (default, Jun 22 2022, 20:18:18) \n[GCC 9.4.0]"
  },
  "orig_nbformat": 4,
  "vscode": {
   "interpreter": {
    "hash": "916dbcbb3f70747c44a77c7bcd40155683ae19c65e1c03b4aa3499c5328201f1"
   }
  }
 },
 "nbformat": 4,
 "nbformat_minor": 2
}
