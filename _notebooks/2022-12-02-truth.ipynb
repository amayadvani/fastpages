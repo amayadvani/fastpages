{
 "cells": [
  {
   "cell_type": "markdown",
   "metadata": {},
   "source": [
    "# Palindrome Algorithm\n",
    "- toc: true\n",
    "- badges: true\n",
    "- comments: true"
   ]
  },
  {
   "cell_type": "code",
   "execution_count": 1,
   "metadata": {},
   "outputs": [
    {
     "name": "stdout",
     "output_type": "stream",
     "text": [
      "You inputed  and the inverse is \n",
      " is a Palindrome!\n",
      "You inputed  and the inverse is \n",
      " is a Palindrome!\n"
     ]
    }
   ],
   "source": [
    "def function(x):\n",
    "   return x[::-1]\n",
    "for i in range(2):\n",
    "   pal = input(\"Input a word to be tested.\")\n",
    "\n",
    "   invpal = function(pal)\n",
    "   print(\"You inputed \" + pal + \" and the inverse is \"+ invpal)\n",
    "\n",
    "   if pal == invpal:\n",
    "      print(pal + \" is a Palindrome!\")\n",
    "   else:\n",
    "      print(pal + \" is not a Palindrome.\")\n"
   ]
  }
 ],
 "metadata": {
  "kernelspec": {
   "display_name": "Python 3.8.10 64-bit",
   "language": "python",
   "name": "python3"
  },
  "language_info": {
   "codemirror_mode": {
    "name": "ipython",
    "version": 3
   },
   "file_extension": ".py",
   "mimetype": "text/x-python",
   "name": "python",
   "nbconvert_exporter": "python",
   "pygments_lexer": "ipython3",
   "version": "3.8.10"
  },
  "orig_nbformat": 4,
  "vscode": {
   "interpreter": {
    "hash": "916dbcbb3f70747c44a77c7bcd40155683ae19c65e1c03b4aa3499c5328201f1"
   }
  }
 },
 "nbformat": 4,
 "nbformat_minor": 2
}
