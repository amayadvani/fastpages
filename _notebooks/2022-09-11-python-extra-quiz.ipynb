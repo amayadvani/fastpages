{
 "cells": [
  {
   "cell_type": "markdown",
   "metadata": {},
   "source": [
    "# Python Quiz \n",
    "> Greek Mythology/god quiz\n",
    "\n",
    "- toc: true\n",
    "- comments: true\n",
    "- categories: [jupyter, week3]\n",
    "- author: Amay Advani"
   ]
  },
  {
   "cell_type": "code",
   "execution_count": 3,
   "metadata": {},
   "outputs": [
    {
     "name": "stdout",
     "output_type": "stream",
     "text": [
      "Greek Mythology Questions\n",
      "Correct Answer\n",
      "Correct Answer\n",
      "Correct Answer\n",
      "Your Score is 3/3\n"
     ]
    }
   ],
   "source": [
    "def check_guess(guess, answer):\n",
    "    global score\n",
    "    still_g = True\n",
    "    a = 0\n",
    "    while still_g and a < 3:\n",
    "        if guess.lower() == answer.lower():\n",
    "            print(\"Correct Answer\")\n",
    "            score = score + 1\n",
    "            still_g = False\n",
    "        else:\n",
    "            if a < 2:\n",
    "                guess = input(\"Sorry Wrong Answer, try again\")\n",
    "            a = a + 1\n",
    "    if a == 3:\n",
    "        print(\"The Correct answer is \",answer )\n",
    "\n",
    "score = 0\n",
    "print(\"Greek Mythology Questions\")\n",
    "guess1 = input(\"Who is the lord of the gods? \")\n",
    "check_guess(guess1, \"Zeus\")\n",
    "guess2 = input(\"Which creature in Greek Mythology was half-man and half-bull?  \")\n",
    "check_guess(guess2, \"Minotaur\")\n",
    "guess3 = input(\"What did Jason and the Argonauts steal from the land of Colchis? \")\n",
    "check_guess(guess3, \"Golden Fleece\")\n",
    "print(\"Your Score is \"+ str(score) + \"/3\")"
   ]
  }
 ],
 "metadata": {
  "kernelspec": {
   "display_name": "Python 3.8.10 64-bit",
   "language": "python",
   "name": "python3"
  },
  "language_info": {
   "codemirror_mode": {
    "name": "ipython",
    "version": 3
   },
   "file_extension": ".py",
   "mimetype": "text/x-python",
   "name": "python",
   "nbconvert_exporter": "python",
   "pygments_lexer": "ipython3",
   "version": "3.8.10"
  },
  "orig_nbformat": 4,
  "vscode": {
   "interpreter": {
    "hash": "916dbcbb3f70747c44a77c7bcd40155683ae19c65e1c03b4aa3499c5328201f1"
   }
  }
 },
 "nbformat": 4,
 "nbformat_minor": 2
}
