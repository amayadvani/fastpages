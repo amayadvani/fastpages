{
 "cells": [
  {
   "attachments": {},
   "cell_type": "markdown",
   "metadata": {},
   "source": [
    "# Week 25 Hacks\n",
    "> heyy\n",
    "- toc:true \n",
    "- badges: true \n",
    "- comments: true\n",
    "- author: Amay Advani"
   ]
  },
  {
   "attachments": {},
   "cell_type": "markdown",
   "metadata": {},
   "source": [
    "## AP Prep\n",
    "\n",
    "A lossy image can be represented by a JPEG, because it doesnt has the ability to reduce the file size of digital media such as images, audio, and video by permanently removing some of the data.\n",
    "\n",
    "![Alt text](../images/jepg.jpeg)\n",
    "\n",
    "A lossless image can be represented by a PNG image, because it has the ability to reduce the file size of digital media such as images, audio, and video without losing any information. \n",
    "\n",
    "![Alt text](../images/png.png)"
   ]
  },
  {
   "attachments": {},
   "cell_type": "markdown",
   "metadata": {},
   "source": [
    "## Project Addition\n",
    "\n",
    "Showing greyscale and regular pictures inside of a python cell"
   ]
  },
  {
   "cell_type": "code",
   "execution_count": null,
   "metadata": {},
   "outputs": [],
   "source": [
    "from PIL import Image\n",
    "\n",
    "image = Image.open('images/smile.jpg')\n",
    "\n",
    "grayscale_image = image.convert('L')"
   ]
  }
 ],
 "metadata": {
  "language_info": {
   "name": "python"
  },
  "orig_nbformat": 4
 },
 "nbformat": 4,
 "nbformat_minor": 2
}
