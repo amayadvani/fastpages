{
 "cells": [
  {
   "attachments": {},
   "cell_type": "markdown",
   "metadata": {},
   "source": [
    "# Tri-3-Lesson\n",
    "> Reviewing Data Analysis.\n",
    "- toc: true\n",
    "- categories: [Notebooks]\n",
    "- week: 31"
   ]
  },
  {
   "attachments": {},
   "cell_type": "markdown",
   "metadata": {},
   "source": [
    "## What you should Have to Start\n",
    "\n",
    "- Should have wget this file (tri3-lesson.ipynb)\n",
    "- wget this file: https://raw.githubusercontent.com/JoshuaW03628/Repository-1/master/nba_player_statistics.csv\n",
    "- Copy Path from nba_player_statistics.csv and replace prior path for it."
   ]
  },
  {
   "attachments": {},
   "cell_type": "markdown",
   "metadata": {},
   "source": [
    "# Lesson Portion 1: ReIntroduction to Data Analysis, NunPy, and Pandas, Why is it important?"
   ]
  },
  {
   "attachments": {},
   "cell_type": "markdown",
   "metadata": {},
   "source": [
    "### Data Analysis."
   ]
  },
  {
   "attachments": {},
   "cell_type": "markdown",
   "metadata": {},
   "source": [
    "- Data Analysis is the process of examining data sets in order to find trends and draw conclusions about the given information. Data analysis is important because it helps businesses optimize their performances."
   ]
  },
  {
   "attachments": {},
   "cell_type": "markdown",
   "metadata": {},
   "source": [
    "### What is NunPy and Pandas"
   ]
  },
  {
   "attachments": {},
   "cell_type": "markdown",
   "metadata": {},
   "source": [
    "- Pandas library involves a lot of data analysis in Python. NumPy Library is mostly used for working with numerical values and it makes it easy to apply with mathematical functions. \n",
    "- Imagine you have a lot of toys, but they are all mixed up in a big box. NumPy helps you to put all the same types of toys together, like all the cars in one pile and all the dolls in another.\n",
    "Pandas is like a helper that helps you to remember where each toy is located. So, if you want to find a specific toy, like a red car, you can ask Pandas to find it for you.\n",
    "- Just like how it's easier to find a toy when they are sorted and organized, it's easier for grown-ups to understand and analyze big sets of numbers when they use NumPy and Pandas.\n"
   ]
  },
  {
   "attachments": {},
   "cell_type": "markdown",
   "metadata": {},
   "source": [
    "# Lesson Portion 2 More into NunPy\n",
    "\n",
    "### What we are covering;\n",
    "\n",
    "- Explanation of NumPy and its uses in data analysis\n",
    "- Importing NumPy library\n",
    "- Examining NumPy arrays\n",
    "- Creating NumPy arrays and performing intermediate array operations\n",
    "- Popcorn Hacks, Make your own percentile NunPy array"
   ]
  },
  {
   "attachments": {},
   "cell_type": "markdown",
   "metadata": {},
   "source": [
    "#### What is NunPy's use in data analysis/ how to import NunPy."
   ]
  },
  {
   "attachments": {},
   "cell_type": "markdown",
   "metadata": {},
   "source": [
    "NumPy is a tool in Python that helps with doing math and data analysis. It's great for working with large amounts of data, like numbers in a spreadsheet. NumPy is really good at doing calculations quickly and accurately, like finding averages, doing algebra, and making graphs. It's used a lot by scientists and people who work with data because it makes their work easier and faster."
   ]
  },
  {
   "cell_type": "code",
   "execution_count": null,
   "metadata": {},
   "outputs": [],
   "source": [
    "import numpy as np"
   ]
  },
  {
   "attachments": {},
   "cell_type": "markdown",
   "metadata": {},
   "source": [
    "### List of NunPy Functions, what they do, and examples.\n",
    "\n",
    "- Link; https://www.educba.com/numpy-functions/\n",
    "\n"
   ]
  },
  {
   "attachments": {},
   "cell_type": "markdown",
   "metadata": {},
   "source": [
    "### Example of Using NunPy in Our Project"
   ]
  },
  {
   "attachments": {},
   "cell_type": "markdown",
   "metadata": {},
   "source": [
    "This code calculates the total plate appearances for a baseball player using NumPy's sum() function, similar to the original example. It then uses NumPy to calculate the total number of bases (hits plus walks) for the player, and divides that by the total number of plate appearances to get the on-base percentage. The results are then printed to the console."
   ]
  },
  {
   "cell_type": "code",
   "execution_count": 2,
   "metadata": {},
   "outputs": [
    {
     "name": "stdout",
     "output_type": "stream",
     "text": [
      "Total plate appearances: 21\n",
      "On-base percentage: 0.857\n"
     ]
    }
   ],
   "source": [
    "import numpy as np\n",
    "\n",
    "# Example data\n",
    "player_hits = np.array([3, 1, 2, 0, 1, 2, 1, 2])  # Player's hits in each game\n",
    "player_walks = np.array([1, 0, 0, 1, 2, 1, 1, 0])  # Player's walks in each game\n",
    "player_strikeouts = np.array([2, 1, 0, 2, 1, 1, 0, 1])  # Player's strikeouts in each game\n",
    "\n",
    "# array to store plate appearances (PA) for the player\n",
    "total_pa = np.sum(player_hits != 0) + np.sum(player_walks) + np.sum(player_strikeouts)\n",
    "\n",
    "# array to store on-base percentage (OBP) for the player\n",
    "total_bases = np.sum(player_hits) + np.sum(player_walks)\n",
    "obp = total_bases / total_pa\n",
    "\n",
    "# Print the total plate appearances and on-base percentage for the player\n",
    "print(f\"Total plate appearances: {total_pa}\")\n",
    "print(f\"On-base percentage: {obp:.3f}\")\n"
   ]
  },
  {
   "attachments": {},
   "cell_type": "markdown",
   "metadata": {},
   "source": [
    "## Activity 1; PopCorn Hacks; Creating a NunPy Array and Analyzing the Data using Array Operations"
   ]
  },
  {
   "cell_type": "code",
   "execution_count": 1,
   "metadata": {},
   "outputs": [
    {
     "name": "stdout",
     "output_type": "stream",
     "text": [
      "The 25th percentile height is 192.5 cm.\n",
      "The 50th percentile height is 198.0 cm.\n",
      "The 75th percentile height is 202.0 cm.\n",
      "There are 2 players in the top 10% tallest.\n"
     ]
    }
   ],
   "source": [
    "import numpy as np\n",
    "\n",
    "#Create a NumPy array of the heights of players in a basketball team\n",
    "heights = np.array([192, 195, 193, 200, 211, 199, 201, 198, 184, 190, 196, 203, 208, 182, 207])\n",
    "\n",
    "# Calculate the percentile rank of each player's height\n",
    "percentiles = np.percentile(heights, [25, 50, 75])\n",
    "\n",
    "# Print the results\n",
    "print(\"The 25th percentile height is\", percentiles[0], \"cm.\")\n",
    "print(\"The 50th percentile height is\", percentiles[1], \"cm.\")\n",
    "print(\"The 75th percentile height is\", percentiles[2], \"cm.\")\n",
    "\n",
    "# Determine the number of players who are in the top 10% tallest\n",
    "top_10_percent = np.percentile(heights, 90)\n",
    "tallest_players = heights[heights >= top_10_percent]\n",
    "\n",
    "print(\"There are\", len(tallest_players), \"players in the top 10% tallest.\")\n"
   ]
  },
  {
   "cell_type": "code",
   "execution_count": 13,
   "metadata": {},
   "outputs": [
    {
     "name": "stdout",
     "output_type": "stream",
     "text": [
      "The 25th percentile grade is 84.5 .\n",
      "The 50th percentile grade is 88.5 .\n",
      "The 75th percentile grade is 93.5 .\n",
      "There are 1 students who received a grade in the top 10%.\n"
     ]
    }
   ],
   "source": [
    "import numpy as np\n",
    "\n",
    "# Create a NumPy array of the grades of students in a class\n",
    "grades = np.array([92, 84, 86, 97, 80, 94, 89, 83, 96, 88])\n",
    "\n",
    "# Calculate the percentile rank of each student's grade\n",
    "percentiles = np.percentile(grades, [25, 50, 75])\n",
    "\n",
    "# Print the results\n",
    "print(\"The 25th percentile grade is\", percentiles[0], \".\")\n",
    "print(\"The 50th percentile grade is\", percentiles[1], \".\")\n",
    "print(\"The 75th percentile grade is\", percentiles[2], \".\")\n",
    "\n",
    "# Determine the number of students who received a grade in the top 10%\n",
    "top_10_percent = np.percentile(grades, 90)\n",
    "highest_grades = grades[grades >= top_10_percent]\n",
    "\n",
    "print(\"There are\", len(highest_grades), \"students who received a grade in the top 10%.\")\n"
   ]
  },
  {
   "attachments": {},
   "cell_type": "markdown",
   "metadata": {},
   "source": [
    "# Lesson Portion 3 More into Pandas\n",
    "\n",
    "### What we are Covering\n",
    "- Explanation of Pandas and its uses in data analysis\n",
    "- Importing Pandas library\n",
    "- Loading data into Pandas DataFrames from CSV files\n",
    "- Manipulating and exploring data in Pandas DataFrames\n",
    "- Example of using Pandas for data analysis tasks such as filtering and sorting\n"
   ]
  },
  {
   "attachments": {},
   "cell_type": "markdown",
   "metadata": {},
   "source": [
    "## What are pandas and what is its purpose?\n",
    "\n",
    "- Pandas is a software library that is used in Python\n",
    "- Pandas are used for data analysis and data manipulation\n",
    "- Pandas offer data structures and operations for manipulating numerical tables and time series.\n",
    "- Pandas is free\n"
   ]
  },
  {
   "attachments": {},
   "cell_type": "markdown",
   "metadata": {},
   "source": [
    "## Things you can do using pandas\n",
    "\n",
    "- Data Cleansing; Identifying and correcting errors, inconsistencies, and inaccuracies in datasets.\n",
    "- Data fill; Filling in missing values in datasets.\n",
    "- Statistical Analysis; Analyzing datasets using statistical techniques to draw conclusions and make predictions.\n",
    "- Data Visualization; Representing datasets visually using graphs, charts, and other visual aids.\n",
    "- Data inspection; Examining datasets to identify potential issues or patterns, such as missing data, outliers, or trends.\n"
   ]
  },
  {
   "attachments": {},
   "cell_type": "markdown",
   "metadata": {},
   "source": [
    "## Pandas and Data analysis\n",
    "The 2 most important data structures in Pandas are:\n",
    "- Series ; A Series is a one-dimensional labeled array that can hold data of any type (integer, float, string, etc.). It is similar to a column in a spreadsheet or a SQL table. Each element in a Series has a label, known as an index. A Series can be created from a list, a NumPy array, a dictionary, or another Pandas Series.\n",
    "- DataFrame ;A DataFrame is a two-dimensional labeled data structure that can hold data of different types (integer, float, string, etc.). It is similar to a spreadsheet or a SQL table. Each column in a DataFrame is a Series, and each row is indexed by a label, known as an index. A DataFrame can be created from a dictionary of Series or NumPy arrays, a list of dictionaries, or other Pandas DataFrame."
   ]
  },
  {
   "attachments": {},
   "cell_type": "markdown",
   "metadata": {},
   "source": [
    "## Dataframes"
   ]
  },
  {
   "cell_type": "code",
   "execution_count": null,
   "metadata": {},
   "outputs": [],
   "source": [
    "# Importing Pandas \n",
    "import pandas as pd\n"
   ]
  },
  {
   "cell_type": "code",
   "execution_count": null,
   "metadata": {},
   "outputs": [],
   "source": [
    "# Check if pandas is working\n",
    "pd.__version__"
   ]
  },
  {
   "attachments": {},
   "cell_type": "markdown",
   "metadata": {},
   "source": [
    "### Importing CSV Data"
   ]
  },
  {
   "attachments": {},
   "cell_type": "markdown",
   "metadata": {},
   "source": [
    "- imports the Pandas library and assigns it an alias 'pd'.\n",
    "- Loads a CSV file named 'nba_player_statistics.csv' into a Pandas DataFrame called 'df'.\n",
    "- Specifies a player's name 'Jimmy Butler' to filter the DataFrame for that player's stats. It creates a new DataFrame called 'player_stats' which only contains rows where the 'NAME' column matches 'Jimmy Butler'.\n",
    "- Displays the player's stats for points per game (PPG), rebounds per game (RPG), and assists per game (APG) using the print() function and string formatting.\n",
    "- The code uses the double square brackets [[PPG', 'RPG', 'APG']] to select only the columns corresponding to the player's points per game, rebounds per game, and assists per game from the player_stats DataFrame.\n",
    "- In summary, the code loads NBA player statistics data from a CSV file, filters it for a specific player, and displays the stats for that player's PPG, RPG, and APG using a Pandas DataFrame."
   ]
  },
  {
   "cell_type": "code",
   "execution_count": null,
   "metadata": {},
   "outputs": [],
   "source": [
    "import pandas as pd\n",
    "# Load the CSV file into a Pandas DataFrame\n",
    "df = pd.read_csv('/Users/josh/Repository-1/nba_player_statistics.csv')\n",
    "# Filter the DataFrame to only include stats for a specific player (in this case, Jimmy Butler)\n",
    "player_name = 'Jimmy Butler'\n",
    "player_stats = df[df['NAME'] == player_name]\n",
    "# Display the stats for the player\n",
    "print(f\"\\nStats for {player_name}:\")\n",
    "print(player_stats[['PPG', 'RPG', 'APG']])"
   ]
  },
  {
   "attachments": {},
   "cell_type": "markdown",
   "metadata": {},
   "source": [
    "#### In this code segment below we use Pandas to read a CSV file containing NBA player statistics and store it in a DataFrame.\n",
    "#### The reason Pandas is useful in this scenario is because it provides various functionalities to filter, sort, and manipulate the NBA data efficiently. In this code, the DataFrame is filtered to only include the stats for the player you guys choose. "
   ]
  },
  {
   "attachments": {},
   "cell_type": "markdown",
   "metadata": {},
   "source": [
    "- Imports the Pandas library and assigns it an alias 'pd'.\n",
    "- Loads a CSV file named 'nba_player_statistics.csv' into a Pandas DataFrame called 'df'.\n",
    "- Asks the user to input a player name using the input() function and assigns it to the variable player_name.\n",
    "- Filters the DataFrame for the specified player name using the df[df['NAME'] == player_name] syntax, and assigns the resulting DataFrame to the variable player_stats.\n",
    "- Checks if the player_stats DataFrame is empty using the empty attribute. If it is empty, prints \"No stats found for that player.\" Otherwise, it proceeds to step 6.\n",
    "- Displays the player's stats for points per game (PPG), rebounds per game (RPG), assists per game (APG), and total points + rebounds + assists (P+R+A) using the print() function and string formatting.\n",
    "- In summary, this code loads NBA player statistics data from a CSV file, asks the user to input a player name, filters the DataFrame for that player's stats, and displays the player's stats for PPG, RPG, APG, and P+R+A. If the player is not found in the DataFrame, it prints a message indicating that no stats were found."
   ]
  },
  {
   "cell_type": "code",
   "execution_count": 10,
   "metadata": {},
   "outputs": [
    {
     "name": "stdout",
     "output_type": "stream",
     "text": [
      "\n",
      "Stats for LeBron James:\n",
      "    PPG  RPG  APG  P+R+A\n",
      "8  29.5  8.4  6.9   44.9\n"
     ]
    }
   ],
   "source": [
    "import pandas as pd\n",
    "df = pd.read_csv('/home/amaya/vscode/vscode/fastpages/_notebooks/nba.csv')\n",
    "# Load CSV file into a Pandas DataFrame\n",
    "player_name = input(\"Enter player name: \")\n",
    "# Get player name input from user\n",
    "player_stats = df[df['NAME'] == player_name]\n",
    "# Filter the DataFrame to only include stats for the specified player\n",
    "if player_stats.empty:\n",
    "    print(\"No stats found for that player.\")\n",
    "else:\n",
    "# Check if the player exists in the DataFrame\n",
    "    print(f\"\\nStats for {player_name}:\")\n",
    "print(player_stats[['PPG', 'RPG', 'APG', 'P+R+A']])\n",
    "# Display the stats for the player inputted."
   ]
  },
  {
   "attachments": {},
   "cell_type": "markdown",
   "metadata": {},
   "source": [
    "# Lesson Portion 4\n",
    "### What we will be covering\n",
    "- Example of analyzing data using both NumPy and Pandas libraries\n",
    "- Importing data into NumPy and Pandas Performing basic data analysis tasks such as mean, median, and standard deviation Visualization of data using Matplotlib library\n"
   ]
  },
  {
   "attachments": {},
   "cell_type": "markdown",
   "metadata": {},
   "source": [
    "### Example of analyzing data using both NumPy and Pandas libraries"
   ]
  },
  {
   "cell_type": "code",
   "execution_count": 8,
   "metadata": {},
   "outputs": [
    {
     "name": "stdout",
     "output_type": "stream",
     "text": [
      "\n",
      "Average stats for LeBron James:\n",
      "PPG: 29.50\n",
      "RPG: 8.40\n",
      "APG: 6.90\n",
      "P+R+A: 44.90\n"
     ]
    }
   ],
   "source": [
    "import numpy as np\n",
    "import pandas as pd\n",
    "\n",
    "# Load CSV file into a Pandas DataFrame\n",
    "\n",
    "df = pd.read_csv('/home/amaya/vscode/vscode/fastpages/_notebooks/nba.csv')\n",
    "\n",
    "# Filter the DataFrame to only include stats for the specified player\n",
    "\n",
    "player_name = input(\"Enter player name: \")\n",
    "player_stats = df[df['NAME'] == player_name]\n",
    "if player_stats.empty:\n",
    "    print(\"No stats found for that player.\")\n",
    "else:\n",
    "\n",
    "    # Convert the player stats to a NumPy array\n",
    "    player_stats_np = np.array(player_stats[['PPG', 'RPG', 'APG', 'P+R+A']])\n",
    "\n",
    "    # Calculate the average of each statistic for the player\n",
    "\n",
    "    player_stats_avg = np.mean(player_stats_np, axis=0)\n",
    "\n",
    "    # Print out the average statistics for the player\n",
    "\n",
    "    print(f\"\\nAverage stats for {player_name}:\")\n",
    "    print(f\"PPG: {player_stats_avg[0]:.2f}\")\n",
    "    print(f\"RPG: {player_stats_avg[1]:.2f}\")\n",
    "    print(f\"APG: {player_stats_avg[2]:.2f}\")\n",
    "    print(f\"P+R+A: {player_stats_avg[3]:.2f}\")"
   ]
  },
  {
   "attachments": {},
   "cell_type": "markdown",
   "metadata": {},
   "source": [
    "NumPy impacts the given code because it performs operations on arrays efficiently. Specifically, it converts a Pandas DataFrame object to a NumPy array object, and then calculates the average statistics for a the player you guys inputted. Without NumPy, it would be more difficult and less efficient to perform these calculations on large data sets. It does the math for us."
   ]
  },
  {
   "attachments": {},
   "cell_type": "markdown",
   "metadata": {},
   "source": [
    "### Importing data into NumPy and Pandas Performing basic data analysis tasks such as mean, median, and standard deviation Visualization of data using Matplotlib library\n",
    "\n",
    "Matplotlib is used essentially to create visuals of data. charts,diagrams,etc."
   ]
  },
  {
   "cell_type": "code",
   "execution_count": 7,
   "metadata": {},
   "outputs": [
    {
     "name": "stdout",
     "output_type": "stream",
     "text": [
      "   RANK                     NAME TEAM  POS   AGE  GP   MPG  USG%   TO%  FTA  \\\n",
      "0     1              Joel Embiid  Phi  C-F  29.0  54  35.0  37.3  14.4  644   \n",
      "1     2              Luka Doncic  Dal  F-G  24.0  57  36.3  38.2  14.3  629   \n",
      "2     3           Damian Lillard  Por    G  32.7  54  36.3  33.8  13.5  508   \n",
      "3     4    Giannis Antetokounmpo  Mil    F  28.3  52  32.5  38.9  16.2  659   \n",
      "4     5  Shai Gilgeous-Alexander  Okc  G-F  24.7  57  35.6  32.7  12.4  610   \n",
      "\n",
      "   ...  APG  SPG  BPG  TPG   P+R   P+A  P+R+A    VI   ORtg   DRtg  \n",
      "0  ...  4.1  1.1  1.6  3.4  43.4  37.5   47.5  12.7  123.4  103.8  \n",
      "1  ...  8.0  1.5  0.5  3.7  41.6  41.0   49.6  14.5  120.6  108.4  \n",
      "2  ...  7.3  0.9  0.3  3.2  36.8  39.4   44.1  11.4  127.7  116.2  \n",
      "3  ...  5.5  0.7  0.8  4.0  43.1  36.7   48.6  15.6  115.8   99.2  \n",
      "4  ...  5.6  1.7  1.1  2.9  36.0  36.8   41.6  10.6  124.7  109.5  \n",
      "\n",
      "[5 rows x 29 columns]\n",
      "Mean Minutes:  19.285077186963978\n",
      "Median Minutes:  18.7\n",
      "Standard Deviation Minutes:  9.938856040875548\n"
     ]
    },
    {
     "data": {
      "image/png": "[encoded data removed]",
      "text/plain": [
       "<Figure size 432x288 with 1 Axes>"
      ]
     },
     "metadata": {
      "needs_background": "light"
     },
     "output_type": "display_data"
    }
   ],
   "source": [
    "import numpy as np\n",
    "import pandas as pd\n",
    "import matplotlib.pyplot as plt\n",
    "\n",
    "# Load the CSV file into a Pandas DataFrame\n",
    "df = pd.read_csv('/home/amaya/vscode/vscode/fastpages/_notebooks/nba.csv')\n",
    "\n",
    "# Print the first 5 rows of the DataFrame\n",
    "print(df.head())\n",
    "\n",
    "# Calculate the mean, median, and standard deviation of the 'Points' column\n",
    "mean_minutes = df['MPG'].mean()\n",
    "median_minutes = df['MPG'].median()\n",
    "stddev_minutes = df['MPG'].std()\n",
    "\n",
    "# Print the results\n",
    "print('Mean Minutes: ', mean_minutes)\n",
    "print('Median Minutes: ', median_minutes)\n",
    "print('Standard Deviation Minutes: ', stddev_minutes)\n",
    "\n",
    "# Create a histogram of the 'Points' column using Matplotlib\n",
    "plt.hist(df['MPG'], bins=20)\n",
    "plt.title('MPG Histogram')\n",
    "plt.xlabel('MPG')\n",
    "plt.ylabel('Frequency')\n",
    "plt.show()\n"
   ]
  },
  {
   "attachments": {},
   "cell_type": "markdown",
   "metadata": {},
   "source": [
    "In this example code, we first import the necessary libraries, including NumPy, Pandas, and Matplotlib. We then load the CSV file into a Pandas DataFrame using the pd.read_csv() function. We print the first 5 rows of the DataFrame using the df.head() function. Next, we calculate the mean, median, and standard deviation of the 'MPG' column using the appropriate Pandas methods, and print the results. And, we create a histogram of the 'MPG' column using Matplotlib by calling the plt.hist() function and setting appropriate axis labels and a title. We then call the plt.show() method to display the plot. Even though NumPy is not directly used in this code, it is an important underlying component of the pandas and Matplotlib libraries, which are used to load, manipulate and visualize data. It allows them to work more efficiently"
   ]
  },
  {
   "attachments": {},
   "cell_type": "markdown",
   "metadata": {},
   "source": [
    "# Lesson Portion 5; Summary"
   ]
  },
  {
   "attachments": {},
   "cell_type": "markdown",
   "metadata": {},
   "source": [
    "#### Summary/Goals of Lesson:\n",
    "One of our goals was to make you understand data analysis and how it can be important in optimizing business performance. We also wanted to make sure you understood the use of Pandas and NumPy libraries in data analysis, with a focus on NumPy. As someone who works with data, we find Pandas incredibly useful for manipulating, analyzing, and visualizing data in Python. The way we use pandas is to calculate individual player and team statistics. We are a group that works with numerical data, so NumPy is one of our favorite tools for working with arrays and applying mathematical functions to them. It is very fast at computing and manipulating arrays making it a very valuable tool for tracking statistics which is important to our group. For example, if you have an array of the points scored by each player in a game, you can use NumPy to calculate the total points scored, average points per player, or the highest and lowest scoring players.\n",
    "\n",
    "\n",
    "\n",
    "\n",
    "\n",
    "\n",
    "\n"
   ]
  },
  {
   "attachments": {},
   "cell_type": "markdown",
   "metadata": {},
   "source": [
    "# Lesson Portion 6 Hacks\n",
    "#### Printing a CSV File (0.5)\n",
    "- Use this link https://github.com/ali-ce/datasets to select csv file of a topic you are interested in, or you may find one online.\n",
    "- Once you select your topic make sure it is a csv file and then you want to press on the button that says raw.\n",
    "- After that copy that information and create a file with a name and .csv at the end and paste your information.\n",
    "- Below is a start that you can use for your hacks.\n",
    "- Your goal is to print 2 specific parts from data (example could be like population and country).\n",
    "\n",
    "#### Popcorn Hacks (0.2)\n",
    "- Lesson Portion 1.\n",
    "#### Answering Questions (0.2)\n",
    "- Found Below.\n",
    "\n",
    "## Submit By Thursday 8:35 A.M.\n",
    "- How to Submit: Slack a Blog Post that includes all of your hacks to \"Joshua Williams\" on Slack."
   ]
  },
  {
   "cell_type": "code",
   "execution_count": 14,
   "metadata": {},
   "outputs": [
    {
     "name": "stdout",
     "output_type": "stream",
     "text": [
      "                                                    Id  \\\n",
      "0                     50 Cent: Bulletproof - Australia   \n",
      "1                      Assassin's Creed - Saudi Arabia   \n",
      "2                               Battlefield III - Iran   \n",
      "3                               Battlefield IV - China   \n",
      "4    BlazBlue II: Continuum Shift - United Arab Emi...   \n",
      "..                                                 ...   \n",
      "131  Tom Clancy's Splinter Cell III: Chaos Theory -...   \n",
      "132                                 Voyeur - Australia   \n",
      "133                  Watch Dogs - United Arab Emirates   \n",
      "134                              Wolfenstein - Germany   \n",
      "135                           Wolfenstein 3D - Germany   \n",
      "\n",
      "                                             Game                      Series  \\\n",
      "0                            50 Cent: Bulletproof        50 Cent: Bulletproof   \n",
      "1                                Assassin's Creed            Assassin's Creed   \n",
      "2                                 Battlefield III                 Battlefield   \n",
      "3                                  Battlefield IV                 Battlefield   \n",
      "4                    BlazBlue II: Continuum Shift                    BlazBlue   \n",
      "..                                            ...                         ...   \n",
      "131  Tom Clancy's Splinter Cell III: Chaos Theory  Tom Clancy's Splinter Cell   \n",
      "132                                        Voyeur                      Voyeur   \n",
      "133                                    Watch Dogs                  Watch Dogs   \n",
      "134                                   Wolfenstein                 Wolfenstein   \n",
      "135                                Wolfenstein 3D                 Wolfenstein   \n",
      "\n",
      "                  Country                                            Details  \\\n",
      "0               Australia  Banned due to high impact gory violence.\\nA ce...   \n",
      "1            Saudi Arabia  Was banned (for two weeks) because of perceive...   \n",
      "2                    Iran  Banned due to the intense battles of the ficti...   \n",
      "3                   China  Banned due to the discrediting of China's nati...   \n",
      "4    United Arab Emirates  Banned likely due to suggestive and revealing ...   \n",
      "..                    ...                                                ...   \n",
      "131           South Korea  Banned until 2006 because one of the levels ha...   \n",
      "132             Australia  Originally rated MA15+.\\nLater appealed and ba...   \n",
      "133  United Arab Emirates  Initially banned, and also withheld from regio...   \n",
      "134               Germany                 Banned because of Nazi references.   \n",
      "135               Germany             Was banned because of Nazi references.   \n",
      "\n",
      "                                          Ban Category  \\\n",
      "0                         Graphic Violence and Cruelty   \n",
      "1                 Ideological and/or Religious Reasons   \n",
      "2                 Ideological and/or Religious Reasons   \n",
      "3                 Ideological and/or Religious Reasons   \n",
      "4                                       Sex and Nudity   \n",
      "..                                                 ...   \n",
      "131               Ideological and/or Religious Reasons   \n",
      "132                                     Sex and Nudity   \n",
      "133  Sex and Nudity|Graphic Violence and Cruelty|Dr...   \n",
      "134               Ideological and/or Religious Reasons   \n",
      "135               Ideological and/or Religious Reasons   \n",
      "\n",
      "                    Ban Status  \\\n",
      "0    Censored Version Released   \n",
      "1                   Ban Lifted   \n",
      "2                       Active   \n",
      "3                       Active   \n",
      "4                       Active   \n",
      "..                         ...   \n",
      "131                     Active   \n",
      "132                     Active   \n",
      "133                     Active   \n",
      "134                     Active   \n",
      "135                     Active   \n",
      "\n",
      "                                     Wikipedia Profile  \\\n",
      "0    https://en.wikipedia.org/wiki/50_Cent:_Bulletp...   \n",
      "1       https://en.wikipedia.org/wiki/Assassin's_Creed   \n",
      "2          https://en.wikipedia.org/wiki/Battlefield_3   \n",
      "3          https://en.wikipedia.org/wiki/Battlefield_4   \n",
      "4    https://en.wikipedia.org/wiki/BlazBlue:_Contin...   \n",
      "..                                                 ...   \n",
      "131  https://en.wikipedia.org/wiki/Tom_Clancy's_Spl...   \n",
      "132  https://en.wikipedia.org/wiki/Voyeur_(video_game)   \n",
      "133           https://en.wikipedia.org/wiki/Watch_Dogs   \n",
      "134  https://en.wikipedia.org/wiki/Wolfenstein_(200...   \n",
      "135       https://en.wikipedia.org/wiki/Wolfenstein_3D   \n",
      "\n",
      "                                                 Image  \\\n",
      "0    //upload.wikimedia.org/wikipedia/en/2/28/50_Ce...   \n",
      "1    //upload.wikimedia.org/wikipedia/en/thumb/2/2a...   \n",
      "2    //upload.wikimedia.org/wikipedia/en/6/69/Battl...   \n",
      "3    //upload.wikimedia.org/wikipedia/en/thumb/7/75...   \n",
      "4    //upload.wikimedia.org/wikipedia/en/8/8c/BlazB...   \n",
      "..                                                 ...   \n",
      "131  //upload.wikimedia.org/wikipedia/en/1/17/Tom_C...   \n",
      "132                                                NaN   \n",
      "133  //upload.wikimedia.org/wikipedia/en/thumb/d/d9...   \n",
      "134  //upload.wikimedia.org/wikipedia/en/e/ee/Wolfe...   \n",
      "135  //upload.wikimedia.org/wikipedia/en/0/05/Wolfe...   \n",
      "\n",
      "                                               Summary  \\\n",
      "0    50 Cent: Bulletproof is a video game for the P...   \n",
      "1    Assassin's Creed is a historical fiction actio...   \n",
      "2    Battlefield 3 is a first-person shooter video ...   \n",
      "3    Battlefield 4 is a first-person shooter video ...   \n",
      "4    BlazBlue: Continuum Shift (ブレイブルー コンティニュアム シフト...   \n",
      "..                                                 ...   \n",
      "131  Tom Clancy's Splinter Cell: Chaos Theory is a ...   \n",
      "132  Voyeur and Voyeur II were full motion video ga...   \n",
      "133  Watch Dogs (stylized as WATCH_DOGS) is an upco...   \n",
      "134  Wolfenstein is a first-person shooter video ga...   \n",
      "135  Wolfenstein 3D is a first-person shooter video...   \n",
      "\n",
      "                                             Developer  \\\n",
      "0        Interscope Records|High Voltage|Genuine Games   \n",
      "1                    Ubisoft|Griptonite Games|Gameloft   \n",
      "2                                      Electronic Arts   \n",
      "3                                      Electronic Arts   \n",
      "4                                           Arc System   \n",
      "..                                                 ...   \n",
      "131                                   Gameloft|Ubisoft   \n",
      "132  Philips POV Entertainment Group|InterWeave Ent...   \n",
      "133                                            Ubisoft   \n",
      "134                         Id Software|Raven Software   \n",
      "135  Id Software|Rebecca Heineman|Ninjaforce|Stalke...   \n",
      "\n",
      "                                             Publisher  \\\n",
      "0                                 Sierra|Vivendi Games   \n",
      "1                                              Ubisoft   \n",
      "2                                 Electronic Arts|Sega   \n",
      "3                                      Electronic Arts   \n",
      "4                               Arc System Works|Aksys   \n",
      "..                                                 ...   \n",
      "131                                   Ubisoft|Gameloft   \n",
      "132            MacPlay|Philips|Interplay Entertainment   \n",
      "133                                            Ubisoft   \n",
      "134                                         Activision   \n",
      "135  Apogee|Manaccom|Interplay Entertainment|BAM! E...   \n",
      "\n",
      "                                           Genre  \\\n",
      "0                                         Action   \n",
      "1    Historical fiction|Stealth|Action|Adventure   \n",
      "2                           First-person shooter   \n",
      "3                           First-person shooter   \n",
      "4                                       Fighting   \n",
      "..                                           ...   \n",
      "131                                      Stealth   \n",
      "132                                  Full Motion   \n",
      "133                             Action|Adventure   \n",
      "134                         First-person shooter   \n",
      "135                         First-person shooter   \n",
      "\n",
      "                                              Homepage  \n",
      "0                                                  NaN  \n",
      "1                        http://www.assassinscreed.com  \n",
      "2              http://www.battlefield.com/battlefield3  \n",
      "3             http://www.battlefield.com/battlefield-4  \n",
      "4                               http://blazblue.jp/ac/  \n",
      "..                                                 ...  \n",
      "131                                                NaN  \n",
      "132                                                NaN  \n",
      "133                      http://www.watchdogs.ubi.com/  \n",
      "134                                                NaN  \n",
      "135  http://www.idsoftware.com/games/wolfenstein/wo...  \n",
      "\n",
      "[136 rows x 14 columns]\n"
     ]
    }
   ],
   "source": [
    "import pandas as pd\n",
    "# read the CSV file\n",
    "df = pd.read_csv(\"Games.csv\")\n",
    "# display the data in a table\n",
    "print(df)"
   ]
  },
  {
   "attachments": {},
   "cell_type": "markdown",
   "metadata": {},
   "source": [
    "## Question Hacks;\n",
    "\n",
    "\n",
    "NumPy and Pandas are two popular Python libraries that are commonly used in data analysis.\n",
    "\n",
    "NumPy stands for Numerical Python, and it is a library that provides support for large, multi-dimensional arrays and matrices, along with a large collection of high-level mathematical functions to operate on these arrays. NumPy is widely used in scientific computing and data analysis, and it provides efficient and fast operations on arrays that are crucial for numerical computations.\n",
    "\n",
    "Pandas is a library built on top of NumPy, and it provides high-level data manipulation tools that are designed to work with structured or tabular data. Pandas provides a DataFrame data structure that is similar to a spreadsheet, which can be used to manipulate and analyze data in various ways. Pandas makes it easy to load, manipulate, and analyze data from a variety of sources.\n",
    "\n",
    "NumPy and Pandas have some differences in terms of their intended use and features. NumPy is primarily focused on numerical computations and array operations, while Pandas is designed to work with structured data, including reading and writing data in various formats, cleaning and transforming data, and performing aggregations and statistical analysis.\n",
    "\n",
    "A DataFrame is a two-dimensional table-like data structure in Pandas that can hold data of different types in its columns. A DataFrame can be thought of as a spreadsheet or a SQL table, where each row corresponds to a record or an observation, and each column corresponds to a feature or a variable.\n",
    "\n",
    "Some common operations that can be performed using NumPy include mathematical operations on arrays, linear algebra operations, statistical operations, and array manipulation operations such as reshaping, slicing, and indexing.\n",
    "\n",
    "You can use NumPy for numerical computations and array operations, and Pandas for data cleaning, manipulation, and analysis tasks, including loading data from different sources, cleaning data, selecting and filtering data, performing aggregations, and visualizing data."
   ]
  }
 ],
 "metadata": {
  "kernelspec": {
   "display_name": "base",
   "language": "python",
   "name": "python3"
  },
  "language_info": {
   "codemirror_mode": {
    "name": "ipython",
    "version": 3
   },
   "file_extension": ".py",
   "mimetype": "text/x-python",
   "name": "python",
   "nbconvert_exporter": "python",
   "pygments_lexer": "ipython3",
   "version": "3.9.12"
  },
  "orig_nbformat": 4
 },
 "nbformat": 4,
 "nbformat_minor": 2
}
