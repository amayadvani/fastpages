{
 "cells": [
  {
   "cell_type": "markdown",
   "metadata": {},
   "source": [
    "---\n",
    "# List/Dictionary Hacks\n",
    "> List, Iterations, and Dictionaries with for loop\n",
    "\n",
    "- toc: true\n",
    "- comments: true\n",
    "- categories: [jupyter]\n",
    "- author: Amay Advani\n",
    "--- "
   ]
  },
  {
   "cell_type": "markdown",
   "metadata": {},
   "source": [
    "### Reversed Numbers"
   ]
  },
  {
   "cell_type": "code",
   "execution_count": 12,
   "metadata": {},
   "outputs": [
    {
     "name": "stdout",
     "output_type": "stream",
     "text": [
      "- num[ 0 ] six <class 'str'>\n",
      "- num[ 1 ] five <class 'str'>\n",
      "- num[ 2 ] four <class 'str'>\n",
      "- num[ 3 ] three <class 'str'>\n",
      "- num[ 4 ] two <class 'str'>\n",
      "- num[ 5 ] one <class 'str'>\n"
     ]
    }
   ],
   "source": [
    "num = [\"one\", \"two\", \"three\", \"four\", \"five\", \"six\"]\n",
    "numC = 0k\n",
    "for x in reversed(num):\n",
    "    if numC-2<len(num):\n",
    "        print(\"- num[\",numC,\"]\", x, type(num[numC]))\n",
    "        numC += 1"
   ]
  },
  {
   "cell_type": "markdown",
   "metadata": {},
   "source": [
    "### New Record and Input record"
   ]
  },
  {
   "cell_type": "code",
   "execution_count": 56,
   "metadata": {},
   "outputs": [
    {
     "name": "stdout",
     "output_type": "stream",
     "text": [
      "Please enter your first name:\n",
      "Amay\n",
      "Please enter your last name:\n",
      "Advani\n",
      "Please enter your date of birth:\n",
      "June 10\n",
      "Please enter your county:\n",
      "San Diego\n",
      "Please enter your favorite color:\n",
      "blue\n",
      "Please input your favorite movie:\n",
      "Harry Potter\n",
      "Please input your owned cars:\n",
      "2012 Prius\n",
      "[{'FirstName': 'John', 'LastName': 'Mortensen', 'DOB': 'October 21', 'Residence': 'San Diego', 'Email': 'jmortensen@powayusd.com', 'Owns_Cars': ['2015-Fusion', '2011-Ranger', '2003-Excursion', '1997-F350', '1969-Cadillac']}, {'FirstName': 'Sunny', 'LastName': 'Naidu', 'DOB': 'August 2', 'Residence': 'Temecula', 'Email': 'snaidu@powayusd.com', 'Owns_Cars': ['4Runner']}, {'FirstName': 'Sarah', 'LastName': 'Liu', 'DOB': 'January 12', 'Residence': 'San Diego', 'Email': 'mail2sarahl@gmail.com', 'Owns_Cars': ['2010 Lexus IS 250']}, {'FirstName': 'Amay', 'LastName': 'Advani', 'DOB': 'June 10', 'Residence': 'San Diego', 'Fav_Color': 'blue', 'Fav_movie': 'Harry Potter', 'Owns_Cars': '2012 Prius'}]\n"
     ]
    }
   ],
   "source": [
    "# Define an empty List called InfoDb\n",
    "import getpass, sys\n",
    "\n",
    "InfoDb = []\n",
    "\n",
    "InfoDb.append({\n",
    "    \"FirstName\": \"John\",\n",
    "    \"LastName\": \"Mortensen\",\n",
    "    \"DOB\": \"October 21\",\n",
    "    \"Residence\": \"San Diego\",\n",
    "    \"Email\": \"jmortensen@powayusd.com\",\n",
    "    \"Owns_Cars\": [\"2015-Fusion\", \"2011-Ranger\", \"2003-Excursion\", \"1997-F350\", \"1969-Cadillac\"]\n",
    "})\n",
    "\n",
    "# Append to List a 2nd Dictionary of key/values\n",
    "InfoDb.append({\n",
    "    \"FirstName\": \"Sunny\",\n",
    "    \"LastName\": \"Naidu\",\n",
    "    \"DOB\": \"August 2\",\n",
    "    \"Residence\": \"Temecula\",\n",
    "    \"Email\": \"snaidu@powayusd.com\",\n",
    "    \"Owns_Cars\": [\"4Runner\"]\n",
    "})\n",
    "\n",
    "InfoDb.append({\n",
    "  \"FirstName\": \"Sarah\",\n",
    "    \"LastName\": \"Liu\",\n",
    "    \"DOB\": \"January 12\",\n",
    "    \"Residence\": \"San Diego\",\n",
    "    \"Email\": \"mail2sarahl@gmail.com\",\n",
    "    \"Owns_Cars\": [\"2010 Lexus IS 250\"]\n",
    "})\n",
    "\n",
    "print(\"Please enter your first name:\")\n",
    "fn = input()\n",
    "print(fn)\n",
    "print(\"Please enter your last name:\")\n",
    "ln = input()\n",
    "print(ln)\n",
    "print(\"Please enter your date of birth:\")\n",
    "dob = input()\n",
    "print(dob)\n",
    "print(\"Please enter your county:\")\n",
    "county = input()\n",
    "print(county)\n",
    "print(\"Please enter your favorite color:\")\n",
    "color = input()\n",
    "print(color)\n",
    "print(\"Please input your favorite movie:\")\n",
    "movie = input()\n",
    "print(movie)\n",
    "print(\"Please input your owned cars:\")\n",
    "Owns_Cars = input()\n",
    "print(Owns_Cars)\n",
    "\n",
    "# Append to List a Dictionary of key/values related to a person and cars\n",
    "InfoDb.append({\n",
    "\n",
    "  \"FirstName\": fn,\n",
    "    \"LastName\": ln,\n",
    "    \"DOB\": dob,\n",
    "    \"Residence\": county,\n",
    "    \"Fav_Color\": color,\n",
    "    \"Fav_movie\": movie,\n",
    "    \"Owns_Cars\": Owns_Cars\n",
    "})\n",
    "\n",
    "\n",
    "\n",
    "# Print the data structure\n",
    "print(InfoDb)"
   ]
  },
  {
   "cell_type": "markdown",
   "metadata": {},
   "source": [
    "### For Loop through index"
   ]
  },
  {
   "cell_type": "code",
   "execution_count": 62,
   "metadata": {},
   "outputs": [
    {
     "name": "stdout",
     "output_type": "stream",
     "text": [
      "For loop output\n",
      "\n",
      "John Mortensen\n",
      "\t Residence: San Diego\n",
      "\t Birth Day: October 21\n",
      "\t Cars:  ['2015-Fusion', '2011-Ranger', '2003-Excursion', '1997-F350', '1969-Cadillac']\n",
      "\n",
      "Sunny Naidu\n",
      "\t Residence: Temecula\n",
      "\t Birth Day: August 2\n",
      "\t Cars:  ['4Runner']\n",
      "\n",
      "Sarah Liu\n",
      "\t Residence: San Diego\n",
      "\t Birth Day: January 12\n",
      "\t Cars:  ['2010 Lexus IS 250']\n",
      "\n",
      "Amay Advani\n",
      "\t Residence: San Diego\n",
      "\t Birth Day: June 10\n",
      "\t Cars:  2012 Prius\n",
      "\n"
     ]
    }
   ],
   "source": [
    "# given and index this will print InfoDb content\n",
    "def print_data(d_rec):\n",
    "    print(d_rec[\"FirstName\"], d_rec[\"LastName\"])  # using comma puts space between values\n",
    "    print(\"\\t\", \"Residence:\", d_rec[\"Residence\"]) # \\t is a tab indent\n",
    "    print(\"\\t\", \"Birth Day:\", d_rec[\"DOB\"])\n",
    "    print(\"\\t\", \"Cars: \",d_rec[\"Owns_Cars\"])  # end=\"\" make sure no return occurs\n",
    "   # print(\", \".join(d_rec[\"Owns_Cars\"]))  # join allows printing a string list with separator\n",
    "    print()\n",
    "\n",
    "\n",
    "# for loop iterates on length of InfoDb\n",
    "def for_loop():\n",
    "    print(\"For loop output\\n\")\n",
    "    for record in InfoDb:\n",
    "        print_data(record)\n",
    "\n",
    "for_loop()"
   ]
  },
  {
   "cell_type": "markdown",
   "metadata": {},
   "source": [
    "### Quiz that Stores in list/dictionaries "
   ]
  },
  {
   "cell_type": "code",
   "execution_count": 77,
   "metadata": {},
   "outputs": [
    {
     "name": "stdout",
     "output_type": "stream",
     "text": [
      "Question: Which country gifted the Statue of Liberty to the US? \t 1 for France \t 2 for England \t 3 for Germany \t 4 or Italy\n",
      "Answer: 1\n",
      "Good Job! That is the right answer!\n",
      "Question: What is the name of the longest river in South America? \t 1 for Mississippi River \t 2 for Amazon River\n",
      "Answer: 2\n",
      "Good Job! That is the right answer!\n",
      "Question: Which fictional city is the home of Batman? \t 1 for San Diego \t 2 for Central City \t 3 for Gotham City  \n",
      "Answer: 3\n",
      "Good Job! That is the right answer!\n",
      "Question: How many feet are in a mile?\n",
      "Answer: 5820\n",
      "That is Wrong!\n",
      "Question:  Who is the author of the Harry Potter series \t 1 for JK Rowling \t 2 for Rick Riordan \t 3 for William Shakespeare\n",
      "Answer: 1\n",
      "Good Job! That is the right answer!\n",
      "Question: What number is the iron in the periodic table of elements?\n",
      "Answer: 26\n",
      "Good Job! That is the right answer!\n",
      "5 answers correct 83.33333333333333 %\n",
      "Your answers: {'Question One': '1', 'Question Two': '2', 'Question Three ': '3', 'Question Four ': '5820', 'Question Five': '1', 'Question Six': '26'}\n"
     ]
    }
   ],
   "source": [
    "questions = 6\n",
    "correct = 0\n",
    "\n",
    "def question_and_answer(prompt, answer):\n",
    "    print(\"Question: \" + prompt)\n",
    "    inp = input()\n",
    "    print(\"Answer: \" + inp)\n",
    "    \n",
    "    if answer == inp.lower():\n",
    "        print(\"Good Job! That is the right answer!\")\n",
    "        global correct\n",
    "        correct += 1\n",
    "    else:\n",
    "        print (\"That is Wrong!\")\n",
    "        \n",
    "    return inp\n",
    " \n",
    "Question1 = question_and_answer(\"Which country gifted the Statue of Liberty to the US? \\t 1 for France \\t 2 for England \\t 3 for Germany \\t 4 or Italy\", \"1\")\n",
    "Question2 = question_and_answer(\"What is the name of the longest river in South America? \\t 1 for Mississippi River \\t 2 for Amazon River\", \"2\")\n",
    "Question3 = question_and_answer(\"Which fictional city is the home of Batman? \\t 1 for San Diego \\t 2 for Central City \\t 3 for Gotham City  \", \"3\")\n",
    "Question4 = question_and_answer(\"How many feet are in a mile?\", \"5280\")\n",
    "Question5 = question_and_answer(\" Who is the author of the Harry Potter series \\t 1 for JK Rowling \\t 2 for Rick Riordan \\t 3 for William Shakespeare\", \"1\")\n",
    "Question6 = question_and_answer(\"What number is the iron in the periodic table of elements?\", \"26\")\n",
    "\n",
    "print(correct, \"answers correct\", correct*100/questions,\"%\")\n",
    "    \n",
    "Quiz = {\n",
    "    \"Question One\": Question1 ,\n",
    "    \"Question Two\": Question2 ,\n",
    "    \"Question Three \": Question3,\n",
    "    \"Question Four \": Question4,\n",
    "    \"Question Five\": Question5,\n",
    "    \"Question Six\": Question6\n",
    "}\n",
    "\n",
    "print(\"Your answers:\",Quiz)"
   ]
  },
  {
   "cell_type": "markdown",
   "metadata": {},
   "source": [
    "## Hacks\n",
    "- Add a couple of records to the InfoDb\n",
    "- Try to do a for loop with an index\n",
    "- Pair Share code somethings creative or unique, with loops and data. Hints...\n",
    "    - Would it be possible to output data in a reverse order?\n",
    "    - Are there other methods that can be performed on lists?\n",
    "    - Could you create new or add to dictionary data set?  Could you do it with input?\n",
    "    - Make a quiz that stores in a List of Dictionaries."
   ]
  }
 ],
 "metadata": {
  "kernelspec": {
   "display_name": "Python 3.8.10 64-bit",
   "language": "python",
   "name": "python3"
  },
  "language_info": {
   "codemirror_mode": {
    "name": "ipython",
    "version": 3
   },
   "file_extension": ".py",
   "mimetype": "text/x-python",
   "name": "python",
   "nbconvert_exporter": "python",
   "pygments_lexer": "ipython3",
   "version": "3.8.10"
  },
  "orig_nbformat": 4,
  "vscode": {
   "interpreter": {
    "hash": "916dbcbb3f70747c44a77c7bcd40155683ae19c65e1c03b4aa3499c5328201f1"
   }
  }
 },
 "nbformat": 4,
 "nbformat_minor": 2
}
