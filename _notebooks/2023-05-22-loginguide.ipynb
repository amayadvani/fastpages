{
 "cells": [
  {
   "attachments": {},
   "cell_type": "markdown",
   "metadata": {},
   "source": [
    "# Login Guide!\n",
    "> Step by step proccess explaining how to make a login page for any given site. \n",
    "- toc: true\n",
    "- author: Amay Advani"
   ]
  },
  {
   "attachments": {},
   "cell_type": "markdown",
   "metadata": {},
   "source": [
    "### 1. HTML Structure: 30 mins\n",
    "\n",
    "The code begins with <!DOCTYPE html>, which declares the document type as HTML.\n",
    "The html tags enclose the entire HTML content.\n",
    "Inside the html tags, we have the head and body sections.\n",
    "\n",
    "### 2. head Section:\n",
    "\n",
    "The head section contains metadata and external resources.\n",
    "The title element sets the title of the web page, which will be displayed on the browser's title bar.\n",
    "\n",
    "### 3. CSS Styling: 1 hour with trial and error\n",
    "\n",
    "The code includes a style block to define CSS styles for the login page.\n",
    "The .container class sets up a container div with flexbox properties to center the content both vertically and horizontally.\n",
    "The <h1> tag styles the login heading with a color of #333.\n",
    "The CSS rules for input[type=\"text\"] and input[type=\"password\"] specify the width, padding, margin, border, and border-radius for the input fields.\n",
    "The button selector defines styles for the login button.\n",
    "\n",
    "### 4. body Section:\n",
    "\n",
    "The body section contains the visible content of the web page.\n",
    "The login page is wrapped within a div element with a class of \"container\".\n",
    "Inside the container, there is an h1 element displaying the heading \"Login\".\n",
    "A form element with an id of \"loginForm\" wraps the login inputs and the submit button."
   ]
  },
  {
   "cell_type": "code",
   "execution_count": null,
   "metadata": {
    "vscode": {
     "languageId": "html"
    }
   },
   "outputs": [],
   "source": [
    "<html>\n",
    "<head>\n",
    "  <title>ALAAT Login Page</title>\n",
    "  <style>\n",
    "    /* CSS styles for the login page */\n",
    "    .container {\n",
    "      display: flex;\n",
    "      flex-direction: column;\n",
    "      align-items: center;\n",
    "      justify-content: center;\n",
    "      height: 100vh;\n",
    "    }\n",
    "    h1 {\n",
    "      color: #333;\n",
    "    }\n",
    "    input[type=\"text\"],\n",
    "    input[type=\"password\"] {\n",
    "      width: 300px;\n",
    "      padding: 10px;\n",
    "      margin: 10px;\n",
    "      border: 1px solid #ccc;\n",
    "      border-radius: 4px;\n",
    "    }\n",
    "    button {\n",
    "      padding: 10px 20px;\n",
    "      background-color: #333;\n",
    "      color: #fff;\n",
    "      border: none;\n",
    "      border-radius: 4px;\n",
    "      cursor: pointer;\n",
    "    }\n",
    "  </style>\n",
    "  </head>"
   ]
  },
  {
   "attachments": {},
   "cell_type": "markdown",
   "metadata": {},
   "source": [
    "**HTML and CSS Example**"
   ]
  },
  {
   "attachments": {},
   "cell_type": "markdown",
   "metadata": {},
   "source": [
    "### 5.Form Inputs: 30 mins\n",
    "\n",
    "Inside the form, there are two input fields:\n",
    "The first input field has type=\"text\" and an id of \"usernameInput\". It is used for entering the username.\n",
    "The second input field has type=\"password\" and an id of \"passwordInput\". It is used for entering the password.\n",
    "Both input fields have a placeholder attribute that provides a hint to the user about what to enter.\n",
    "\n",
    "### 6. Login Button:\n",
    "\n",
    "The code includes a button element with an id of \"loginBtn\". It represents the login button.\n"
   ]
  },
  {
   "cell_type": "code",
   "execution_count": null,
   "metadata": {
    "vscode": {
     "languageId": "html"
    }
   },
   "outputs": [],
   "source": [
    "<body>\n",
    "   <div class=\"container\">\n",
    "     <h1>Login</h1>\n",
    "     <form id=\"loginForm\">\n",
    "       <input type=\"text\" id=\"usernameInput\" placeholder=\"Username\">\n",
    "       <input type=\"password\" id=\"passwordInput\" placeholder=\"Password\">\n",
    "       <button id=\"loginBtn\">Login</button>\n",
    "     </form>\n",
    "   </div> "
   ]
  },
  {
   "attachments": {},
   "cell_type": "markdown",
   "metadata": {},
   "source": [
    "### 7. JavaScript Section: 1 hour\n",
    "\n",
    "The script block contains JavaScript code that adds interactivity to the login page.\n",
    "The JavaScript code is executed when the DOMContentLoaded event is fired, which ensures that the page has finished loading before the script runs.\n",
    "\n",
    "### 8. User Dictionary:\n",
    "\n",
    "The code declares a JavaScript variable named users which is a dictionary object.\n",
    "The users object stores username-password pairs as key-value pairs.\n",
    "In this example, the usernames and passwords are defined as group members first and last names. \n",
    "\n",
    "### 9. Event Listeners and Handling:\n",
    "\n",
    "The code attaches an event listener to the login form using the addEventListener method.\n",
    "When the form is submitted, the event listener callback function is executed.\n",
    "The callback function prevents the default form submission behavior using event.preventDefault().\n",
    "It retrieves the values of the username and password input fields.\n",
    "It checks if the entered username exists in the users dictionary and if the associated password matches.\n",
    "If the credentials are valid, the page is redirected to YouTube (https://www.youtube.com) using window.location.href.\n",
    "If the credentials are invalid, an alert is displayed to the user."
   ]
  },
  {
   "cell_type": "code",
   "execution_count": null,
   "metadata": {
    "vscode": {
     "languageId": "html"
    }
   },
   "outputs": [],
   "source": [
    "<script>\n",
    "   // Dictionary to store username-password pairs\n",
    "   var users = {\n",
    "     \"amay\": \"advani\",\n",
    "     \"arnav\": \"kanekar\",\n",
    "     \"taiyo\": \"iwazaki\",\n",
    "     \"adi\": \"nawandhar\",\n",
    "     \"liav\": \"bar\"\n",
    "   };\n",
    "   document.addEventListener('DOMContentLoaded', function() {\n",
    "     var loginForm = document.getElementById('loginForm');\n",
    "     var usernameInput = document.getElementById('usernameInput');\n",
    "     var passwordInput = document.getElementById('passwordInput');\n",
    "\n",
    "     loginForm.addEventListener('submit', function(event) {\n",
    "       event.preventDefault(); // Prevent form submission\n",
    "\n",
    "       var username = usernameInput.value;\n",
    "       var password = passwordInput.value;\n",
    "\n",
    "       // Check if the username and password match\n",
    "       if (users.hasOwnProperty(username) && users[username] === password) {\n",
    "         window.location.href = 'https://www.youtube.com'; // Redirect to YouTube\n",
    "       } else {\n",
    "         alert(\"Your username or password is wrong. Do better next time!\");\n",
    "       }\n",
    "     });\n",
    "   });\n",
    " </script>"
   ]
  },
  {
   "attachments": {},
   "cell_type": "markdown",
   "metadata": {},
   "source": [
    "### Challenges + Changes 1 hour\n",
    "\n",
    "Intially, when I started to code this feature, I was planning on encorperating a backend function to let different users create their owne accounts and login using an API. But as our group thought through this, we realized that only admin logins were needed for the photo upload and tagging. \n",
    "\n",
    "A solution I came up with is to replace the use of an API with regular dictionary that used usernames as keys, and passwords as values. This soulution also decreased complexity and helps with the effiency of our program as a whole. "
   ]
  }
 ],
 "metadata": {
  "language_info": {
   "name": "python"
  },
  "orig_nbformat": 4
 },
 "nbformat": 4,
 "nbformat_minor": 2
}
